{
 "cells": [
  {
   "attachments": {},
   "cell_type": "markdown",
   "metadata": {},
   "source": [
    "## Homoscedasticity"
   ]
  },
  {
   "cell_type": "code",
   "execution_count": 3,
   "metadata": {},
   "outputs": [],
   "source": [
    "from sklearn.datasets import load_wine\n",
    "from sklearn.model_selection import train_test_split\n",
    "from sklearn.linear_model import LinearRegression\n",
    "import matplotlib.pyplot as plt\n",
    "import numpy as np"
   ]
  },
  {
   "cell_type": "code",
   "execution_count": 4,
   "metadata": {},
   "outputs": [],
   "source": [
    "\n",
    "# Load the dataset\n",
    "wine = load_wine()\n",
    "\n",
    "# Split into training and test sets\n",
    "X_train, X_test, y_train, y_test = train_test_split(wine.data, wine.target, test_size=0.2, random_state=42)\n",
    "\n",
    "# Fit a linear regression model\n",
    "reg = LinearRegression().fit(X_train, y_train)\n",
    "\n",
    "# Make predictions on the test set\n",
    "y_pred = reg.predict(X_test)\n",
    "\n",
    "# Calculate the residuals\n",
    "residuals = y_test - y_pred"
   ]
  },
  {
   "cell_type": "code",
   "execution_count": 6,
   "metadata": {},
   "outputs": [
    {
     "data": {
      "text/plain": [
       "<matplotlib.collections.PathCollection at 0x21a939c5a90>"
      ]
     },
     "execution_count": 6,
     "metadata": {},
     "output_type": "execute_result"
    },
    {
     "data": {
      "image/png": "[encoded data removed]",
      "text/plain": [
       "<Figure size 640x480 with 1 Axes>"
      ]
     },
     "metadata": {},
     "output_type": "display_data"
    }
   ],
   "source": [
    "\n",
    "# Plot the residuals vs. fitted values\n",
    "fig, ax = plt.subplots()\n",
    "ax.scatter(y_pred, residuals)\n",
    "ax.axhline(y=0, color='black', linestyle='--')\n",
    "ax.set_xlabel('Fitted Values')\n",
    "ax.set_ylabel('Residuals')\n",
    "ax.set_title('Residuals vs. Fitted Values')\n",
    "plt.show()\n"
   ]
  },
  {
   "attachments": {},
   "cell_type": "markdown",
   "metadata": {},
   "source": [
    "* No clear pattern in the plot: If there is a clear pattern (such as a funnel shape or a curve) in the plot, it may indicate heteroscedasticity.\n",
    "* Constant spread of the residuals: If the spread of the residuals is relatively constant across all levels of fitted values, it indicates homoscedasticity. If the spread of the residuals increases or decreases as the fitted values increase, it may indicate heteroscedasticity.\n",
    "* No outliers: Outliers in the plot can affect the conclusion about homoscedasticity."
   ]
  },
  {
   "cell_type": "markdown",
   "metadata": {},
   "source": [
    "### Bartlett's test using Python"
   ]
  },
  {
   "cell_type": "code",
   "execution_count": 7,
   "metadata": {},
   "outputs": [
    {
     "name": "stdout",
     "output_type": "stream",
     "text": [
      "Bartlett's test p-value: 7.16434096383359e-284\n"
     ]
    }
   ],
   "source": [
    "from scipy.stats import bartlett\n",
    "residuals = y_test - y_pred\n",
    "bartlett_test = bartlett(residuals, X_test[:,0], X_test[:,1], X_test[:,2], X_test[:,3], X_test[:,4], X_test[:,5], X_test[:,6], X_test[:,7], X_test[:,8], X_test[:,9], X_test[:,10])\n",
    "print(\"Bartlett's test p-value:\", bartlett_test[1])\n"
   ]
  },
  {
   "attachments": {},
   "cell_type": "markdown",
   "metadata": {},
   "source": [
    "Bartlett's test: This test assumes normality of the residuals and tests whether the variance of the residuals is equal across all levels of the predictor variable. The null hypothesis is that the variances are equal. If the p-value of the test is greater than a chosen significance level (such as 0.05), then we fail to reject the null hypothesis and conclude that there is homoscedasticity. Otherwise, we reject the null hypothesis and conclude that there is heteroscedasticity.\n",
    "Here p-value is less than the significance level, so there is no homoscedasticity"
   ]
  }
 ],
 "metadata": {
  "kernelspec": {
   "display_name": "Python 3",
   "language": "python",
   "name": "python3"
  },
  "language_info": {
   "codemirror_mode": {
    "name": "ipython",
    "version": 3
   },
   "file_extension": ".py",
   "mimetype": "text/x-python",
   "name": "python",
   "nbconvert_exporter": "python",
   "pygments_lexer": "ipython3",
   "version": "3.11.1"
  },
  "orig_nbformat": 4
 },
 "nbformat": 4,
 "nbformat_minor": 2
}
