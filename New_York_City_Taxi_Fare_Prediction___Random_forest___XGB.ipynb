{
  "cells": [
    {
      "cell_type": "markdown",
      "source": [
        "# Objective\n",
        "This dataset is a record of taxi trips in New York City, split into training and test datasets.\n",
        "\n",
        "Training and test observations both have the same features: passenger count, pickup longitude, pickup latitude, dropoff longitude, dropoff latitude and pickup datetime.\n",
        "\n",
        "Training observations are labeled with the fare amount paid.\n",
        "\n",
        "Our objective is to create a model that will accurately estimate the fare amount of trips in the test dataset. Accuracy is measured by root mean square error.\n",
        "\n",
        "We will also be performing exploratory data analysis in an attempt to better understand the dataset."
      ],
      "metadata": {
        "id": "OM-3893f_09C"
      }
    },
    {
      "cell_type": "markdown",
      "source": [
        "# **`Data fields`**\n",
        "\n",
        "### `ID`\n",
        "* `key` - Unique string identifying each row in both the training and test sets. Comprised of `pickup_datetime` plus a unique integer, but this doesn't matter, it should just be used as a unique ID field.\n",
        "Required in your submission CSV. Not necessarily needed in the training set, but could be useful to simulate a 'submission file' while doing cross-validation within the training set."
      ],
      "metadata": {
        "id": "W1D2Mo1SeHog"
      }
    },
    {
      "cell_type": "markdown",
      "source": [
        "# **`Features`**\n",
        "* `pickup_datetime` - timestamp value indicating when the taxi ride started.\n",
        "* `pickup_longitude` - float for longitude coordinate of where the taxi ride started.\n",
        "* `pickup_latitude` - float for latitude coordinate of where the taxi ride started.\n",
        "* `dropoff_longitude` - float for longitude coordinate of where the taxi ride ended.\n",
        "* `dropoff_latitude` - float for latitude coordinate of where the taxi ride ended.\n",
        "* `passenger_count` - integer indicating the number of passengers in the taxi ride."
      ],
      "metadata": {
        "id": "CyiHXIjgeMSS"
      }
    },
    {
      "cell_type": "markdown",
      "source": [
        "# **`Target`**\n",
        "* `fare_amount` - float dollar amount of the cost of the taxi ride. This value is only in the training set; this is what you are predicting in the test set and it is required in your submission CSV."
      ],
      "metadata": {
        "id": "kPROvEPNeP6i"
      }
    },
    {
      "cell_type": "markdown",
      "source": [
        "# **Installing Libraries**"
      ],
      "metadata": {
        "id": "97L6Uhjqe2sJ"
      }
    },
    {
      "cell_type": "code",
      "execution_count": 3,
      "metadata": {
        "id": "SbwQwKNH_52u"
      },
      "outputs": [],
      "source": [
        "!pip install numpy pandas jovian opendatasets scikit-learn xgboost --quiet"
      ]
    },
    {
      "cell_type": "code",
      "execution_count": 4,
      "metadata": {
        "id": "WJ_7bEkXBxlc"
      },
      "outputs": [],
      "source": [
        "import jovian"
      ]
    },
    {
      "cell_type": "code",
      "execution_count": 5,
      "metadata": {
        "colab": {
          "base_uri": "https://localhost:8080/"
        },
        "id": "K8KH9yp5BySO",
        "outputId": "c64dfc25-b56a-4782-dc54-46c4edc12182"
      },
      "outputs": [
        {
          "output_type": "stream",
          "name": "stdout",
          "text": [
            "[jovian] Detected Colab notebook...\u001b[0m\n",
            "[jovian] jovian.commit() is no longer required on Google Colab. If you ran this notebook from Jovian, \n",
            "then just save this file in Colab using Ctrl+S/Cmd+S and it will be updated on Jovian. \n",
            "Also, you can also delete this cell, it's no longer necessary.\u001b[0m\n"
          ]
        }
      ],
      "source": [
        "jovian.commit()"
      ]
    },
    {
      "cell_type": "code",
      "execution_count": 6,
      "metadata": {
        "id": "eNnbJSO6B1RP"
      },
      "outputs": [],
      "source": [
        "import opendatasets as od"
      ]
    },
    {
      "cell_type": "code",
      "execution_count": 7,
      "metadata": {
        "id": "pBI86FDYB7Zn"
      },
      "outputs": [],
      "source": [
        "dataset_url = 'https://www.kaggle.com/c/new-york-city-taxi-fare-prediction/overview'"
      ]
    },
    {
      "cell_type": "code",
      "execution_count": 8,
      "metadata": {
        "colab": {
          "base_uri": "https://localhost:8080/"
        },
        "id": "yH857oxsB9cq",
        "outputId": "fef0836d-ac13-4091-c141-6556e04f2b75"
      },
      "outputs": [
        {
          "output_type": "stream",
          "name": "stdout",
          "text": [
            "Skipping, found downloaded files in \"./new-york-city-taxi-fare-prediction\" (use force=True to force download)\n",
            "CPU times: user 1.2 ms, sys: 35 µs, total: 1.24 ms\n",
            "Wall time: 1.25 ms\n"
          ]
        }
      ],
      "source": [
        "%%time\n",
        "od.download(dataset_url)"
      ]
    },
    {
      "cell_type": "code",
      "execution_count": 9,
      "metadata": {
        "id": "3bgq6T15B_pW"
      },
      "outputs": [],
      "source": [
        "data_dir = './new-york-city-taxi-fare-prediction'"
      ]
    },
    {
      "cell_type": "markdown",
      "metadata": {
        "id": "GTqwSjZAEOfi"
      },
      "source": [
        "### **`View Dataset Files`** "
      ]
    },
    {
      "cell_type": "code",
      "execution_count": 10,
      "metadata": {
        "colab": {
          "base_uri": "https://localhost:8080/"
        },
        "id": "GycadKSPEEJJ",
        "outputId": "e108eb4a-a230-4646-ed80-9995edd2d114"
      },
      "outputs": [
        {
          "output_type": "stream",
          "name": "stdout",
          "text": [
            "total 5.4G\n",
            "-rw-r--r-- 1 root root  486 Nov 19 06:26 GCP-Coupons-Instructions.rtf\n",
            "-rw-r--r-- 1 root root 336K Nov 19 06:26 sample_submission.csv\n",
            "-rw-r--r-- 1 root root 960K Nov 19 06:26 test.csv\n",
            "-rw-r--r-- 1 root root 5.4G Nov 19 06:27 train.csv\n"
          ]
        }
      ],
      "source": [
        "# List of files with size\n",
        "!ls -lh {data_dir}"
      ]
    },
    {
      "cell_type": "code",
      "execution_count": 11,
      "metadata": {
        "colab": {
          "base_uri": "https://localhost:8080/"
        },
        "id": "HmgReKO8ETq8",
        "outputId": "4a40c38b-1984-4829-8fc5-b08773f8826d"
      },
      "outputs": [
        {
          "output_type": "stream",
          "name": "stdout",
          "text": [
            "key,fare_amount,pickup_datetime,pickup_longitude,pickup_latitude,dropoff_longitude,dropoff_latitude,passenger_count\r\n",
            "2009-06-15 17:26:21.0000001,4.5,2009-06-15 17:26:21 UTC,-73.844311,40.721319,-73.84161,40.712278,1\r\n",
            "2010-01-05 16:52:16.0000002,16.9,2010-01-05 16:52:16 UTC,-74.016048,40.711303,-73.979268,40.782004,1\r\n",
            "2011-08-18 00:35:00.00000049,5.7,2011-08-18 00:35:00 UTC,-73.982738,40.76127,-73.991242,40.750562,2\r\n",
            "2012-04-21 04:30:42.0000001,7.7,2012-04-21 04:30:42 UTC,-73.98713,40.733143,-73.991567,40.758092,1\r\n",
            "2010-03-09 07:51:00.000000135,5.3,2010-03-09 07:51:00 UTC,-73.968095,40.768008,-73.956655,40.783762,1\r\n",
            "2011-01-06 09:50:45.0000002,12.1,2011-01-06 09:50:45 UTC,-74.000964,40.73163,-73.972892,40.758233,1\r\n",
            "2012-11-20 20:35:00.0000001,7.5,2012-11-20 20:35:00 UTC,-73.980002,40.751662,-73.973802,40.764842,1\r\n",
            "2012-01-04 17:22:00.00000081,16.5,2012-01-04 17:22:00 UTC,-73.9513,40.774138,-73.990095,40.751048,1\r\n",
            "2012-12-03 13:10:00.000000125,9,2012-12-03 13:10:00 UTC,-74.006462,40.726713,-73.993078,40.731628,1\r\n"
          ]
        }
      ],
      "source": [
        "# Training set\n",
        "!head {data_dir}/train.csv"
      ]
    },
    {
      "cell_type": "code",
      "execution_count": 12,
      "metadata": {
        "colab": {
          "base_uri": "https://localhost:8080/"
        },
        "id": "jH0VqWHiEcuo",
        "outputId": "603b8372-8052-4eb1-cc3a-3a883e06d5dd"
      },
      "outputs": [
        {
          "output_type": "stream",
          "name": "stdout",
          "text": [
            "key,pickup_datetime,pickup_longitude,pickup_latitude,dropoff_longitude,dropoff_latitude,passenger_count\r\n",
            "2015-01-27 13:08:24.0000002,2015-01-27 13:08:24 UTC,-73.973320007324219,40.7638053894043,-73.981430053710938,40.74383544921875,1\r\n",
            "2015-01-27 13:08:24.0000003,2015-01-27 13:08:24 UTC,-73.986862182617188,40.719383239746094,-73.998886108398438,40.739200592041016,1\r\n",
            "2011-10-08 11:53:44.0000002,2011-10-08 11:53:44 UTC,-73.982524,40.75126,-73.979654,40.746139,1\r\n",
            "2012-12-01 21:12:12.0000002,2012-12-01 21:12:12 UTC,-73.98116,40.767807,-73.990448,40.751635,1\r\n",
            "2012-12-01 21:12:12.0000003,2012-12-01 21:12:12 UTC,-73.966046,40.789775,-73.988565,40.744427,1\r\n",
            "2012-12-01 21:12:12.0000005,2012-12-01 21:12:12 UTC,-73.960983,40.765547,-73.979177,40.740053,1\r\n",
            "2011-10-06 12:10:20.0000001,2011-10-06 12:10:20 UTC,-73.949013,40.773204,-73.959622,40.770893,1\r\n",
            "2011-10-06 12:10:20.0000003,2011-10-06 12:10:20 UTC,-73.777282,40.646636,-73.985083,40.759368,1\r\n",
            "2011-10-06 12:10:20.0000002,2011-10-06 12:10:20 UTC,-74.014099,40.709638,-73.995106,40.741365,1\r\n"
          ]
        }
      ],
      "source": [
        "# Test set\n",
        "!head {data_dir}/test.csv"
      ]
    },
    {
      "cell_type": "code",
      "execution_count": 13,
      "metadata": {
        "colab": {
          "base_uri": "https://localhost:8080/"
        },
        "id": "hwvYooXEEgCw",
        "outputId": "9913218a-cdf2-4f08-b194-91def031eabe"
      },
      "outputs": [
        {
          "output_type": "stream",
          "name": "stdout",
          "text": [
            "key,fare_amount\n",
            "2015-01-27 13:08:24.0000002,11.35\n",
            "2015-01-27 13:08:24.0000003,11.35\n",
            "2011-10-08 11:53:44.0000002,11.35\n",
            "2012-12-01 21:12:12.0000002,11.35\n",
            "2012-12-01 21:12:12.0000003,11.35\n",
            "2012-12-01 21:12:12.0000005,11.35\n",
            "2011-10-06 12:10:20.0000001,11.35\n",
            "2011-10-06 12:10:20.0000003,11.35\n",
            "2011-10-06 12:10:20.0000002,11.35\n"
          ]
        }
      ],
      "source": [
        "# Sample submission file\n",
        "!head {data_dir}/sample_submission.csv"
      ]
    },
    {
      "cell_type": "code",
      "execution_count": 14,
      "metadata": {
        "colab": {
          "base_uri": "https://localhost:8080/"
        },
        "id": "fBAEVjqBFOLz",
        "outputId": "13ac2e71-c325-49f9-f475-daa8507957be"
      },
      "outputs": [
        {
          "output_type": "stream",
          "name": "stdout",
          "text": [
            "55423856 ./new-york-city-taxi-fare-prediction/train.csv\n"
          ]
        }
      ],
      "source": [
        "# No. of lines in training set\n",
        "!wc -l {data_dir}/train.csv"
      ]
    },
    {
      "cell_type": "code",
      "execution_count": 15,
      "metadata": {
        "colab": {
          "base_uri": "https://localhost:8080/"
        },
        "id": "tHQnRoqSFVzc",
        "outputId": "a3126fab-9b53-47df-dee0-e34913aacec8"
      },
      "outputs": [
        {
          "output_type": "stream",
          "name": "stdout",
          "text": [
            "9914 ./new-york-city-taxi-fare-prediction/test.csv\n"
          ]
        }
      ],
      "source": [
        "# No. of lines in test set\n",
        "!wc -l {data_dir}/test.csv"
      ]
    },
    {
      "cell_type": "code",
      "execution_count": 16,
      "metadata": {
        "colab": {
          "base_uri": "https://localhost:8080/"
        },
        "id": "g5pE3VePFk9Z",
        "outputId": "c5aca027-b318-49db-8a59-4bf17a0a50a8"
      },
      "outputs": [
        {
          "output_type": "stream",
          "name": "stdout",
          "text": [
            "9915 ./new-york-city-taxi-fare-prediction/sample_submission.csv\n"
          ]
        }
      ],
      "source": [
        "# No. of lines in submission file\n",
        "!wc -l {data_dir}/sample_submission.csv"
      ]
    },
    {
      "cell_type": "markdown",
      "metadata": {
        "id": "pV1DrvYPF3aX"
      },
      "source": [
        "`Observations:`\n",
        "\n",
        "- This is a supervised learning regression problem\n",
        "- Training data is 5.5 GB in size\n",
        "- Training data has 5.5 million rows\n",
        "- Test set is much smaller (< 10,000 rows)\n",
        "- The training set has 8 columns:\n",
        "    - `key` (a unique identifier)\n",
        "    - `fare_amount` (target column)\n",
        "    - `pickup_datetime`\n",
        "    - `pickup_longitude`\n",
        "    - `pickup_latitude`\n",
        "    - `dropoff_longitude`\n",
        "    - `dropoff_latitude`\n",
        "    - `passenger_count`\n",
        "- The test set has all columns except the target column `fare_amount`.\n",
        "- The submission file should contain the `key` and `fare_amount` for each test sample.\n"
      ]
    },
    {
      "cell_type": "code",
      "execution_count": 17,
      "metadata": {
        "colab": {
          "base_uri": "https://localhost:8080/"
        },
        "id": "--3sacfFFoag",
        "outputId": "a2e43993-45b1-46b3-8ffa-f093a1e1dfa2"
      },
      "outputs": [
        {
          "output_type": "stream",
          "name": "stdout",
          "text": [
            "[jovian] Detected Colab notebook...\u001b[0m\n",
            "[jovian] jovian.commit() is no longer required on Google Colab. If you ran this notebook from Jovian, \n",
            "then just save this file in Colab using Ctrl+S/Cmd+S and it will be updated on Jovian. \n",
            "Also, you can also delete this cell, it's no longer necessary.\u001b[0m\n"
          ]
        }
      ],
      "source": [
        "jovian.commit()"
      ]
    },
    {
      "cell_type": "markdown",
      "metadata": {
        "id": "zDswZkM3GQeY"
      },
      "source": [
        "### Loading Training Set\n",
        "\n",
        "Loading the entire dataset into Pandas is going to be slow, so we can use the following optimizations:\n",
        "\n",
        "- Ignore the `key` column\n",
        "- Parse pickup datetime while loading data \n",
        "- Specify data types for other columns\n",
        "   - `float32` for geo coordinates\n",
        "   - `float32` for fare amount\n",
        "   - `uint8` for passenger count\n",
        "- Work with a 1% sample of the data (~500k rows)\n",
        "\n",
        "We can apply these optimizations while using [`pd.read_csv`](https://pandas.pydata.org/pandas-docs/stable/reference/api/pandas.read_csv.html)"
      ]
    },
    {
      "cell_type": "code",
      "execution_count": 18,
      "metadata": {
        "id": "2KazrmgOF7Kx"
      },
      "outputs": [],
      "source": [
        "import pandas as pd\n",
        "import random"
      ]
    },
    {
      "cell_type": "code",
      "execution_count": 19,
      "metadata": {
        "id": "SGKTNRqfGdRr"
      },
      "outputs": [],
      "source": [
        "# Change this\n",
        "sample_frac = 0.01"
      ]
    },
    {
      "cell_type": "code",
      "execution_count": 20,
      "metadata": {
        "colab": {
          "base_uri": "https://localhost:8080/"
        },
        "id": "ozeDxw6MGfli",
        "outputId": "b7f3e145-0811-4657-bd54-c510ea53e226"
      },
      "outputs": [
        {
          "output_type": "stream",
          "name": "stdout",
          "text": [
            "CPU times: user 2min 11s, sys: 3.61 s, total: 2min 14s\n",
            "Wall time: 2min 21s\n"
          ]
        }
      ],
      "source": [
        "%%time\n",
        "selected_cols = 'fare_amount,pickup_datetime,pickup_longitude,pickup_latitude,dropoff_longitude,dropoff_latitude,passenger_count'.split(',')\n",
        "dtypes = {\n",
        "    'fare_amount': 'float32',\n",
        "    'pickup_longitude': 'float32',\n",
        "    'pickup_latitude': 'float32',\n",
        "    'dropoff_longitude': 'float32',\n",
        "    'passenger_count': 'float32'\n",
        "}\n",
        "\n",
        "def skip_row(row_idx):\n",
        "    if row_idx == 0:\n",
        "        return False\n",
        "    return random.random() > sample_frac\n",
        "\n",
        "random.seed(42)\n",
        "df = pd.read_csv(data_dir+\"/train.csv\", \n",
        "                 usecols=selected_cols, \n",
        "                 dtype=dtypes, \n",
        "                 parse_dates=['pickup_datetime'], \n",
        "                 skiprows=skip_row)"
      ]
    },
    {
      "cell_type": "code",
      "execution_count": 21,
      "metadata": {
        "colab": {
          "base_uri": "https://localhost:8080/",
          "height": 424
        },
        "id": "WFBmM7C_GjoU",
        "outputId": "16430aa2-d4b5-4c79-cfe1-8d8afe10f35a"
      },
      "outputs": [
        {
          "output_type": "execute_result",
          "data": {
            "text/plain": [
              "        fare_amount           pickup_datetime  pickup_longitude  \\\n",
              "0               4.0 2014-12-06 20:36:22+00:00        -73.979813   \n",
              "1               8.0 2013-01-17 17:22:00+00:00          0.000000   \n",
              "2               8.9 2011-06-15 18:07:00+00:00        -73.996330   \n",
              "3               6.9 2009-12-14 12:33:00+00:00        -73.982430   \n",
              "4               7.0 2013-11-06 11:26:54+00:00        -73.959061   \n",
              "...             ...                       ...               ...   \n",
              "552445         45.0 2014-02-06 23:59:45+00:00        -73.973587   \n",
              "552446         22.5 2015-01-05 15:29:08+00:00        -73.935928   \n",
              "552447          4.5 2013-02-17 22:27:00+00:00        -73.992531   \n",
              "552448         14.5 2013-01-27 12:41:00+00:00        -74.012115   \n",
              "552449          6.0 2014-10-18 07:51:00+00:00        -73.997681   \n",
              "\n",
              "        pickup_latitude  dropoff_longitude  dropoff_latitude  passenger_count  \n",
              "0             40.751904         -73.979446         40.755481              1.0  \n",
              "1              0.000000           0.000000          0.000000              2.0  \n",
              "2             40.753223         -73.978897         40.766963              3.0  \n",
              "3             40.745747         -73.982430         40.745747              1.0  \n",
              "4             40.781059         -73.962059         40.768604              1.0  \n",
              "...                 ...                ...               ...              ...  \n",
              "552445        40.747669         -73.999916         40.602893              1.0  \n",
              "552446        40.799656         -73.985710         40.726952              2.0  \n",
              "552447        40.748619         -73.998436         40.740142              1.0  \n",
              "552448        40.706635         -73.988724         40.756217              1.0  \n",
              "552449        40.724380         -73.994148         40.717797              1.0  \n",
              "\n",
              "[552450 rows x 7 columns]"
            ],
            "text/html": [
              "\n",
              "  <div id=\"df-49318d8c-9683-4996-9b05-dba15297ff90\">\n",
              "    <div class=\"colab-df-container\">\n",
              "      <div>\n",
              "<style scoped>\n",
              "    .dataframe tbody tr th:only-of-type {\n",
              "        vertical-align: middle;\n",
              "    }\n",
              "\n",
              "    .dataframe tbody tr th {\n",
              "        vertical-align: top;\n",
              "    }\n",
              "\n",
              "    .dataframe thead th {\n",
              "        text-align: right;\n",
              "    }\n",
              "</style>\n",
              "<table border=\"1\" class=\"dataframe\">\n",
              "  <thead>\n",
              "    <tr style=\"text-align: right;\">\n",
              "      <th></th>\n",
              "      <th>fare_amount</th>\n",
              "      <th>pickup_datetime</th>\n",
              "      <th>pickup_longitude</th>\n",
              "      <th>pickup_latitude</th>\n",
              "      <th>dropoff_longitude</th>\n",
              "      <th>dropoff_latitude</th>\n",
              "      <th>passenger_count</th>\n",
              "    </tr>\n",
              "  </thead>\n",
              "  <tbody>\n",
              "    <tr>\n",
              "      <th>0</th>\n",
              "      <td>4.0</td>\n",
              "      <td>2014-12-06 20:36:22+00:00</td>\n",
              "      <td>-73.979813</td>\n",
              "      <td>40.751904</td>\n",
              "      <td>-73.979446</td>\n",
              "      <td>40.755481</td>\n",
              "      <td>1.0</td>\n",
              "    </tr>\n",
              "    <tr>\n",
              "      <th>1</th>\n",
              "      <td>8.0</td>\n",
              "      <td>2013-01-17 17:22:00+00:00</td>\n",
              "      <td>0.000000</td>\n",
              "      <td>0.000000</td>\n",
              "      <td>0.000000</td>\n",
              "      <td>0.000000</td>\n",
              "      <td>2.0</td>\n",
              "    </tr>\n",
              "    <tr>\n",
              "      <th>2</th>\n",
              "      <td>8.9</td>\n",
              "      <td>2011-06-15 18:07:00+00:00</td>\n",
              "      <td>-73.996330</td>\n",
              "      <td>40.753223</td>\n",
              "      <td>-73.978897</td>\n",
              "      <td>40.766963</td>\n",
              "      <td>3.0</td>\n",
              "    </tr>\n",
              "    <tr>\n",
              "      <th>3</th>\n",
              "      <td>6.9</td>\n",
              "      <td>2009-12-14 12:33:00+00:00</td>\n",
              "      <td>-73.982430</td>\n",
              "      <td>40.745747</td>\n",
              "      <td>-73.982430</td>\n",
              "      <td>40.745747</td>\n",
              "      <td>1.0</td>\n",
              "    </tr>\n",
              "    <tr>\n",
              "      <th>4</th>\n",
              "      <td>7.0</td>\n",
              "      <td>2013-11-06 11:26:54+00:00</td>\n",
              "      <td>-73.959061</td>\n",
              "      <td>40.781059</td>\n",
              "      <td>-73.962059</td>\n",
              "      <td>40.768604</td>\n",
              "      <td>1.0</td>\n",
              "    </tr>\n",
              "    <tr>\n",
              "      <th>...</th>\n",
              "      <td>...</td>\n",
              "      <td>...</td>\n",
              "      <td>...</td>\n",
              "      <td>...</td>\n",
              "      <td>...</td>\n",
              "      <td>...</td>\n",
              "      <td>...</td>\n",
              "    </tr>\n",
              "    <tr>\n",
              "      <th>552445</th>\n",
              "      <td>45.0</td>\n",
              "      <td>2014-02-06 23:59:45+00:00</td>\n",
              "      <td>-73.973587</td>\n",
              "      <td>40.747669</td>\n",
              "      <td>-73.999916</td>\n",
              "      <td>40.602893</td>\n",
              "      <td>1.0</td>\n",
              "    </tr>\n",
              "    <tr>\n",
              "      <th>552446</th>\n",
              "      <td>22.5</td>\n",
              "      <td>2015-01-05 15:29:08+00:00</td>\n",
              "      <td>-73.935928</td>\n",
              "      <td>40.799656</td>\n",
              "      <td>-73.985710</td>\n",
              "      <td>40.726952</td>\n",
              "      <td>2.0</td>\n",
              "    </tr>\n",
              "    <tr>\n",
              "      <th>552447</th>\n",
              "      <td>4.5</td>\n",
              "      <td>2013-02-17 22:27:00+00:00</td>\n",
              "      <td>-73.992531</td>\n",
              "      <td>40.748619</td>\n",
              "      <td>-73.998436</td>\n",
              "      <td>40.740142</td>\n",
              "      <td>1.0</td>\n",
              "    </tr>\n",
              "    <tr>\n",
              "      <th>552448</th>\n",
              "      <td>14.5</td>\n",
              "      <td>2013-01-27 12:41:00+00:00</td>\n",
              "      <td>-74.012115</td>\n",
              "      <td>40.706635</td>\n",
              "      <td>-73.988724</td>\n",
              "      <td>40.756217</td>\n",
              "      <td>1.0</td>\n",
              "    </tr>\n",
              "    <tr>\n",
              "      <th>552449</th>\n",
              "      <td>6.0</td>\n",
              "      <td>2014-10-18 07:51:00+00:00</td>\n",
              "      <td>-73.997681</td>\n",
              "      <td>40.724380</td>\n",
              "      <td>-73.994148</td>\n",
              "      <td>40.717797</td>\n",
              "      <td>1.0</td>\n",
              "    </tr>\n",
              "  </tbody>\n",
              "</table>\n",
              "<p>552450 rows × 7 columns</p>\n",
              "</div>\n",
              "      <button class=\"colab-df-convert\" onclick=\"convertToInteractive('df-49318d8c-9683-4996-9b05-dba15297ff90')\"\n",
              "              title=\"Convert this dataframe to an interactive table.\"\n",
              "              style=\"display:none;\">\n",
              "        \n",
              "  <svg xmlns=\"http://www.w3.org/2000/svg\" height=\"24px\"viewBox=\"0 0 24 24\"\n",
              "       width=\"24px\">\n",
              "    <path d=\"M0 0h24v24H0V0z\" fill=\"none\"/>\n",
              "    <path d=\"M18.56 5.44l.94 2.06.94-2.06 2.06-.94-2.06-.94-.94-2.06-.94 2.06-2.06.94zm-11 1L8.5 8.5l.94-2.06 2.06-.94-2.06-.94L8.5 2.5l-.94 2.06-2.06.94zm10 10l.94 2.06.94-2.06 2.06-.94-2.06-.94-.94-2.06-.94 2.06-2.06.94z\"/><path d=\"M17.41 7.96l-1.37-1.37c-.4-.4-.92-.59-1.43-.59-.52 0-1.04.2-1.43.59L10.3 9.45l-7.72 7.72c-.78.78-.78 2.05 0 2.83L4 21.41c.39.39.9.59 1.41.59.51 0 1.02-.2 1.41-.59l7.78-7.78 2.81-2.81c.8-.78.8-2.07 0-2.86zM5.41 20L4 18.59l7.72-7.72 1.47 1.35L5.41 20z\"/>\n",
              "  </svg>\n",
              "      </button>\n",
              "      \n",
              "  <style>\n",
              "    .colab-df-container {\n",
              "      display:flex;\n",
              "      flex-wrap:wrap;\n",
              "      gap: 12px;\n",
              "    }\n",
              "\n",
              "    .colab-df-convert {\n",
              "      background-color: #E8F0FE;\n",
              "      border: none;\n",
              "      border-radius: 50%;\n",
              "      cursor: pointer;\n",
              "      display: none;\n",
              "      fill: #1967D2;\n",
              "      height: 32px;\n",
              "      padding: 0 0 0 0;\n",
              "      width: 32px;\n",
              "    }\n",
              "\n",
              "    .colab-df-convert:hover {\n",
              "      background-color: #E2EBFA;\n",
              "      box-shadow: 0px 1px 2px rgba(60, 64, 67, 0.3), 0px 1px 3px 1px rgba(60, 64, 67, 0.15);\n",
              "      fill: #174EA6;\n",
              "    }\n",
              "\n",
              "    [theme=dark] .colab-df-convert {\n",
              "      background-color: #3B4455;\n",
              "      fill: #D2E3FC;\n",
              "    }\n",
              "\n",
              "    [theme=dark] .colab-df-convert:hover {\n",
              "      background-color: #434B5C;\n",
              "      box-shadow: 0px 1px 3px 1px rgba(0, 0, 0, 0.15);\n",
              "      filter: drop-shadow(0px 1px 2px rgba(0, 0, 0, 0.3));\n",
              "      fill: #FFFFFF;\n",
              "    }\n",
              "  </style>\n",
              "\n",
              "      <script>\n",
              "        const buttonEl =\n",
              "          document.querySelector('#df-49318d8c-9683-4996-9b05-dba15297ff90 button.colab-df-convert');\n",
              "        buttonEl.style.display =\n",
              "          google.colab.kernel.accessAllowed ? 'block' : 'none';\n",
              "\n",
              "        async function convertToInteractive(key) {\n",
              "          const element = document.querySelector('#df-49318d8c-9683-4996-9b05-dba15297ff90');\n",
              "          const dataTable =\n",
              "            await google.colab.kernel.invokeFunction('convertToInteractive',\n",
              "                                                     [key], {});\n",
              "          if (!dataTable) return;\n",
              "\n",
              "          const docLinkHtml = 'Like what you see? Visit the ' +\n",
              "            '<a target=\"_blank\" href=https://colab.research.google.com/notebooks/data_table.ipynb>data table notebook</a>'\n",
              "            + ' to learn more about interactive tables.';\n",
              "          element.innerHTML = '';\n",
              "          dataTable['output_type'] = 'display_data';\n",
              "          await google.colab.output.renderOutput(dataTable, element);\n",
              "          const docLink = document.createElement('div');\n",
              "          docLink.innerHTML = docLinkHtml;\n",
              "          element.appendChild(docLink);\n",
              "        }\n",
              "      </script>\n",
              "    </div>\n",
              "  </div>\n",
              "  "
            ]
          },
          "metadata": {},
          "execution_count": 21
        }
      ],
      "source": [
        "df"
      ]
    },
    {
      "cell_type": "code",
      "execution_count": 22,
      "metadata": {
        "id": "ij8KczN7HjF_"
      },
      "outputs": [],
      "source": [
        "test_df = pd.read_csv(data_dir+'/test.csv', dtype=dtypes, parse_dates=['pickup_datetime'])"
      ]
    },
    {
      "cell_type": "code",
      "execution_count": 23,
      "metadata": {
        "colab": {
          "base_uri": "https://localhost:8080/",
          "height": 424
        },
        "id": "GtdboKxpKJB2",
        "outputId": "500d9ed6-9eca-41e1-ba5b-8e7bd8781094"
      },
      "outputs": [
        {
          "output_type": "execute_result",
          "data": {
            "text/plain": [
              "                              key           pickup_datetime  pickup_longitude  \\\n",
              "0     2015-01-27 13:08:24.0000002 2015-01-27 13:08:24+00:00        -73.973320   \n",
              "1     2015-01-27 13:08:24.0000003 2015-01-27 13:08:24+00:00        -73.986862   \n",
              "2     2011-10-08 11:53:44.0000002 2011-10-08 11:53:44+00:00        -73.982521   \n",
              "3     2012-12-01 21:12:12.0000002 2012-12-01 21:12:12+00:00        -73.981163   \n",
              "4     2012-12-01 21:12:12.0000003 2012-12-01 21:12:12+00:00        -73.966049   \n",
              "...                           ...                       ...               ...   \n",
              "9909  2015-05-10 12:37:51.0000002 2015-05-10 12:37:51+00:00        -73.968124   \n",
              "9910  2015-01-12 17:05:51.0000001 2015-01-12 17:05:51+00:00        -73.945511   \n",
              "9911  2015-04-19 20:44:15.0000001 2015-04-19 20:44:15+00:00        -73.991600   \n",
              "9912  2015-01-31 01:05:19.0000005 2015-01-31 01:05:19+00:00        -73.985573   \n",
              "9913  2015-01-18 14:06:23.0000006 2015-01-18 14:06:23+00:00        -73.988022   \n",
              "\n",
              "      pickup_latitude  dropoff_longitude  dropoff_latitude  passenger_count  \n",
              "0           40.763805         -73.981430         40.743835              1.0  \n",
              "1           40.719383         -73.998886         40.739201              1.0  \n",
              "2           40.751259         -73.979652         40.746139              1.0  \n",
              "3           40.767807         -73.990448         40.751635              1.0  \n",
              "4           40.789776         -73.988564         40.744427              1.0  \n",
              "...               ...                ...               ...              ...  \n",
              "9909        40.796997         -73.955643         40.780388              6.0  \n",
              "9910        40.803600         -73.960213         40.776371              6.0  \n",
              "9911        40.726608         -73.789742         40.647011              6.0  \n",
              "9912        40.735432         -73.939178         40.801731              6.0  \n",
              "9913        40.754070         -74.000282         40.759220              6.0  \n",
              "\n",
              "[9914 rows x 7 columns]"
            ],
            "text/html": [
              "\n",
              "  <div id=\"df-5d6656d8-809e-4d91-9586-8f148bd2797e\">\n",
              "    <div class=\"colab-df-container\">\n",
              "      <div>\n",
              "<style scoped>\n",
              "    .dataframe tbody tr th:only-of-type {\n",
              "        vertical-align: middle;\n",
              "    }\n",
              "\n",
              "    .dataframe tbody tr th {\n",
              "        vertical-align: top;\n",
              "    }\n",
              "\n",
              "    .dataframe thead th {\n",
              "        text-align: right;\n",
              "    }\n",
              "</style>\n",
              "<table border=\"1\" class=\"dataframe\">\n",
              "  <thead>\n",
              "    <tr style=\"text-align: right;\">\n",
              "      <th></th>\n",
              "      <th>key</th>\n",
              "      <th>pickup_datetime</th>\n",
              "      <th>pickup_longitude</th>\n",
              "      <th>pickup_latitude</th>\n",
              "      <th>dropoff_longitude</th>\n",
              "      <th>dropoff_latitude</th>\n",
              "      <th>passenger_count</th>\n",
              "    </tr>\n",
              "  </thead>\n",
              "  <tbody>\n",
              "    <tr>\n",
              "      <th>0</th>\n",
              "      <td>2015-01-27 13:08:24.0000002</td>\n",
              "      <td>2015-01-27 13:08:24+00:00</td>\n",
              "      <td>-73.973320</td>\n",
              "      <td>40.763805</td>\n",
              "      <td>-73.981430</td>\n",
              "      <td>40.743835</td>\n",
              "      <td>1.0</td>\n",
              "    </tr>\n",
              "    <tr>\n",
              "      <th>1</th>\n",
              "      <td>2015-01-27 13:08:24.0000003</td>\n",
              "      <td>2015-01-27 13:08:24+00:00</td>\n",
              "      <td>-73.986862</td>\n",
              "      <td>40.719383</td>\n",
              "      <td>-73.998886</td>\n",
              "      <td>40.739201</td>\n",
              "      <td>1.0</td>\n",
              "    </tr>\n",
              "    <tr>\n",
              "      <th>2</th>\n",
              "      <td>2011-10-08 11:53:44.0000002</td>\n",
              "      <td>2011-10-08 11:53:44+00:00</td>\n",
              "      <td>-73.982521</td>\n",
              "      <td>40.751259</td>\n",
              "      <td>-73.979652</td>\n",
              "      <td>40.746139</td>\n",
              "      <td>1.0</td>\n",
              "    </tr>\n",
              "    <tr>\n",
              "      <th>3</th>\n",
              "      <td>2012-12-01 21:12:12.0000002</td>\n",
              "      <td>2012-12-01 21:12:12+00:00</td>\n",
              "      <td>-73.981163</td>\n",
              "      <td>40.767807</td>\n",
              "      <td>-73.990448</td>\n",
              "      <td>40.751635</td>\n",
              "      <td>1.0</td>\n",
              "    </tr>\n",
              "    <tr>\n",
              "      <th>4</th>\n",
              "      <td>2012-12-01 21:12:12.0000003</td>\n",
              "      <td>2012-12-01 21:12:12+00:00</td>\n",
              "      <td>-73.966049</td>\n",
              "      <td>40.789776</td>\n",
              "      <td>-73.988564</td>\n",
              "      <td>40.744427</td>\n",
              "      <td>1.0</td>\n",
              "    </tr>\n",
              "    <tr>\n",
              "      <th>...</th>\n",
              "      <td>...</td>\n",
              "      <td>...</td>\n",
              "      <td>...</td>\n",
              "      <td>...</td>\n",
              "      <td>...</td>\n",
              "      <td>...</td>\n",
              "      <td>...</td>\n",
              "    </tr>\n",
              "    <tr>\n",
              "      <th>9909</th>\n",
              "      <td>2015-05-10 12:37:51.0000002</td>\n",
              "      <td>2015-05-10 12:37:51+00:00</td>\n",
              "      <td>-73.968124</td>\n",
              "      <td>40.796997</td>\n",
              "      <td>-73.955643</td>\n",
              "      <td>40.780388</td>\n",
              "      <td>6.0</td>\n",
              "    </tr>\n",
              "    <tr>\n",
              "      <th>9910</th>\n",
              "      <td>2015-01-12 17:05:51.0000001</td>\n",
              "      <td>2015-01-12 17:05:51+00:00</td>\n",
              "      <td>-73.945511</td>\n",
              "      <td>40.803600</td>\n",
              "      <td>-73.960213</td>\n",
              "      <td>40.776371</td>\n",
              "      <td>6.0</td>\n",
              "    </tr>\n",
              "    <tr>\n",
              "      <th>9911</th>\n",
              "      <td>2015-04-19 20:44:15.0000001</td>\n",
              "      <td>2015-04-19 20:44:15+00:00</td>\n",
              "      <td>-73.991600</td>\n",
              "      <td>40.726608</td>\n",
              "      <td>-73.789742</td>\n",
              "      <td>40.647011</td>\n",
              "      <td>6.0</td>\n",
              "    </tr>\n",
              "    <tr>\n",
              "      <th>9912</th>\n",
              "      <td>2015-01-31 01:05:19.0000005</td>\n",
              "      <td>2015-01-31 01:05:19+00:00</td>\n",
              "      <td>-73.985573</td>\n",
              "      <td>40.735432</td>\n",
              "      <td>-73.939178</td>\n",
              "      <td>40.801731</td>\n",
              "      <td>6.0</td>\n",
              "    </tr>\n",
              "    <tr>\n",
              "      <th>9913</th>\n",
              "      <td>2015-01-18 14:06:23.0000006</td>\n",
              "      <td>2015-01-18 14:06:23+00:00</td>\n",
              "      <td>-73.988022</td>\n",
              "      <td>40.754070</td>\n",
              "      <td>-74.000282</td>\n",
              "      <td>40.759220</td>\n",
              "      <td>6.0</td>\n",
              "    </tr>\n",
              "  </tbody>\n",
              "</table>\n",
              "<p>9914 rows × 7 columns</p>\n",
              "</div>\n",
              "      <button class=\"colab-df-convert\" onclick=\"convertToInteractive('df-5d6656d8-809e-4d91-9586-8f148bd2797e')\"\n",
              "              title=\"Convert this dataframe to an interactive table.\"\n",
              "              style=\"display:none;\">\n",
              "        \n",
              "  <svg xmlns=\"http://www.w3.org/2000/svg\" height=\"24px\"viewBox=\"0 0 24 24\"\n",
              "       width=\"24px\">\n",
              "    <path d=\"M0 0h24v24H0V0z\" fill=\"none\"/>\n",
              "    <path d=\"M18.56 5.44l.94 2.06.94-2.06 2.06-.94-2.06-.94-.94-2.06-.94 2.06-2.06.94zm-11 1L8.5 8.5l.94-2.06 2.06-.94-2.06-.94L8.5 2.5l-.94 2.06-2.06.94zm10 10l.94 2.06.94-2.06 2.06-.94-2.06-.94-.94-2.06-.94 2.06-2.06.94z\"/><path d=\"M17.41 7.96l-1.37-1.37c-.4-.4-.92-.59-1.43-.59-.52 0-1.04.2-1.43.59L10.3 9.45l-7.72 7.72c-.78.78-.78 2.05 0 2.83L4 21.41c.39.39.9.59 1.41.59.51 0 1.02-.2 1.41-.59l7.78-7.78 2.81-2.81c.8-.78.8-2.07 0-2.86zM5.41 20L4 18.59l7.72-7.72 1.47 1.35L5.41 20z\"/>\n",
              "  </svg>\n",
              "      </button>\n",
              "      \n",
              "  <style>\n",
              "    .colab-df-container {\n",
              "      display:flex;\n",
              "      flex-wrap:wrap;\n",
              "      gap: 12px;\n",
              "    }\n",
              "\n",
              "    .colab-df-convert {\n",
              "      background-color: #E8F0FE;\n",
              "      border: none;\n",
              "      border-radius: 50%;\n",
              "      cursor: pointer;\n",
              "      display: none;\n",
              "      fill: #1967D2;\n",
              "      height: 32px;\n",
              "      padding: 0 0 0 0;\n",
              "      width: 32px;\n",
              "    }\n",
              "\n",
              "    .colab-df-convert:hover {\n",
              "      background-color: #E2EBFA;\n",
              "      box-shadow: 0px 1px 2px rgba(60, 64, 67, 0.3), 0px 1px 3px 1px rgba(60, 64, 67, 0.15);\n",
              "      fill: #174EA6;\n",
              "    }\n",
              "\n",
              "    [theme=dark] .colab-df-convert {\n",
              "      background-color: #3B4455;\n",
              "      fill: #D2E3FC;\n",
              "    }\n",
              "\n",
              "    [theme=dark] .colab-df-convert:hover {\n",
              "      background-color: #434B5C;\n",
              "      box-shadow: 0px 1px 3px 1px rgba(0, 0, 0, 0.15);\n",
              "      filter: drop-shadow(0px 1px 2px rgba(0, 0, 0, 0.3));\n",
              "      fill: #FFFFFF;\n",
              "    }\n",
              "  </style>\n",
              "\n",
              "      <script>\n",
              "        const buttonEl =\n",
              "          document.querySelector('#df-5d6656d8-809e-4d91-9586-8f148bd2797e button.colab-df-convert');\n",
              "        buttonEl.style.display =\n",
              "          google.colab.kernel.accessAllowed ? 'block' : 'none';\n",
              "\n",
              "        async function convertToInteractive(key) {\n",
              "          const element = document.querySelector('#df-5d6656d8-809e-4d91-9586-8f148bd2797e');\n",
              "          const dataTable =\n",
              "            await google.colab.kernel.invokeFunction('convertToInteractive',\n",
              "                                                     [key], {});\n",
              "          if (!dataTable) return;\n",
              "\n",
              "          const docLinkHtml = 'Like what you see? Visit the ' +\n",
              "            '<a target=\"_blank\" href=https://colab.research.google.com/notebooks/data_table.ipynb>data table notebook</a>'\n",
              "            + ' to learn more about interactive tables.';\n",
              "          element.innerHTML = '';\n",
              "          dataTable['output_type'] = 'display_data';\n",
              "          await google.colab.output.renderOutput(dataTable, element);\n",
              "          const docLink = document.createElement('div');\n",
              "          docLink.innerHTML = docLinkHtml;\n",
              "          element.appendChild(docLink);\n",
              "        }\n",
              "      </script>\n",
              "    </div>\n",
              "  </div>\n",
              "  "
            ]
          },
          "metadata": {},
          "execution_count": 23
        }
      ],
      "source": [
        "test_df"
      ]
    },
    {
      "cell_type": "code",
      "execution_count": 24,
      "metadata": {
        "colab": {
          "base_uri": "https://localhost:8080/"
        },
        "id": "scipHcGGKLfD",
        "outputId": "bb7fad30-a454-4d49-f815-649cc85e45c9"
      },
      "outputs": [
        {
          "output_type": "stream",
          "name": "stdout",
          "text": [
            "[jovian] Detected Colab notebook...\u001b[0m\n",
            "[jovian] jovian.commit() is no longer required on Google Colab. If you ran this notebook from Jovian, \n",
            "then just save this file in Colab using Ctrl+S/Cmd+S and it will be updated on Jovian. \n",
            "Also, you can also delete this cell, it's no longer necessary.\u001b[0m\n"
          ]
        }
      ],
      "source": [
        "jovian.commit()"
      ]
    },
    {
      "cell_type": "markdown",
      "metadata": {
        "id": "96eNQ7eRKV8H"
      },
      "source": [
        "## 2. Explore the Dataset\n",
        "\n",
        "- Basic info about training set\n",
        "- Basic info about test set\n",
        "- Exploratory data analysis & visualization\n",
        "- Ask & answer questions"
      ]
    },
    {
      "cell_type": "markdown",
      "metadata": {
        "id": "4NTNF_knKZhG"
      },
      "source": [
        "### `Training Set`"
      ]
    },
    {
      "cell_type": "code",
      "execution_count": 25,
      "metadata": {
        "colab": {
          "base_uri": "https://localhost:8080/"
        },
        "id": "85MhdLVwKQSh",
        "outputId": "f4bcee00-6da5-48c2-c6f3-87d1180bd2cd"
      },
      "outputs": [
        {
          "output_type": "stream",
          "name": "stdout",
          "text": [
            "<class 'pandas.core.frame.DataFrame'>\n",
            "RangeIndex: 552450 entries, 0 to 552449\n",
            "Data columns (total 7 columns):\n",
            " #   Column             Non-Null Count   Dtype              \n",
            "---  ------             --------------   -----              \n",
            " 0   fare_amount        552450 non-null  float32            \n",
            " 1   pickup_datetime    552450 non-null  datetime64[ns, UTC]\n",
            " 2   pickup_longitude   552450 non-null  float32            \n",
            " 3   pickup_latitude    552450 non-null  float32            \n",
            " 4   dropoff_longitude  552450 non-null  float32            \n",
            " 5   dropoff_latitude   552450 non-null  float64            \n",
            " 6   passenger_count    552450 non-null  float32            \n",
            "dtypes: datetime64[ns, UTC](1), float32(5), float64(1)\n",
            "memory usage: 19.0 MB\n"
          ]
        }
      ],
      "source": [
        "df.info()"
      ]
    },
    {
      "cell_type": "code",
      "execution_count": 26,
      "metadata": {
        "colab": {
          "base_uri": "https://localhost:8080/",
          "height": 300
        },
        "id": "ajviEgC6KcFY",
        "outputId": "f951a647-75f7-4913-83e7-62aa377127bf"
      },
      "outputs": [
        {
          "output_type": "execute_result",
          "data": {
            "text/plain": [
              "         fare_amount  pickup_longitude  pickup_latitude  dropoff_longitude  \\\n",
              "count  552450.000000     552450.000000    552450.000000      552450.000000   \n",
              "mean       11.354059        -72.497063        39.910500         -72.504326   \n",
              "std         9.811924         11.618246         8.061114          12.074346   \n",
              "min       -52.000000      -1183.362793     -3084.490234       -3356.729736   \n",
              "25%         6.000000        -73.992020        40.734875         -73.991425   \n",
              "50%         8.500000        -73.981819        40.752621         -73.980179   \n",
              "75%        12.500000        -73.967155        40.767036         -73.963737   \n",
              "max       499.000000       2420.209473       404.983337        2467.752686   \n",
              "\n",
              "       dropoff_latitude  passenger_count  \n",
              "count     552450.000000    552450.000000  \n",
              "mean          39.934257         1.684983  \n",
              "std            9.255058         1.337664  \n",
              "min        -2073.150613         0.000000  \n",
              "25%           40.733988         1.000000  \n",
              "50%           40.753102         1.000000  \n",
              "75%           40.768060         2.000000  \n",
              "max         3351.403027       208.000000  "
            ],
            "text/html": [
              "\n",
              "  <div id=\"df-8c752c52-803d-45ef-9cf8-856bd68eef9a\">\n",
              "    <div class=\"colab-df-container\">\n",
              "      <div>\n",
              "<style scoped>\n",
              "    .dataframe tbody tr th:only-of-type {\n",
              "        vertical-align: middle;\n",
              "    }\n",
              "\n",
              "    .dataframe tbody tr th {\n",
              "        vertical-align: top;\n",
              "    }\n",
              "\n",
              "    .dataframe thead th {\n",
              "        text-align: right;\n",
              "    }\n",
              "</style>\n",
              "<table border=\"1\" class=\"dataframe\">\n",
              "  <thead>\n",
              "    <tr style=\"text-align: right;\">\n",
              "      <th></th>\n",
              "      <th>fare_amount</th>\n",
              "      <th>pickup_longitude</th>\n",
              "      <th>pickup_latitude</th>\n",
              "      <th>dropoff_longitude</th>\n",
              "      <th>dropoff_latitude</th>\n",
              "      <th>passenger_count</th>\n",
              "    </tr>\n",
              "  </thead>\n",
              "  <tbody>\n",
              "    <tr>\n",
              "      <th>count</th>\n",
              "      <td>552450.000000</td>\n",
              "      <td>552450.000000</td>\n",
              "      <td>552450.000000</td>\n",
              "      <td>552450.000000</td>\n",
              "      <td>552450.000000</td>\n",
              "      <td>552450.000000</td>\n",
              "    </tr>\n",
              "    <tr>\n",
              "      <th>mean</th>\n",
              "      <td>11.354059</td>\n",
              "      <td>-72.497063</td>\n",
              "      <td>39.910500</td>\n",
              "      <td>-72.504326</td>\n",
              "      <td>39.934257</td>\n",
              "      <td>1.684983</td>\n",
              "    </tr>\n",
              "    <tr>\n",
              "      <th>std</th>\n",
              "      <td>9.811924</td>\n",
              "      <td>11.618246</td>\n",
              "      <td>8.061114</td>\n",
              "      <td>12.074346</td>\n",
              "      <td>9.255058</td>\n",
              "      <td>1.337664</td>\n",
              "    </tr>\n",
              "    <tr>\n",
              "      <th>min</th>\n",
              "      <td>-52.000000</td>\n",
              "      <td>-1183.362793</td>\n",
              "      <td>-3084.490234</td>\n",
              "      <td>-3356.729736</td>\n",
              "      <td>-2073.150613</td>\n",
              "      <td>0.000000</td>\n",
              "    </tr>\n",
              "    <tr>\n",
              "      <th>25%</th>\n",
              "      <td>6.000000</td>\n",
              "      <td>-73.992020</td>\n",
              "      <td>40.734875</td>\n",
              "      <td>-73.991425</td>\n",
              "      <td>40.733988</td>\n",
              "      <td>1.000000</td>\n",
              "    </tr>\n",
              "    <tr>\n",
              "      <th>50%</th>\n",
              "      <td>8.500000</td>\n",
              "      <td>-73.981819</td>\n",
              "      <td>40.752621</td>\n",
              "      <td>-73.980179</td>\n",
              "      <td>40.753102</td>\n",
              "      <td>1.000000</td>\n",
              "    </tr>\n",
              "    <tr>\n",
              "      <th>75%</th>\n",
              "      <td>12.500000</td>\n",
              "      <td>-73.967155</td>\n",
              "      <td>40.767036</td>\n",
              "      <td>-73.963737</td>\n",
              "      <td>40.768060</td>\n",
              "      <td>2.000000</td>\n",
              "    </tr>\n",
              "    <tr>\n",
              "      <th>max</th>\n",
              "      <td>499.000000</td>\n",
              "      <td>2420.209473</td>\n",
              "      <td>404.983337</td>\n",
              "      <td>2467.752686</td>\n",
              "      <td>3351.403027</td>\n",
              "      <td>208.000000</td>\n",
              "    </tr>\n",
              "  </tbody>\n",
              "</table>\n",
              "</div>\n",
              "      <button class=\"colab-df-convert\" onclick=\"convertToInteractive('df-8c752c52-803d-45ef-9cf8-856bd68eef9a')\"\n",
              "              title=\"Convert this dataframe to an interactive table.\"\n",
              "              style=\"display:none;\">\n",
              "        \n",
              "  <svg xmlns=\"http://www.w3.org/2000/svg\" height=\"24px\"viewBox=\"0 0 24 24\"\n",
              "       width=\"24px\">\n",
              "    <path d=\"M0 0h24v24H0V0z\" fill=\"none\"/>\n",
              "    <path d=\"M18.56 5.44l.94 2.06.94-2.06 2.06-.94-2.06-.94-.94-2.06-.94 2.06-2.06.94zm-11 1L8.5 8.5l.94-2.06 2.06-.94-2.06-.94L8.5 2.5l-.94 2.06-2.06.94zm10 10l.94 2.06.94-2.06 2.06-.94-2.06-.94-.94-2.06-.94 2.06-2.06.94z\"/><path d=\"M17.41 7.96l-1.37-1.37c-.4-.4-.92-.59-1.43-.59-.52 0-1.04.2-1.43.59L10.3 9.45l-7.72 7.72c-.78.78-.78 2.05 0 2.83L4 21.41c.39.39.9.59 1.41.59.51 0 1.02-.2 1.41-.59l7.78-7.78 2.81-2.81c.8-.78.8-2.07 0-2.86zM5.41 20L4 18.59l7.72-7.72 1.47 1.35L5.41 20z\"/>\n",
              "  </svg>\n",
              "      </button>\n",
              "      \n",
              "  <style>\n",
              "    .colab-df-container {\n",
              "      display:flex;\n",
              "      flex-wrap:wrap;\n",
              "      gap: 12px;\n",
              "    }\n",
              "\n",
              "    .colab-df-convert {\n",
              "      background-color: #E8F0FE;\n",
              "      border: none;\n",
              "      border-radius: 50%;\n",
              "      cursor: pointer;\n",
              "      display: none;\n",
              "      fill: #1967D2;\n",
              "      height: 32px;\n",
              "      padding: 0 0 0 0;\n",
              "      width: 32px;\n",
              "    }\n",
              "\n",
              "    .colab-df-convert:hover {\n",
              "      background-color: #E2EBFA;\n",
              "      box-shadow: 0px 1px 2px rgba(60, 64, 67, 0.3), 0px 1px 3px 1px rgba(60, 64, 67, 0.15);\n",
              "      fill: #174EA6;\n",
              "    }\n",
              "\n",
              "    [theme=dark] .colab-df-convert {\n",
              "      background-color: #3B4455;\n",
              "      fill: #D2E3FC;\n",
              "    }\n",
              "\n",
              "    [theme=dark] .colab-df-convert:hover {\n",
              "      background-color: #434B5C;\n",
              "      box-shadow: 0px 1px 3px 1px rgba(0, 0, 0, 0.15);\n",
              "      filter: drop-shadow(0px 1px 2px rgba(0, 0, 0, 0.3));\n",
              "      fill: #FFFFFF;\n",
              "    }\n",
              "  </style>\n",
              "\n",
              "      <script>\n",
              "        const buttonEl =\n",
              "          document.querySelector('#df-8c752c52-803d-45ef-9cf8-856bd68eef9a button.colab-df-convert');\n",
              "        buttonEl.style.display =\n",
              "          google.colab.kernel.accessAllowed ? 'block' : 'none';\n",
              "\n",
              "        async function convertToInteractive(key) {\n",
              "          const element = document.querySelector('#df-8c752c52-803d-45ef-9cf8-856bd68eef9a');\n",
              "          const dataTable =\n",
              "            await google.colab.kernel.invokeFunction('convertToInteractive',\n",
              "                                                     [key], {});\n",
              "          if (!dataTable) return;\n",
              "\n",
              "          const docLinkHtml = 'Like what you see? Visit the ' +\n",
              "            '<a target=\"_blank\" href=https://colab.research.google.com/notebooks/data_table.ipynb>data table notebook</a>'\n",
              "            + ' to learn more about interactive tables.';\n",
              "          element.innerHTML = '';\n",
              "          dataTable['output_type'] = 'display_data';\n",
              "          await google.colab.output.renderOutput(dataTable, element);\n",
              "          const docLink = document.createElement('div');\n",
              "          docLink.innerHTML = docLinkHtml;\n",
              "          element.appendChild(docLink);\n",
              "        }\n",
              "      </script>\n",
              "    </div>\n",
              "  </div>\n",
              "  "
            ]
          },
          "metadata": {},
          "execution_count": 26
        }
      ],
      "source": [
        "df.describe()"
      ]
    },
    {
      "cell_type": "code",
      "execution_count": 27,
      "metadata": {
        "colab": {
          "base_uri": "https://localhost:8080/"
        },
        "id": "CK-ZVbOxKrAL",
        "outputId": "6a77414b-7383-4cae-bdc1-f76f0dcd2112"
      },
      "outputs": [
        {
          "output_type": "execute_result",
          "data": {
            "text/plain": [
              "(Timestamp('2009-01-01 00:11:46+0000', tz='UTC'),\n",
              " Timestamp('2015-06-30 23:59:54+0000', tz='UTC'))"
            ]
          },
          "metadata": {},
          "execution_count": 27
        }
      ],
      "source": [
        "df['pickup_datetime'].min(), df['pickup_datetime'].max()"
      ]
    },
    {
      "cell_type": "markdown",
      "metadata": {
        "id": "gzK_4aqnLZYO"
      },
      "source": [
        "Observations about training data:\n",
        "\n",
        "- 550k+ rows, as expected\n",
        "- No missing data (in the sample)\n",
        "- `fare_amount` ranges from \\$-52.0 to \\$499.0 \n",
        "- `passenger_count` ranges from 0 to 208 \n",
        "- There seem to be some errors in the latitude & longitude values\n",
        "- Dates range from 1st Jan 2009 to 30th June 2015\n",
        "- The dataset takes up ~19 MB of space in the RAM\n",
        "\n",
        "We may need to deal with outliers and data entry errors before we train our model."
      ]
    },
    {
      "cell_type": "markdown",
      "metadata": {
        "id": "fqcnqOwdLdhn"
      },
      "source": [
        "### `Test Set`"
      ]
    },
    {
      "cell_type": "code",
      "execution_count": 28,
      "metadata": {
        "colab": {
          "base_uri": "https://localhost:8080/"
        },
        "id": "ROtakLDfLJZn",
        "outputId": "3e158f75-546e-4bda-cabe-50202f6e9062"
      },
      "outputs": [
        {
          "output_type": "stream",
          "name": "stdout",
          "text": [
            "<class 'pandas.core.frame.DataFrame'>\n",
            "RangeIndex: 9914 entries, 0 to 9913\n",
            "Data columns (total 7 columns):\n",
            " #   Column             Non-Null Count  Dtype              \n",
            "---  ------             --------------  -----              \n",
            " 0   key                9914 non-null   object             \n",
            " 1   pickup_datetime    9914 non-null   datetime64[ns, UTC]\n",
            " 2   pickup_longitude   9914 non-null   float32            \n",
            " 3   pickup_latitude    9914 non-null   float32            \n",
            " 4   dropoff_longitude  9914 non-null   float32            \n",
            " 5   dropoff_latitude   9914 non-null   float64            \n",
            " 6   passenger_count    9914 non-null   float32            \n",
            "dtypes: datetime64[ns, UTC](1), float32(4), float64(1), object(1)\n",
            "memory usage: 387.4+ KB\n"
          ]
        }
      ],
      "source": [
        "test_df.info()"
      ]
    },
    {
      "cell_type": "code",
      "execution_count": 29,
      "metadata": {
        "colab": {
          "base_uri": "https://localhost:8080/",
          "height": 300
        },
        "id": "-P3vN2DoLntl",
        "outputId": "144d7d08-a88d-47bd-c121-c1203a4badf0"
      },
      "outputs": [
        {
          "output_type": "execute_result",
          "data": {
            "text/plain": [
              "       pickup_longitude  pickup_latitude  dropoff_longitude  dropoff_latitude  \\\n",
              "count       9914.000000      9914.000000        9914.000000       9914.000000   \n",
              "mean         -73.974716        40.751041         -73.973656         40.751743   \n",
              "std            0.042774         0.033541           0.039072          0.035435   \n",
              "min          -74.252190        40.573143         -74.263245         40.568973   \n",
              "25%          -73.992500        40.736125         -73.991249         40.735254   \n",
              "50%          -73.982327        40.753052         -73.980015         40.754065   \n",
              "75%          -73.968012        40.767113         -73.964062         40.768757   \n",
              "max          -72.986534        41.709557         -72.990967         41.696683   \n",
              "\n",
              "       passenger_count  \n",
              "count      9914.000000  \n",
              "mean          1.671273  \n",
              "std           1.278747  \n",
              "min           1.000000  \n",
              "25%           1.000000  \n",
              "50%           1.000000  \n",
              "75%           2.000000  \n",
              "max           6.000000  "
            ],
            "text/html": [
              "\n",
              "  <div id=\"df-f3373edb-4797-42c6-a145-54fa04491ceb\">\n",
              "    <div class=\"colab-df-container\">\n",
              "      <div>\n",
              "<style scoped>\n",
              "    .dataframe tbody tr th:only-of-type {\n",
              "        vertical-align: middle;\n",
              "    }\n",
              "\n",
              "    .dataframe tbody tr th {\n",
              "        vertical-align: top;\n",
              "    }\n",
              "\n",
              "    .dataframe thead th {\n",
              "        text-align: right;\n",
              "    }\n",
              "</style>\n",
              "<table border=\"1\" class=\"dataframe\">\n",
              "  <thead>\n",
              "    <tr style=\"text-align: right;\">\n",
              "      <th></th>\n",
              "      <th>pickup_longitude</th>\n",
              "      <th>pickup_latitude</th>\n",
              "      <th>dropoff_longitude</th>\n",
              "      <th>dropoff_latitude</th>\n",
              "      <th>passenger_count</th>\n",
              "    </tr>\n",
              "  </thead>\n",
              "  <tbody>\n",
              "    <tr>\n",
              "      <th>count</th>\n",
              "      <td>9914.000000</td>\n",
              "      <td>9914.000000</td>\n",
              "      <td>9914.000000</td>\n",
              "      <td>9914.000000</td>\n",
              "      <td>9914.000000</td>\n",
              "    </tr>\n",
              "    <tr>\n",
              "      <th>mean</th>\n",
              "      <td>-73.974716</td>\n",
              "      <td>40.751041</td>\n",
              "      <td>-73.973656</td>\n",
              "      <td>40.751743</td>\n",
              "      <td>1.671273</td>\n",
              "    </tr>\n",
              "    <tr>\n",
              "      <th>std</th>\n",
              "      <td>0.042774</td>\n",
              "      <td>0.033541</td>\n",
              "      <td>0.039072</td>\n",
              "      <td>0.035435</td>\n",
              "      <td>1.278747</td>\n",
              "    </tr>\n",
              "    <tr>\n",
              "      <th>min</th>\n",
              "      <td>-74.252190</td>\n",
              "      <td>40.573143</td>\n",
              "      <td>-74.263245</td>\n",
              "      <td>40.568973</td>\n",
              "      <td>1.000000</td>\n",
              "    </tr>\n",
              "    <tr>\n",
              "      <th>25%</th>\n",
              "      <td>-73.992500</td>\n",
              "      <td>40.736125</td>\n",
              "      <td>-73.991249</td>\n",
              "      <td>40.735254</td>\n",
              "      <td>1.000000</td>\n",
              "    </tr>\n",
              "    <tr>\n",
              "      <th>50%</th>\n",
              "      <td>-73.982327</td>\n",
              "      <td>40.753052</td>\n",
              "      <td>-73.980015</td>\n",
              "      <td>40.754065</td>\n",
              "      <td>1.000000</td>\n",
              "    </tr>\n",
              "    <tr>\n",
              "      <th>75%</th>\n",
              "      <td>-73.968012</td>\n",
              "      <td>40.767113</td>\n",
              "      <td>-73.964062</td>\n",
              "      <td>40.768757</td>\n",
              "      <td>2.000000</td>\n",
              "    </tr>\n",
              "    <tr>\n",
              "      <th>max</th>\n",
              "      <td>-72.986534</td>\n",
              "      <td>41.709557</td>\n",
              "      <td>-72.990967</td>\n",
              "      <td>41.696683</td>\n",
              "      <td>6.000000</td>\n",
              "    </tr>\n",
              "  </tbody>\n",
              "</table>\n",
              "</div>\n",
              "      <button class=\"colab-df-convert\" onclick=\"convertToInteractive('df-f3373edb-4797-42c6-a145-54fa04491ceb')\"\n",
              "              title=\"Convert this dataframe to an interactive table.\"\n",
              "              style=\"display:none;\">\n",
              "        \n",
              "  <svg xmlns=\"http://www.w3.org/2000/svg\" height=\"24px\"viewBox=\"0 0 24 24\"\n",
              "       width=\"24px\">\n",
              "    <path d=\"M0 0h24v24H0V0z\" fill=\"none\"/>\n",
              "    <path d=\"M18.56 5.44l.94 2.06.94-2.06 2.06-.94-2.06-.94-.94-2.06-.94 2.06-2.06.94zm-11 1L8.5 8.5l.94-2.06 2.06-.94-2.06-.94L8.5 2.5l-.94 2.06-2.06.94zm10 10l.94 2.06.94-2.06 2.06-.94-2.06-.94-.94-2.06-.94 2.06-2.06.94z\"/><path d=\"M17.41 7.96l-1.37-1.37c-.4-.4-.92-.59-1.43-.59-.52 0-1.04.2-1.43.59L10.3 9.45l-7.72 7.72c-.78.78-.78 2.05 0 2.83L4 21.41c.39.39.9.59 1.41.59.51 0 1.02-.2 1.41-.59l7.78-7.78 2.81-2.81c.8-.78.8-2.07 0-2.86zM5.41 20L4 18.59l7.72-7.72 1.47 1.35L5.41 20z\"/>\n",
              "  </svg>\n",
              "      </button>\n",
              "      \n",
              "  <style>\n",
              "    .colab-df-container {\n",
              "      display:flex;\n",
              "      flex-wrap:wrap;\n",
              "      gap: 12px;\n",
              "    }\n",
              "\n",
              "    .colab-df-convert {\n",
              "      background-color: #E8F0FE;\n",
              "      border: none;\n",
              "      border-radius: 50%;\n",
              "      cursor: pointer;\n",
              "      display: none;\n",
              "      fill: #1967D2;\n",
              "      height: 32px;\n",
              "      padding: 0 0 0 0;\n",
              "      width: 32px;\n",
              "    }\n",
              "\n",
              "    .colab-df-convert:hover {\n",
              "      background-color: #E2EBFA;\n",
              "      box-shadow: 0px 1px 2px rgba(60, 64, 67, 0.3), 0px 1px 3px 1px rgba(60, 64, 67, 0.15);\n",
              "      fill: #174EA6;\n",
              "    }\n",
              "\n",
              "    [theme=dark] .colab-df-convert {\n",
              "      background-color: #3B4455;\n",
              "      fill: #D2E3FC;\n",
              "    }\n",
              "\n",
              "    [theme=dark] .colab-df-convert:hover {\n",
              "      background-color: #434B5C;\n",
              "      box-shadow: 0px 1px 3px 1px rgba(0, 0, 0, 0.15);\n",
              "      filter: drop-shadow(0px 1px 2px rgba(0, 0, 0, 0.3));\n",
              "      fill: #FFFFFF;\n",
              "    }\n",
              "  </style>\n",
              "\n",
              "      <script>\n",
              "        const buttonEl =\n",
              "          document.querySelector('#df-f3373edb-4797-42c6-a145-54fa04491ceb button.colab-df-convert');\n",
              "        buttonEl.style.display =\n",
              "          google.colab.kernel.accessAllowed ? 'block' : 'none';\n",
              "\n",
              "        async function convertToInteractive(key) {\n",
              "          const element = document.querySelector('#df-f3373edb-4797-42c6-a145-54fa04491ceb');\n",
              "          const dataTable =\n",
              "            await google.colab.kernel.invokeFunction('convertToInteractive',\n",
              "                                                     [key], {});\n",
              "          if (!dataTable) return;\n",
              "\n",
              "          const docLinkHtml = 'Like what you see? Visit the ' +\n",
              "            '<a target=\"_blank\" href=https://colab.research.google.com/notebooks/data_table.ipynb>data table notebook</a>'\n",
              "            + ' to learn more about interactive tables.';\n",
              "          element.innerHTML = '';\n",
              "          dataTable['output_type'] = 'display_data';\n",
              "          await google.colab.output.renderOutput(dataTable, element);\n",
              "          const docLink = document.createElement('div');\n",
              "          docLink.innerHTML = docLinkHtml;\n",
              "          element.appendChild(docLink);\n",
              "        }\n",
              "      </script>\n",
              "    </div>\n",
              "  </div>\n",
              "  "
            ]
          },
          "metadata": {},
          "execution_count": 29
        }
      ],
      "source": [
        "test_df.describe()\n"
      ]
    },
    {
      "cell_type": "code",
      "execution_count": 30,
      "metadata": {
        "colab": {
          "base_uri": "https://localhost:8080/"
        },
        "id": "RPf1HOLlNz35",
        "outputId": "949a7611-d4b6-46c5-a046-a93693d80d53"
      },
      "outputs": [
        {
          "output_type": "execute_result",
          "data": {
            "text/plain": [
              "(Timestamp('2009-01-01 11:04:24+0000', tz='UTC'),\n",
              " Timestamp('2015-06-30 20:03:50+0000', tz='UTC'))"
            ]
          },
          "metadata": {},
          "execution_count": 30
        }
      ],
      "source": [
        "test_df['pickup_datetime'].min(), test_df['pickup_datetime'].max()"
      ]
    },
    {
      "cell_type": "markdown",
      "metadata": {
        "id": "Ss8MNPmDOdI6"
      },
      "source": [
        "Some observations about the test set:\n",
        "\n",
        "- 9914 rows of data\n",
        "- No missing values\n",
        "- No obvious data entry errors\n",
        "- 1 to 6 passengers (we can limit training data to this range)\n",
        "- Latitudes lie between 40 and 42\n",
        "- Longitudes lie between -75 and -72\n",
        "- Pickup dates range from Jan 1st 2009 to Jun  30th 2015 (same as training set)\n",
        "\n",
        "We can use the ranges of the test set to drop outliers/invalid data from the training set."
      ]
    },
    {
      "cell_type": "markdown",
      "metadata": {
        "id": "bF9HSHbZOlbI"
      },
      "source": [
        "### `Exploratory Data Analysis and Visualization`\n"
      ]
    },
    {
      "cell_type": "markdown",
      "metadata": {
        "id": "jXrdkhERPAeZ"
      },
      "source": [
        "\n",
        "1. What is the busiest day of the week?\n",
        "2. What is the busiest time of the day?\n",
        "3. In which month are fares the highest?\n",
        "4. Which pickup locations have the highest fares?\n",
        "5. Which drop locations have the highest fares?\n",
        "6. What is the average ride distance?\n",
        "\n"
      ]
    },
    {
      "cell_type": "code",
      "source": [
        "# visualization libraries\n",
        "import matplotlib as mpl\n",
        "import matplotlib.pyplot as plt\n",
        "import seaborn as sns\n",
        "import plotly.express as px\n",
        "import plotly.graph_objects as go"
      ],
      "metadata": {
        "id": "NI_p3TgUg-IJ"
      },
      "execution_count": 31,
      "outputs": []
    },
    {
      "cell_type": "markdown",
      "metadata": {
        "id": "P7OjX513PH-Y"
      },
      "source": [
        "## 3. Prepare Dataset for Training\n",
        "\n",
        "- Split Training & Validation Set\n",
        "- Fill/Remove Missing Values\n",
        "- Extract Inputs & Outputs\n",
        "   - Training\n",
        "   - Validation\n",
        "   - *Test*"
      ]
    },
    {
      "cell_type": "markdown",
      "metadata": {
        "id": "jEZzsin0Py7h"
      },
      "source": [
        "### Split Training & Validation Set\n",
        "\n",
        "We'll set aside 20% of the training data as the validation set, to evaluate the models we train on previously unseen data. \n",
        "\n",
        "Since the test set and training set have the same date ranges, we can pick a random 20% fraction."
      ]
    },
    {
      "cell_type": "code",
      "execution_count": 32,
      "metadata": {
        "id": "QL4IGvVdOCrr"
      },
      "outputs": [],
      "source": [
        "from sklearn.model_selection import train_test_split"
      ]
    },
    {
      "cell_type": "code",
      "execution_count": 33,
      "metadata": {
        "id": "iGw_p9gnQheX"
      },
      "outputs": [],
      "source": [
        "train_df, val_df = train_test_split(df, test_size=0.2, random_state=42 )"
      ]
    },
    {
      "cell_type": "code",
      "execution_count": 34,
      "metadata": {
        "colab": {
          "base_uri": "https://localhost:8080/"
        },
        "id": "2Sq495GlRO_T",
        "outputId": "7c264e01-fdef-4f66-b787-2e8570a21716"
      },
      "outputs": [
        {
          "output_type": "execute_result",
          "data": {
            "text/plain": [
              "(441960, 110490)"
            ]
          },
          "metadata": {},
          "execution_count": 34
        }
      ],
      "source": [
        "len(train_df), len(val_df)"
      ]
    },
    {
      "cell_type": "markdown",
      "metadata": {
        "id": "y98CcLBCRcb0"
      },
      "source": [
        "### Fill/Remove Missing Values\n",
        "\n",
        "There are no missing values in our sample, but if there were, we could simply drop the rows with missing values instead of trying to fill them (since we have a lot of training data)>"
      ]
    },
    {
      "cell_type": "code",
      "execution_count": 35,
      "metadata": {
        "id": "qJyku9B0RVKG"
      },
      "outputs": [],
      "source": [
        "train_df = train_df.dropna()\n",
        "val_df = val_df.dropna()"
      ]
    },
    {
      "cell_type": "markdown",
      "metadata": {
        "id": "ohmFwhIjRtvc"
      },
      "source": [
        "### Extract Inputs and Outputs"
      ]
    },
    {
      "cell_type": "code",
      "execution_count": 36,
      "metadata": {
        "colab": {
          "base_uri": "https://localhost:8080/"
        },
        "id": "tBQ4mi9SRplK",
        "outputId": "9f5e7843-e7d3-44e5-baeb-6782e5ef08a5"
      },
      "outputs": [
        {
          "output_type": "execute_result",
          "data": {
            "text/plain": [
              "Index(['fare_amount', 'pickup_datetime', 'pickup_longitude', 'pickup_latitude',\n",
              "       'dropoff_longitude', 'dropoff_latitude', 'passenger_count'],\n",
              "      dtype='object')"
            ]
          },
          "metadata": {},
          "execution_count": 36
        }
      ],
      "source": [
        "df.columns"
      ]
    },
    {
      "cell_type": "code",
      "execution_count": 37,
      "metadata": {
        "id": "uLl-psfHSWco"
      },
      "outputs": [],
      "source": [
        "input_cols = ['pickup_longitude', 'pickup_latitude', 'dropoff_longitude', 'dropoff_latitude', 'passenger_count']"
      ]
    },
    {
      "cell_type": "code",
      "execution_count": 38,
      "metadata": {
        "id": "miTBuSjARw2K"
      },
      "outputs": [],
      "source": [
        "target_col = 'fare_amount'"
      ]
    },
    {
      "cell_type": "markdown",
      "metadata": {
        "id": "HhuWpNA2SPtb"
      },
      "source": [
        "#### Training"
      ]
    },
    {
      "cell_type": "code",
      "execution_count": 39,
      "metadata": {
        "id": "TPK2apm9SLDn"
      },
      "outputs": [],
      "source": [
        "train_inputs = train_df[input_cols]"
      ]
    },
    {
      "cell_type": "code",
      "execution_count": 40,
      "metadata": {
        "id": "p0NEesM2SSC6"
      },
      "outputs": [],
      "source": [
        "train_targets = train_df[[target_col]]"
      ]
    },
    {
      "cell_type": "code",
      "execution_count": 41,
      "metadata": {
        "colab": {
          "base_uri": "https://localhost:8080/",
          "height": 424
        },
        "id": "xfilPbKiSmes",
        "outputId": "61679173-a899-4392-dcbe-e44e04b666c3"
      },
      "outputs": [
        {
          "output_type": "execute_result",
          "data": {
            "text/plain": [
              "        pickup_longitude  pickup_latitude  dropoff_longitude  \\\n",
              "353352        -73.993652        40.741543         -73.977974   \n",
              "360070        -73.993805        40.724579         -73.993805   \n",
              "372609        -73.959160        40.780750         -73.969116   \n",
              "550895        -73.952187        40.783951         -73.978645   \n",
              "444151        -73.977112        40.746834         -73.991104   \n",
              "...                  ...              ...                ...   \n",
              "110268        -73.987152        40.750633         -73.979073   \n",
              "259178        -73.972656        40.764042         -74.013176   \n",
              "365838        -73.991982        40.749767         -73.989845   \n",
              "131932        -73.969055        40.761398         -73.990814   \n",
              "121958        -73.983040        40.742142         -74.002510   \n",
              "\n",
              "        dropoff_latitude  passenger_count  \n",
              "353352         40.742352              4.0  \n",
              "360070         40.724577              1.0  \n",
              "372609         40.761231              1.0  \n",
              "550895         40.772603              1.0  \n",
              "444151         40.750403              2.0  \n",
              "...                  ...              ...  \n",
              "110268         40.763167              1.0  \n",
              "259178         40.707841              2.0  \n",
              "365838         40.720552              3.0  \n",
              "131932         40.751327              1.0  \n",
              "121958         40.727650              1.0  \n",
              "\n",
              "[441960 rows x 5 columns]"
            ],
            "text/html": [
              "\n",
              "  <div id=\"df-94e6b15c-8fe4-4dfb-b3de-b1a9842d586c\">\n",
              "    <div class=\"colab-df-container\">\n",
              "      <div>\n",
              "<style scoped>\n",
              "    .dataframe tbody tr th:only-of-type {\n",
              "        vertical-align: middle;\n",
              "    }\n",
              "\n",
              "    .dataframe tbody tr th {\n",
              "        vertical-align: top;\n",
              "    }\n",
              "\n",
              "    .dataframe thead th {\n",
              "        text-align: right;\n",
              "    }\n",
              "</style>\n",
              "<table border=\"1\" class=\"dataframe\">\n",
              "  <thead>\n",
              "    <tr style=\"text-align: right;\">\n",
              "      <th></th>\n",
              "      <th>pickup_longitude</th>\n",
              "      <th>pickup_latitude</th>\n",
              "      <th>dropoff_longitude</th>\n",
              "      <th>dropoff_latitude</th>\n",
              "      <th>passenger_count</th>\n",
              "    </tr>\n",
              "  </thead>\n",
              "  <tbody>\n",
              "    <tr>\n",
              "      <th>353352</th>\n",
              "      <td>-73.993652</td>\n",
              "      <td>40.741543</td>\n",
              "      <td>-73.977974</td>\n",
              "      <td>40.742352</td>\n",
              "      <td>4.0</td>\n",
              "    </tr>\n",
              "    <tr>\n",
              "      <th>360070</th>\n",
              "      <td>-73.993805</td>\n",
              "      <td>40.724579</td>\n",
              "      <td>-73.993805</td>\n",
              "      <td>40.724577</td>\n",
              "      <td>1.0</td>\n",
              "    </tr>\n",
              "    <tr>\n",
              "      <th>372609</th>\n",
              "      <td>-73.959160</td>\n",
              "      <td>40.780750</td>\n",
              "      <td>-73.969116</td>\n",
              "      <td>40.761231</td>\n",
              "      <td>1.0</td>\n",
              "    </tr>\n",
              "    <tr>\n",
              "      <th>550895</th>\n",
              "      <td>-73.952187</td>\n",
              "      <td>40.783951</td>\n",
              "      <td>-73.978645</td>\n",
              "      <td>40.772603</td>\n",
              "      <td>1.0</td>\n",
              "    </tr>\n",
              "    <tr>\n",
              "      <th>444151</th>\n",
              "      <td>-73.977112</td>\n",
              "      <td>40.746834</td>\n",
              "      <td>-73.991104</td>\n",
              "      <td>40.750403</td>\n",
              "      <td>2.0</td>\n",
              "    </tr>\n",
              "    <tr>\n",
              "      <th>...</th>\n",
              "      <td>...</td>\n",
              "      <td>...</td>\n",
              "      <td>...</td>\n",
              "      <td>...</td>\n",
              "      <td>...</td>\n",
              "    </tr>\n",
              "    <tr>\n",
              "      <th>110268</th>\n",
              "      <td>-73.987152</td>\n",
              "      <td>40.750633</td>\n",
              "      <td>-73.979073</td>\n",
              "      <td>40.763167</td>\n",
              "      <td>1.0</td>\n",
              "    </tr>\n",
              "    <tr>\n",
              "      <th>259178</th>\n",
              "      <td>-73.972656</td>\n",
              "      <td>40.764042</td>\n",
              "      <td>-74.013176</td>\n",
              "      <td>40.707841</td>\n",
              "      <td>2.0</td>\n",
              "    </tr>\n",
              "    <tr>\n",
              "      <th>365838</th>\n",
              "      <td>-73.991982</td>\n",
              "      <td>40.749767</td>\n",
              "      <td>-73.989845</td>\n",
              "      <td>40.720552</td>\n",
              "      <td>3.0</td>\n",
              "    </tr>\n",
              "    <tr>\n",
              "      <th>131932</th>\n",
              "      <td>-73.969055</td>\n",
              "      <td>40.761398</td>\n",
              "      <td>-73.990814</td>\n",
              "      <td>40.751327</td>\n",
              "      <td>1.0</td>\n",
              "    </tr>\n",
              "    <tr>\n",
              "      <th>121958</th>\n",
              "      <td>-73.983040</td>\n",
              "      <td>40.742142</td>\n",
              "      <td>-74.002510</td>\n",
              "      <td>40.727650</td>\n",
              "      <td>1.0</td>\n",
              "    </tr>\n",
              "  </tbody>\n",
              "</table>\n",
              "<p>441960 rows × 5 columns</p>\n",
              "</div>\n",
              "      <button class=\"colab-df-convert\" onclick=\"convertToInteractive('df-94e6b15c-8fe4-4dfb-b3de-b1a9842d586c')\"\n",
              "              title=\"Convert this dataframe to an interactive table.\"\n",
              "              style=\"display:none;\">\n",
              "        \n",
              "  <svg xmlns=\"http://www.w3.org/2000/svg\" height=\"24px\"viewBox=\"0 0 24 24\"\n",
              "       width=\"24px\">\n",
              "    <path d=\"M0 0h24v24H0V0z\" fill=\"none\"/>\n",
              "    <path d=\"M18.56 5.44l.94 2.06.94-2.06 2.06-.94-2.06-.94-.94-2.06-.94 2.06-2.06.94zm-11 1L8.5 8.5l.94-2.06 2.06-.94-2.06-.94L8.5 2.5l-.94 2.06-2.06.94zm10 10l.94 2.06.94-2.06 2.06-.94-2.06-.94-.94-2.06-.94 2.06-2.06.94z\"/><path d=\"M17.41 7.96l-1.37-1.37c-.4-.4-.92-.59-1.43-.59-.52 0-1.04.2-1.43.59L10.3 9.45l-7.72 7.72c-.78.78-.78 2.05 0 2.83L4 21.41c.39.39.9.59 1.41.59.51 0 1.02-.2 1.41-.59l7.78-7.78 2.81-2.81c.8-.78.8-2.07 0-2.86zM5.41 20L4 18.59l7.72-7.72 1.47 1.35L5.41 20z\"/>\n",
              "  </svg>\n",
              "      </button>\n",
              "      \n",
              "  <style>\n",
              "    .colab-df-container {\n",
              "      display:flex;\n",
              "      flex-wrap:wrap;\n",
              "      gap: 12px;\n",
              "    }\n",
              "\n",
              "    .colab-df-convert {\n",
              "      background-color: #E8F0FE;\n",
              "      border: none;\n",
              "      border-radius: 50%;\n",
              "      cursor: pointer;\n",
              "      display: none;\n",
              "      fill: #1967D2;\n",
              "      height: 32px;\n",
              "      padding: 0 0 0 0;\n",
              "      width: 32px;\n",
              "    }\n",
              "\n",
              "    .colab-df-convert:hover {\n",
              "      background-color: #E2EBFA;\n",
              "      box-shadow: 0px 1px 2px rgba(60, 64, 67, 0.3), 0px 1px 3px 1px rgba(60, 64, 67, 0.15);\n",
              "      fill: #174EA6;\n",
              "    }\n",
              "\n",
              "    [theme=dark] .colab-df-convert {\n",
              "      background-color: #3B4455;\n",
              "      fill: #D2E3FC;\n",
              "    }\n",
              "\n",
              "    [theme=dark] .colab-df-convert:hover {\n",
              "      background-color: #434B5C;\n",
              "      box-shadow: 0px 1px 3px 1px rgba(0, 0, 0, 0.15);\n",
              "      filter: drop-shadow(0px 1px 2px rgba(0, 0, 0, 0.3));\n",
              "      fill: #FFFFFF;\n",
              "    }\n",
              "  </style>\n",
              "\n",
              "      <script>\n",
              "        const buttonEl =\n",
              "          document.querySelector('#df-94e6b15c-8fe4-4dfb-b3de-b1a9842d586c button.colab-df-convert');\n",
              "        buttonEl.style.display =\n",
              "          google.colab.kernel.accessAllowed ? 'block' : 'none';\n",
              "\n",
              "        async function convertToInteractive(key) {\n",
              "          const element = document.querySelector('#df-94e6b15c-8fe4-4dfb-b3de-b1a9842d586c');\n",
              "          const dataTable =\n",
              "            await google.colab.kernel.invokeFunction('convertToInteractive',\n",
              "                                                     [key], {});\n",
              "          if (!dataTable) return;\n",
              "\n",
              "          const docLinkHtml = 'Like what you see? Visit the ' +\n",
              "            '<a target=\"_blank\" href=https://colab.research.google.com/notebooks/data_table.ipynb>data table notebook</a>'\n",
              "            + ' to learn more about interactive tables.';\n",
              "          element.innerHTML = '';\n",
              "          dataTable['output_type'] = 'display_data';\n",
              "          await google.colab.output.renderOutput(dataTable, element);\n",
              "          const docLink = document.createElement('div');\n",
              "          docLink.innerHTML = docLinkHtml;\n",
              "          element.appendChild(docLink);\n",
              "        }\n",
              "      </script>\n",
              "    </div>\n",
              "  </div>\n",
              "  "
            ]
          },
          "metadata": {},
          "execution_count": 41
        }
      ],
      "source": [
        "train_inputs"
      ]
    },
    {
      "cell_type": "code",
      "execution_count": 42,
      "metadata": {
        "colab": {
          "base_uri": "https://localhost:8080/",
          "height": 424
        },
        "id": "mcBoERgpS68E",
        "outputId": "89865ba7-d153-45e0-e4c6-de9060002a78"
      },
      "outputs": [
        {
          "output_type": "execute_result",
          "data": {
            "text/plain": [
              "        fare_amount\n",
              "353352          6.0\n",
              "360070          3.7\n",
              "372609         10.0\n",
              "550895          8.9\n",
              "444151          7.3\n",
              "...             ...\n",
              "110268          9.3\n",
              "259178         18.5\n",
              "365838         10.1\n",
              "131932         10.9\n",
              "121958          9.5\n",
              "\n",
              "[441960 rows x 1 columns]"
            ],
            "text/html": [
              "\n",
              "  <div id=\"df-0eea7fb1-a91e-4947-bb5a-21ec1cbe96a4\">\n",
              "    <div class=\"colab-df-container\">\n",
              "      <div>\n",
              "<style scoped>\n",
              "    .dataframe tbody tr th:only-of-type {\n",
              "        vertical-align: middle;\n",
              "    }\n",
              "\n",
              "    .dataframe tbody tr th {\n",
              "        vertical-align: top;\n",
              "    }\n",
              "\n",
              "    .dataframe thead th {\n",
              "        text-align: right;\n",
              "    }\n",
              "</style>\n",
              "<table border=\"1\" class=\"dataframe\">\n",
              "  <thead>\n",
              "    <tr style=\"text-align: right;\">\n",
              "      <th></th>\n",
              "      <th>fare_amount</th>\n",
              "    </tr>\n",
              "  </thead>\n",
              "  <tbody>\n",
              "    <tr>\n",
              "      <th>353352</th>\n",
              "      <td>6.0</td>\n",
              "    </tr>\n",
              "    <tr>\n",
              "      <th>360070</th>\n",
              "      <td>3.7</td>\n",
              "    </tr>\n",
              "    <tr>\n",
              "      <th>372609</th>\n",
              "      <td>10.0</td>\n",
              "    </tr>\n",
              "    <tr>\n",
              "      <th>550895</th>\n",
              "      <td>8.9</td>\n",
              "    </tr>\n",
              "    <tr>\n",
              "      <th>444151</th>\n",
              "      <td>7.3</td>\n",
              "    </tr>\n",
              "    <tr>\n",
              "      <th>...</th>\n",
              "      <td>...</td>\n",
              "    </tr>\n",
              "    <tr>\n",
              "      <th>110268</th>\n",
              "      <td>9.3</td>\n",
              "    </tr>\n",
              "    <tr>\n",
              "      <th>259178</th>\n",
              "      <td>18.5</td>\n",
              "    </tr>\n",
              "    <tr>\n",
              "      <th>365838</th>\n",
              "      <td>10.1</td>\n",
              "    </tr>\n",
              "    <tr>\n",
              "      <th>131932</th>\n",
              "      <td>10.9</td>\n",
              "    </tr>\n",
              "    <tr>\n",
              "      <th>121958</th>\n",
              "      <td>9.5</td>\n",
              "    </tr>\n",
              "  </tbody>\n",
              "</table>\n",
              "<p>441960 rows × 1 columns</p>\n",
              "</div>\n",
              "      <button class=\"colab-df-convert\" onclick=\"convertToInteractive('df-0eea7fb1-a91e-4947-bb5a-21ec1cbe96a4')\"\n",
              "              title=\"Convert this dataframe to an interactive table.\"\n",
              "              style=\"display:none;\">\n",
              "        \n",
              "  <svg xmlns=\"http://www.w3.org/2000/svg\" height=\"24px\"viewBox=\"0 0 24 24\"\n",
              "       width=\"24px\">\n",
              "    <path d=\"M0 0h24v24H0V0z\" fill=\"none\"/>\n",
              "    <path d=\"M18.56 5.44l.94 2.06.94-2.06 2.06-.94-2.06-.94-.94-2.06-.94 2.06-2.06.94zm-11 1L8.5 8.5l.94-2.06 2.06-.94-2.06-.94L8.5 2.5l-.94 2.06-2.06.94zm10 10l.94 2.06.94-2.06 2.06-.94-2.06-.94-.94-2.06-.94 2.06-2.06.94z\"/><path d=\"M17.41 7.96l-1.37-1.37c-.4-.4-.92-.59-1.43-.59-.52 0-1.04.2-1.43.59L10.3 9.45l-7.72 7.72c-.78.78-.78 2.05 0 2.83L4 21.41c.39.39.9.59 1.41.59.51 0 1.02-.2 1.41-.59l7.78-7.78 2.81-2.81c.8-.78.8-2.07 0-2.86zM5.41 20L4 18.59l7.72-7.72 1.47 1.35L5.41 20z\"/>\n",
              "  </svg>\n",
              "      </button>\n",
              "      \n",
              "  <style>\n",
              "    .colab-df-container {\n",
              "      display:flex;\n",
              "      flex-wrap:wrap;\n",
              "      gap: 12px;\n",
              "    }\n",
              "\n",
              "    .colab-df-convert {\n",
              "      background-color: #E8F0FE;\n",
              "      border: none;\n",
              "      border-radius: 50%;\n",
              "      cursor: pointer;\n",
              "      display: none;\n",
              "      fill: #1967D2;\n",
              "      height: 32px;\n",
              "      padding: 0 0 0 0;\n",
              "      width: 32px;\n",
              "    }\n",
              "\n",
              "    .colab-df-convert:hover {\n",
              "      background-color: #E2EBFA;\n",
              "      box-shadow: 0px 1px 2px rgba(60, 64, 67, 0.3), 0px 1px 3px 1px rgba(60, 64, 67, 0.15);\n",
              "      fill: #174EA6;\n",
              "    }\n",
              "\n",
              "    [theme=dark] .colab-df-convert {\n",
              "      background-color: #3B4455;\n",
              "      fill: #D2E3FC;\n",
              "    }\n",
              "\n",
              "    [theme=dark] .colab-df-convert:hover {\n",
              "      background-color: #434B5C;\n",
              "      box-shadow: 0px 1px 3px 1px rgba(0, 0, 0, 0.15);\n",
              "      filter: drop-shadow(0px 1px 2px rgba(0, 0, 0, 0.3));\n",
              "      fill: #FFFFFF;\n",
              "    }\n",
              "  </style>\n",
              "\n",
              "      <script>\n",
              "        const buttonEl =\n",
              "          document.querySelector('#df-0eea7fb1-a91e-4947-bb5a-21ec1cbe96a4 button.colab-df-convert');\n",
              "        buttonEl.style.display =\n",
              "          google.colab.kernel.accessAllowed ? 'block' : 'none';\n",
              "\n",
              "        async function convertToInteractive(key) {\n",
              "          const element = document.querySelector('#df-0eea7fb1-a91e-4947-bb5a-21ec1cbe96a4');\n",
              "          const dataTable =\n",
              "            await google.colab.kernel.invokeFunction('convertToInteractive',\n",
              "                                                     [key], {});\n",
              "          if (!dataTable) return;\n",
              "\n",
              "          const docLinkHtml = 'Like what you see? Visit the ' +\n",
              "            '<a target=\"_blank\" href=https://colab.research.google.com/notebooks/data_table.ipynb>data table notebook</a>'\n",
              "            + ' to learn more about interactive tables.';\n",
              "          element.innerHTML = '';\n",
              "          dataTable['output_type'] = 'display_data';\n",
              "          await google.colab.output.renderOutput(dataTable, element);\n",
              "          const docLink = document.createElement('div');\n",
              "          docLink.innerHTML = docLinkHtml;\n",
              "          element.appendChild(docLink);\n",
              "        }\n",
              "      </script>\n",
              "    </div>\n",
              "  </div>\n",
              "  "
            ]
          },
          "metadata": {},
          "execution_count": 42
        }
      ],
      "source": [
        "train_targets"
      ]
    },
    {
      "cell_type": "markdown",
      "metadata": {
        "id": "n-T2x1zuyzNq"
      },
      "source": [
        "#### Validation"
      ]
    },
    {
      "cell_type": "code",
      "execution_count": 43,
      "metadata": {
        "id": "37CNG-7szOAA"
      },
      "outputs": [],
      "source": [
        "val_inputs = val_df[input_cols]"
      ]
    },
    {
      "cell_type": "code",
      "execution_count": 44,
      "metadata": {
        "id": "47ASWRBvzTWc"
      },
      "outputs": [],
      "source": [
        "val_targets = val_df[target_col]"
      ]
    },
    {
      "cell_type": "code",
      "execution_count": 45,
      "metadata": {
        "colab": {
          "base_uri": "https://localhost:8080/",
          "height": 424
        },
        "id": "JEPvbjA8zfFI",
        "outputId": "8b57c809-7e17-403a-a657-88f4670144e5"
      },
      "outputs": [
        {
          "output_type": "execute_result",
          "data": {
            "text/plain": [
              "        pickup_longitude  pickup_latitude  dropoff_longitude  \\\n",
              "15971         -73.995834        40.759190         -73.973679   \n",
              "149839        -73.977386        40.738335         -73.976143   \n",
              "515867        -73.983910        40.749470         -73.787170   \n",
              "90307         -73.790794        40.643463         -73.972252   \n",
              "287032        -73.976593        40.761944         -73.991463   \n",
              "...                  ...              ...                ...   \n",
              "467556        -73.968567        40.761238         -73.983406   \n",
              "19482         -73.986725        40.755920         -73.985855   \n",
              "186063          0.000000         0.000000           0.000000   \n",
              "382260        -73.980057        40.760334         -73.872589   \n",
              "18838         -73.955406        40.782417         -73.960434   \n",
              "\n",
              "        dropoff_latitude  passenger_count  \n",
              "15971          40.739086              1.0  \n",
              "149839         40.751204              1.0  \n",
              "515867         40.646643              1.0  \n",
              "90307          40.690180              1.0  \n",
              "287032         40.750309              2.0  \n",
              "...                  ...              ...  \n",
              "467556         40.750020              3.0  \n",
              "19482          40.731170              1.0  \n",
              "186063          0.000000              1.0  \n",
              "382260         40.774298              1.0  \n",
              "18838          40.767666              1.0  \n",
              "\n",
              "[110490 rows x 5 columns]"
            ],
            "text/html": [
              "\n",
              "  <div id=\"df-4626b878-ce56-4c5f-b65d-9050be9cc71c\">\n",
              "    <div class=\"colab-df-container\">\n",
              "      <div>\n",
              "<style scoped>\n",
              "    .dataframe tbody tr th:only-of-type {\n",
              "        vertical-align: middle;\n",
              "    }\n",
              "\n",
              "    .dataframe tbody tr th {\n",
              "        vertical-align: top;\n",
              "    }\n",
              "\n",
              "    .dataframe thead th {\n",
              "        text-align: right;\n",
              "    }\n",
              "</style>\n",
              "<table border=\"1\" class=\"dataframe\">\n",
              "  <thead>\n",
              "    <tr style=\"text-align: right;\">\n",
              "      <th></th>\n",
              "      <th>pickup_longitude</th>\n",
              "      <th>pickup_latitude</th>\n",
              "      <th>dropoff_longitude</th>\n",
              "      <th>dropoff_latitude</th>\n",
              "      <th>passenger_count</th>\n",
              "    </tr>\n",
              "  </thead>\n",
              "  <tbody>\n",
              "    <tr>\n",
              "      <th>15971</th>\n",
              "      <td>-73.995834</td>\n",
              "      <td>40.759190</td>\n",
              "      <td>-73.973679</td>\n",
              "      <td>40.739086</td>\n",
              "      <td>1.0</td>\n",
              "    </tr>\n",
              "    <tr>\n",
              "      <th>149839</th>\n",
              "      <td>-73.977386</td>\n",
              "      <td>40.738335</td>\n",
              "      <td>-73.976143</td>\n",
              "      <td>40.751204</td>\n",
              "      <td>1.0</td>\n",
              "    </tr>\n",
              "    <tr>\n",
              "      <th>515867</th>\n",
              "      <td>-73.983910</td>\n",
              "      <td>40.749470</td>\n",
              "      <td>-73.787170</td>\n",
              "      <td>40.646643</td>\n",
              "      <td>1.0</td>\n",
              "    </tr>\n",
              "    <tr>\n",
              "      <th>90307</th>\n",
              "      <td>-73.790794</td>\n",
              "      <td>40.643463</td>\n",
              "      <td>-73.972252</td>\n",
              "      <td>40.690180</td>\n",
              "      <td>1.0</td>\n",
              "    </tr>\n",
              "    <tr>\n",
              "      <th>287032</th>\n",
              "      <td>-73.976593</td>\n",
              "      <td>40.761944</td>\n",
              "      <td>-73.991463</td>\n",
              "      <td>40.750309</td>\n",
              "      <td>2.0</td>\n",
              "    </tr>\n",
              "    <tr>\n",
              "      <th>...</th>\n",
              "      <td>...</td>\n",
              "      <td>...</td>\n",
              "      <td>...</td>\n",
              "      <td>...</td>\n",
              "      <td>...</td>\n",
              "    </tr>\n",
              "    <tr>\n",
              "      <th>467556</th>\n",
              "      <td>-73.968567</td>\n",
              "      <td>40.761238</td>\n",
              "      <td>-73.983406</td>\n",
              "      <td>40.750020</td>\n",
              "      <td>3.0</td>\n",
              "    </tr>\n",
              "    <tr>\n",
              "      <th>19482</th>\n",
              "      <td>-73.986725</td>\n",
              "      <td>40.755920</td>\n",
              "      <td>-73.985855</td>\n",
              "      <td>40.731170</td>\n",
              "      <td>1.0</td>\n",
              "    </tr>\n",
              "    <tr>\n",
              "      <th>186063</th>\n",
              "      <td>0.000000</td>\n",
              "      <td>0.000000</td>\n",
              "      <td>0.000000</td>\n",
              "      <td>0.000000</td>\n",
              "      <td>1.0</td>\n",
              "    </tr>\n",
              "    <tr>\n",
              "      <th>382260</th>\n",
              "      <td>-73.980057</td>\n",
              "      <td>40.760334</td>\n",
              "      <td>-73.872589</td>\n",
              "      <td>40.774298</td>\n",
              "      <td>1.0</td>\n",
              "    </tr>\n",
              "    <tr>\n",
              "      <th>18838</th>\n",
              "      <td>-73.955406</td>\n",
              "      <td>40.782417</td>\n",
              "      <td>-73.960434</td>\n",
              "      <td>40.767666</td>\n",
              "      <td>1.0</td>\n",
              "    </tr>\n",
              "  </tbody>\n",
              "</table>\n",
              "<p>110490 rows × 5 columns</p>\n",
              "</div>\n",
              "      <button class=\"colab-df-convert\" onclick=\"convertToInteractive('df-4626b878-ce56-4c5f-b65d-9050be9cc71c')\"\n",
              "              title=\"Convert this dataframe to an interactive table.\"\n",
              "              style=\"display:none;\">\n",
              "        \n",
              "  <svg xmlns=\"http://www.w3.org/2000/svg\" height=\"24px\"viewBox=\"0 0 24 24\"\n",
              "       width=\"24px\">\n",
              "    <path d=\"M0 0h24v24H0V0z\" fill=\"none\"/>\n",
              "    <path d=\"M18.56 5.44l.94 2.06.94-2.06 2.06-.94-2.06-.94-.94-2.06-.94 2.06-2.06.94zm-11 1L8.5 8.5l.94-2.06 2.06-.94-2.06-.94L8.5 2.5l-.94 2.06-2.06.94zm10 10l.94 2.06.94-2.06 2.06-.94-2.06-.94-.94-2.06-.94 2.06-2.06.94z\"/><path d=\"M17.41 7.96l-1.37-1.37c-.4-.4-.92-.59-1.43-.59-.52 0-1.04.2-1.43.59L10.3 9.45l-7.72 7.72c-.78.78-.78 2.05 0 2.83L4 21.41c.39.39.9.59 1.41.59.51 0 1.02-.2 1.41-.59l7.78-7.78 2.81-2.81c.8-.78.8-2.07 0-2.86zM5.41 20L4 18.59l7.72-7.72 1.47 1.35L5.41 20z\"/>\n",
              "  </svg>\n",
              "      </button>\n",
              "      \n",
              "  <style>\n",
              "    .colab-df-container {\n",
              "      display:flex;\n",
              "      flex-wrap:wrap;\n",
              "      gap: 12px;\n",
              "    }\n",
              "\n",
              "    .colab-df-convert {\n",
              "      background-color: #E8F0FE;\n",
              "      border: none;\n",
              "      border-radius: 50%;\n",
              "      cursor: pointer;\n",
              "      display: none;\n",
              "      fill: #1967D2;\n",
              "      height: 32px;\n",
              "      padding: 0 0 0 0;\n",
              "      width: 32px;\n",
              "    }\n",
              "\n",
              "    .colab-df-convert:hover {\n",
              "      background-color: #E2EBFA;\n",
              "      box-shadow: 0px 1px 2px rgba(60, 64, 67, 0.3), 0px 1px 3px 1px rgba(60, 64, 67, 0.15);\n",
              "      fill: #174EA6;\n",
              "    }\n",
              "\n",
              "    [theme=dark] .colab-df-convert {\n",
              "      background-color: #3B4455;\n",
              "      fill: #D2E3FC;\n",
              "    }\n",
              "\n",
              "    [theme=dark] .colab-df-convert:hover {\n",
              "      background-color: #434B5C;\n",
              "      box-shadow: 0px 1px 3px 1px rgba(0, 0, 0, 0.15);\n",
              "      filter: drop-shadow(0px 1px 2px rgba(0, 0, 0, 0.3));\n",
              "      fill: #FFFFFF;\n",
              "    }\n",
              "  </style>\n",
              "\n",
              "      <script>\n",
              "        const buttonEl =\n",
              "          document.querySelector('#df-4626b878-ce56-4c5f-b65d-9050be9cc71c button.colab-df-convert');\n",
              "        buttonEl.style.display =\n",
              "          google.colab.kernel.accessAllowed ? 'block' : 'none';\n",
              "\n",
              "        async function convertToInteractive(key) {\n",
              "          const element = document.querySelector('#df-4626b878-ce56-4c5f-b65d-9050be9cc71c');\n",
              "          const dataTable =\n",
              "            await google.colab.kernel.invokeFunction('convertToInteractive',\n",
              "                                                     [key], {});\n",
              "          if (!dataTable) return;\n",
              "\n",
              "          const docLinkHtml = 'Like what you see? Visit the ' +\n",
              "            '<a target=\"_blank\" href=https://colab.research.google.com/notebooks/data_table.ipynb>data table notebook</a>'\n",
              "            + ' to learn more about interactive tables.';\n",
              "          element.innerHTML = '';\n",
              "          dataTable['output_type'] = 'display_data';\n",
              "          await google.colab.output.renderOutput(dataTable, element);\n",
              "          const docLink = document.createElement('div');\n",
              "          docLink.innerHTML = docLinkHtml;\n",
              "          element.appendChild(docLink);\n",
              "        }\n",
              "      </script>\n",
              "    </div>\n",
              "  </div>\n",
              "  "
            ]
          },
          "metadata": {},
          "execution_count": 45
        }
      ],
      "source": [
        "val_inputs"
      ]
    },
    {
      "cell_type": "code",
      "execution_count": 46,
      "metadata": {
        "colab": {
          "base_uri": "https://localhost:8080/"
        },
        "id": "1qmflMTQzrYw",
        "outputId": "ccb1da4c-0cd2-4166-f9ae-37776c643f2b"
      },
      "outputs": [
        {
          "output_type": "execute_result",
          "data": {
            "text/plain": [
              "15971     14.000000\n",
              "149839     6.500000\n",
              "515867    49.570000\n",
              "90307     49.700001\n",
              "287032     8.500000\n",
              "            ...    \n",
              "467556     6.100000\n",
              "19482      7.300000\n",
              "186063     4.500000\n",
              "382260    32.900002\n",
              "18838     11.500000\n",
              "Name: fare_amount, Length: 110490, dtype: float32"
            ]
          },
          "metadata": {},
          "execution_count": 46
        }
      ],
      "source": [
        "val_targets"
      ]
    },
    {
      "cell_type": "markdown",
      "metadata": {
        "id": "sXd-5aXETX2c"
      },
      "source": [
        "#### Test"
      ]
    },
    {
      "cell_type": "code",
      "execution_count": 47,
      "metadata": {
        "id": "DPCpPtecTBtm"
      },
      "outputs": [],
      "source": [
        "test_inputs = test_df[input_cols]"
      ]
    },
    {
      "cell_type": "code",
      "execution_count": 48,
      "metadata": {
        "colab": {
          "base_uri": "https://localhost:8080/",
          "height": 424
        },
        "id": "QonCXkbmThd5",
        "outputId": "208bae33-ee7c-4f8e-c5f2-e2677ffea14d"
      },
      "outputs": [
        {
          "output_type": "execute_result",
          "data": {
            "text/plain": [
              "      pickup_longitude  pickup_latitude  dropoff_longitude  dropoff_latitude  \\\n",
              "0           -73.973320        40.763805         -73.981430         40.743835   \n",
              "1           -73.986862        40.719383         -73.998886         40.739201   \n",
              "2           -73.982521        40.751259         -73.979652         40.746139   \n",
              "3           -73.981163        40.767807         -73.990448         40.751635   \n",
              "4           -73.966049        40.789776         -73.988564         40.744427   \n",
              "...                ...              ...                ...               ...   \n",
              "9909        -73.968124        40.796997         -73.955643         40.780388   \n",
              "9910        -73.945511        40.803600         -73.960213         40.776371   \n",
              "9911        -73.991600        40.726608         -73.789742         40.647011   \n",
              "9912        -73.985573        40.735432         -73.939178         40.801731   \n",
              "9913        -73.988022        40.754070         -74.000282         40.759220   \n",
              "\n",
              "      passenger_count  \n",
              "0                 1.0  \n",
              "1                 1.0  \n",
              "2                 1.0  \n",
              "3                 1.0  \n",
              "4                 1.0  \n",
              "...               ...  \n",
              "9909              6.0  \n",
              "9910              6.0  \n",
              "9911              6.0  \n",
              "9912              6.0  \n",
              "9913              6.0  \n",
              "\n",
              "[9914 rows x 5 columns]"
            ],
            "text/html": [
              "\n",
              "  <div id=\"df-a4e49a30-5b83-4390-a686-507e58ab771a\">\n",
              "    <div class=\"colab-df-container\">\n",
              "      <div>\n",
              "<style scoped>\n",
              "    .dataframe tbody tr th:only-of-type {\n",
              "        vertical-align: middle;\n",
              "    }\n",
              "\n",
              "    .dataframe tbody tr th {\n",
              "        vertical-align: top;\n",
              "    }\n",
              "\n",
              "    .dataframe thead th {\n",
              "        text-align: right;\n",
              "    }\n",
              "</style>\n",
              "<table border=\"1\" class=\"dataframe\">\n",
              "  <thead>\n",
              "    <tr style=\"text-align: right;\">\n",
              "      <th></th>\n",
              "      <th>pickup_longitude</th>\n",
              "      <th>pickup_latitude</th>\n",
              "      <th>dropoff_longitude</th>\n",
              "      <th>dropoff_latitude</th>\n",
              "      <th>passenger_count</th>\n",
              "    </tr>\n",
              "  </thead>\n",
              "  <tbody>\n",
              "    <tr>\n",
              "      <th>0</th>\n",
              "      <td>-73.973320</td>\n",
              "      <td>40.763805</td>\n",
              "      <td>-73.981430</td>\n",
              "      <td>40.743835</td>\n",
              "      <td>1.0</td>\n",
              "    </tr>\n",
              "    <tr>\n",
              "      <th>1</th>\n",
              "      <td>-73.986862</td>\n",
              "      <td>40.719383</td>\n",
              "      <td>-73.998886</td>\n",
              "      <td>40.739201</td>\n",
              "      <td>1.0</td>\n",
              "    </tr>\n",
              "    <tr>\n",
              "      <th>2</th>\n",
              "      <td>-73.982521</td>\n",
              "      <td>40.751259</td>\n",
              "      <td>-73.979652</td>\n",
              "      <td>40.746139</td>\n",
              "      <td>1.0</td>\n",
              "    </tr>\n",
              "    <tr>\n",
              "      <th>3</th>\n",
              "      <td>-73.981163</td>\n",
              "      <td>40.767807</td>\n",
              "      <td>-73.990448</td>\n",
              "      <td>40.751635</td>\n",
              "      <td>1.0</td>\n",
              "    </tr>\n",
              "    <tr>\n",
              "      <th>4</th>\n",
              "      <td>-73.966049</td>\n",
              "      <td>40.789776</td>\n",
              "      <td>-73.988564</td>\n",
              "      <td>40.744427</td>\n",
              "      <td>1.0</td>\n",
              "    </tr>\n",
              "    <tr>\n",
              "      <th>...</th>\n",
              "      <td>...</td>\n",
              "      <td>...</td>\n",
              "      <td>...</td>\n",
              "      <td>...</td>\n",
              "      <td>...</td>\n",
              "    </tr>\n",
              "    <tr>\n",
              "      <th>9909</th>\n",
              "      <td>-73.968124</td>\n",
              "      <td>40.796997</td>\n",
              "      <td>-73.955643</td>\n",
              "      <td>40.780388</td>\n",
              "      <td>6.0</td>\n",
              "    </tr>\n",
              "    <tr>\n",
              "      <th>9910</th>\n",
              "      <td>-73.945511</td>\n",
              "      <td>40.803600</td>\n",
              "      <td>-73.960213</td>\n",
              "      <td>40.776371</td>\n",
              "      <td>6.0</td>\n",
              "    </tr>\n",
              "    <tr>\n",
              "      <th>9911</th>\n",
              "      <td>-73.991600</td>\n",
              "      <td>40.726608</td>\n",
              "      <td>-73.789742</td>\n",
              "      <td>40.647011</td>\n",
              "      <td>6.0</td>\n",
              "    </tr>\n",
              "    <tr>\n",
              "      <th>9912</th>\n",
              "      <td>-73.985573</td>\n",
              "      <td>40.735432</td>\n",
              "      <td>-73.939178</td>\n",
              "      <td>40.801731</td>\n",
              "      <td>6.0</td>\n",
              "    </tr>\n",
              "    <tr>\n",
              "      <th>9913</th>\n",
              "      <td>-73.988022</td>\n",
              "      <td>40.754070</td>\n",
              "      <td>-74.000282</td>\n",
              "      <td>40.759220</td>\n",
              "      <td>6.0</td>\n",
              "    </tr>\n",
              "  </tbody>\n",
              "</table>\n",
              "<p>9914 rows × 5 columns</p>\n",
              "</div>\n",
              "      <button class=\"colab-df-convert\" onclick=\"convertToInteractive('df-a4e49a30-5b83-4390-a686-507e58ab771a')\"\n",
              "              title=\"Convert this dataframe to an interactive table.\"\n",
              "              style=\"display:none;\">\n",
              "        \n",
              "  <svg xmlns=\"http://www.w3.org/2000/svg\" height=\"24px\"viewBox=\"0 0 24 24\"\n",
              "       width=\"24px\">\n",
              "    <path d=\"M0 0h24v24H0V0z\" fill=\"none\"/>\n",
              "    <path d=\"M18.56 5.44l.94 2.06.94-2.06 2.06-.94-2.06-.94-.94-2.06-.94 2.06-2.06.94zm-11 1L8.5 8.5l.94-2.06 2.06-.94-2.06-.94L8.5 2.5l-.94 2.06-2.06.94zm10 10l.94 2.06.94-2.06 2.06-.94-2.06-.94-.94-2.06-.94 2.06-2.06.94z\"/><path d=\"M17.41 7.96l-1.37-1.37c-.4-.4-.92-.59-1.43-.59-.52 0-1.04.2-1.43.59L10.3 9.45l-7.72 7.72c-.78.78-.78 2.05 0 2.83L4 21.41c.39.39.9.59 1.41.59.51 0 1.02-.2 1.41-.59l7.78-7.78 2.81-2.81c.8-.78.8-2.07 0-2.86zM5.41 20L4 18.59l7.72-7.72 1.47 1.35L5.41 20z\"/>\n",
              "  </svg>\n",
              "      </button>\n",
              "      \n",
              "  <style>\n",
              "    .colab-df-container {\n",
              "      display:flex;\n",
              "      flex-wrap:wrap;\n",
              "      gap: 12px;\n",
              "    }\n",
              "\n",
              "    .colab-df-convert {\n",
              "      background-color: #E8F0FE;\n",
              "      border: none;\n",
              "      border-radius: 50%;\n",
              "      cursor: pointer;\n",
              "      display: none;\n",
              "      fill: #1967D2;\n",
              "      height: 32px;\n",
              "      padding: 0 0 0 0;\n",
              "      width: 32px;\n",
              "    }\n",
              "\n",
              "    .colab-df-convert:hover {\n",
              "      background-color: #E2EBFA;\n",
              "      box-shadow: 0px 1px 2px rgba(60, 64, 67, 0.3), 0px 1px 3px 1px rgba(60, 64, 67, 0.15);\n",
              "      fill: #174EA6;\n",
              "    }\n",
              "\n",
              "    [theme=dark] .colab-df-convert {\n",
              "      background-color: #3B4455;\n",
              "      fill: #D2E3FC;\n",
              "    }\n",
              "\n",
              "    [theme=dark] .colab-df-convert:hover {\n",
              "      background-color: #434B5C;\n",
              "      box-shadow: 0px 1px 3px 1px rgba(0, 0, 0, 0.15);\n",
              "      filter: drop-shadow(0px 1px 2px rgba(0, 0, 0, 0.3));\n",
              "      fill: #FFFFFF;\n",
              "    }\n",
              "  </style>\n",
              "\n",
              "      <script>\n",
              "        const buttonEl =\n",
              "          document.querySelector('#df-a4e49a30-5b83-4390-a686-507e58ab771a button.colab-df-convert');\n",
              "        buttonEl.style.display =\n",
              "          google.colab.kernel.accessAllowed ? 'block' : 'none';\n",
              "\n",
              "        async function convertToInteractive(key) {\n",
              "          const element = document.querySelector('#df-a4e49a30-5b83-4390-a686-507e58ab771a');\n",
              "          const dataTable =\n",
              "            await google.colab.kernel.invokeFunction('convertToInteractive',\n",
              "                                                     [key], {});\n",
              "          if (!dataTable) return;\n",
              "\n",
              "          const docLinkHtml = 'Like what you see? Visit the ' +\n",
              "            '<a target=\"_blank\" href=https://colab.research.google.com/notebooks/data_table.ipynb>data table notebook</a>'\n",
              "            + ' to learn more about interactive tables.';\n",
              "          element.innerHTML = '';\n",
              "          dataTable['output_type'] = 'display_data';\n",
              "          await google.colab.output.renderOutput(dataTable, element);\n",
              "          const docLink = document.createElement('div');\n",
              "          docLink.innerHTML = docLinkHtml;\n",
              "          element.appendChild(docLink);\n",
              "        }\n",
              "      </script>\n",
              "    </div>\n",
              "  </div>\n",
              "  "
            ]
          },
          "metadata": {},
          "execution_count": 48
        }
      ],
      "source": [
        "test_inputs"
      ]
    },
    {
      "cell_type": "markdown",
      "metadata": {
        "id": "9uviUfN5Uukv"
      },
      "source": [
        "### Train & Evaluate Baseline Model\n",
        "\n",
        "We'll traina linear regression model as our baseline, which tries to express the target as a weighted sum of the inputs."
      ]
    },
    {
      "cell_type": "code",
      "execution_count": 49,
      "metadata": {
        "id": "QMy5XOVyTlTF"
      },
      "outputs": [],
      "source": [
        "from sklearn.linear_model import LinearRegression"
      ]
    },
    {
      "cell_type": "code",
      "execution_count": 50,
      "metadata": {
        "id": "_RLn5dXQxdoY"
      },
      "outputs": [],
      "source": [
        "linreg_model = LinearRegression()"
      ]
    },
    {
      "cell_type": "code",
      "execution_count": 51,
      "metadata": {
        "colab": {
          "base_uri": "https://localhost:8080/"
        },
        "id": "hDX1phySxi7d",
        "outputId": "01599acf-29ba-474e-c4b2-f5bd0b5c431a"
      },
      "outputs": [
        {
          "output_type": "execute_result",
          "data": {
            "text/plain": [
              "LinearRegression()"
            ]
          },
          "metadata": {},
          "execution_count": 51
        }
      ],
      "source": [
        "linreg_model.fit(train_inputs, train_targets)"
      ]
    },
    {
      "cell_type": "code",
      "execution_count": 52,
      "metadata": {
        "colab": {
          "base_uri": "https://localhost:8080/"
        },
        "id": "obB8JMoCxtMO",
        "outputId": "dabf4c28-92a5-487e-d0e1-5a2dd77cb7a5"
      },
      "outputs": [
        {
          "output_type": "execute_result",
          "data": {
            "text/plain": [
              "array([[11.54623682],\n",
              "       [11.28460949],\n",
              "       [11.28413941],\n",
              "       ...,\n",
              "       [11.45891673],\n",
              "       [11.28428005],\n",
              "       [11.28444733]])"
            ]
          },
          "metadata": {},
          "execution_count": 52
        }
      ],
      "source": [
        "train_preds = linreg_model.predict(train_inputs)\n",
        "train_preds\n"
      ]
    },
    {
      "cell_type": "code",
      "execution_count": 53,
      "metadata": {
        "colab": {
          "base_uri": "https://localhost:8080/"
        },
        "id": "CByjuW5AyYm5",
        "outputId": "9fa2f7d4-d7e3-422e-e2c5-193144ed6315"
      },
      "outputs": [
        {
          "output_type": "execute_result",
          "data": {
            "text/plain": [
              "array([[11.28432795],\n",
              "       [11.28449549],\n",
              "       [11.28478054],\n",
              "       ...,\n",
              "       [11.80449938],\n",
              "       [11.28443343],\n",
              "       [11.28413233]])"
            ]
          },
          "metadata": {},
          "execution_count": 53
        }
      ],
      "source": [
        "val_preds = linreg_model.predict(val_inputs)\n",
        "val_preds\n"
      ]
    },
    {
      "cell_type": "code",
      "execution_count": 54,
      "metadata": {
        "colab": {
          "base_uri": "https://localhost:8080/"
        },
        "id": "-8ID2sVo0IW4",
        "outputId": "73d19f9e-6f05-408f-8bd9-10db4c2b2254"
      },
      "outputs": [
        {
          "output_type": "execute_result",
          "data": {
            "text/plain": [
              "0.00023481364403443727"
            ]
          },
          "metadata": {},
          "execution_count": 54
        }
      ],
      "source": [
        "linreg_model.score(train_inputs, train_targets)"
      ]
    },
    {
      "cell_type": "code",
      "execution_count": 55,
      "metadata": {
        "colab": {
          "base_uri": "https://localhost:8080/"
        },
        "id": "mSS7_1mI0WRq",
        "outputId": "e84625d6-c9c2-4891-d81f-ae96ae4d5dc6"
      },
      "outputs": [
        {
          "output_type": "execute_result",
          "data": {
            "text/plain": [
              "0.00037684744913746293"
            ]
          },
          "metadata": {},
          "execution_count": 55
        }
      ],
      "source": [
        "linreg_model.score(val_inputs, val_targets)"
      ]
    },
    {
      "cell_type": "code",
      "execution_count": 56,
      "metadata": {
        "id": "FC0lrwBm0djl"
      },
      "outputs": [],
      "source": [
        "from sklearn.metrics import mean_squared_error"
      ]
    },
    {
      "cell_type": "code",
      "execution_count": 57,
      "metadata": {
        "colab": {
          "base_uri": "https://localhost:8080/"
        },
        "id": "cTVwlOfs1Hh-",
        "outputId": "7b4b6bf6-47cb-45e1-d054-c757d259d58d"
      },
      "outputs": [
        {
          "output_type": "execute_result",
          "data": {
            "text/plain": [
              "9.78863266989743"
            ]
          },
          "metadata": {},
          "execution_count": 57
        }
      ],
      "source": [
        "train_rmse = mean_squared_error(train_targets, train_preds, squared=False)\n",
        "train_rmse"
      ]
    },
    {
      "cell_type": "code",
      "execution_count": 58,
      "metadata": {
        "colab": {
          "base_uri": "https://localhost:8080/"
        },
        "id": "CwqiCa901oDs",
        "outputId": "a5ce7ba2-44da-4575-b6f1-09ca40806619"
      },
      "outputs": [
        {
          "output_type": "execute_result",
          "data": {
            "text/plain": [
              "9.898088220645102"
            ]
          },
          "metadata": {},
          "execution_count": 58
        }
      ],
      "source": [
        "val_rmse = mean_squared_error(val_targets, val_preds, squared=False)\n",
        "val_rmse"
      ]
    },
    {
      "cell_type": "markdown",
      "metadata": {
        "id": "A5C4J-zQ2tny"
      },
      "source": [
        "The linear regression model is off by $9.898, which isn't much better than simply predicting the average. \n",
        "\n",
        "This is mainly because the training data (geocoordinates) is not in a format that's useful for the model, and we're not using one of the most important columns: pickup date & time.\n",
        "\n",
        "However, now we have a baseline that our other models should ideally beat."
      ]
    },
    {
      "cell_type": "markdown",
      "metadata": {
        "id": "zJo1Ok8I3DwI"
      },
      "source": [
        "## 5. Make Predictions and Submit to Kaggle\n",
        "\n",
        "- Make predictions for test set\n",
        "- Generate submissions CSV\n",
        "- Submit to Kaggle\n",
        "- Record in experiment tracking sheet"
      ]
    },
    {
      "cell_type": "code",
      "execution_count": 59,
      "metadata": {
        "colab": {
          "base_uri": "https://localhost:8080/"
        },
        "id": "mqFm2rkS2Nqj",
        "outputId": "04188d07-baae-4c03-d3cd-9dcd409b1a19"
      },
      "outputs": [
        {
          "output_type": "execute_result",
          "data": {
            "text/plain": [
              "array([[11.28427953],\n",
              "       [11.2846335 ],\n",
              "       [11.28438382],\n",
              "       ...,\n",
              "       [11.7212478 ],\n",
              "       [11.72079797],\n",
              "       [11.72059354]])"
            ]
          },
          "metadata": {},
          "execution_count": 59
        }
      ],
      "source": [
        "test_preds = linreg_model.predict(test_inputs)\n",
        "test_preds"
      ]
    },
    {
      "cell_type": "code",
      "execution_count": 60,
      "metadata": {
        "id": "7EpOZk4Q3TGg"
      },
      "outputs": [],
      "source": [
        "submission_df = pd.read_csv(data_dir+'/sample_submission.csv')"
      ]
    },
    {
      "cell_type": "code",
      "execution_count": 61,
      "metadata": {
        "colab": {
          "base_uri": "https://localhost:8080/",
          "height": 424
        },
        "id": "C-ZQVAHm3amS",
        "outputId": "75b46cc3-db07-4fec-a4b6-918779d408b0"
      },
      "outputs": [
        {
          "output_type": "execute_result",
          "data": {
            "text/plain": [
              "                              key  fare_amount\n",
              "0     2015-01-27 13:08:24.0000002        11.35\n",
              "1     2015-01-27 13:08:24.0000003        11.35\n",
              "2     2011-10-08 11:53:44.0000002        11.35\n",
              "3     2012-12-01 21:12:12.0000002        11.35\n",
              "4     2012-12-01 21:12:12.0000003        11.35\n",
              "...                           ...          ...\n",
              "9909  2015-05-10 12:37:51.0000002        11.35\n",
              "9910  2015-01-12 17:05:51.0000001        11.35\n",
              "9911  2015-04-19 20:44:15.0000001        11.35\n",
              "9912  2015-01-31 01:05:19.0000005        11.35\n",
              "9913  2015-01-18 14:06:23.0000006        11.35\n",
              "\n",
              "[9914 rows x 2 columns]"
            ],
            "text/html": [
              "\n",
              "  <div id=\"df-1bd33f69-e10c-423e-809e-50c9a0ea93d7\">\n",
              "    <div class=\"colab-df-container\">\n",
              "      <div>\n",
              "<style scoped>\n",
              "    .dataframe tbody tr th:only-of-type {\n",
              "        vertical-align: middle;\n",
              "    }\n",
              "\n",
              "    .dataframe tbody tr th {\n",
              "        vertical-align: top;\n",
              "    }\n",
              "\n",
              "    .dataframe thead th {\n",
              "        text-align: right;\n",
              "    }\n",
              "</style>\n",
              "<table border=\"1\" class=\"dataframe\">\n",
              "  <thead>\n",
              "    <tr style=\"text-align: right;\">\n",
              "      <th></th>\n",
              "      <th>key</th>\n",
              "      <th>fare_amount</th>\n",
              "    </tr>\n",
              "  </thead>\n",
              "  <tbody>\n",
              "    <tr>\n",
              "      <th>0</th>\n",
              "      <td>2015-01-27 13:08:24.0000002</td>\n",
              "      <td>11.35</td>\n",
              "    </tr>\n",
              "    <tr>\n",
              "      <th>1</th>\n",
              "      <td>2015-01-27 13:08:24.0000003</td>\n",
              "      <td>11.35</td>\n",
              "    </tr>\n",
              "    <tr>\n",
              "      <th>2</th>\n",
              "      <td>2011-10-08 11:53:44.0000002</td>\n",
              "      <td>11.35</td>\n",
              "    </tr>\n",
              "    <tr>\n",
              "      <th>3</th>\n",
              "      <td>2012-12-01 21:12:12.0000002</td>\n",
              "      <td>11.35</td>\n",
              "    </tr>\n",
              "    <tr>\n",
              "      <th>4</th>\n",
              "      <td>2012-12-01 21:12:12.0000003</td>\n",
              "      <td>11.35</td>\n",
              "    </tr>\n",
              "    <tr>\n",
              "      <th>...</th>\n",
              "      <td>...</td>\n",
              "      <td>...</td>\n",
              "    </tr>\n",
              "    <tr>\n",
              "      <th>9909</th>\n",
              "      <td>2015-05-10 12:37:51.0000002</td>\n",
              "      <td>11.35</td>\n",
              "    </tr>\n",
              "    <tr>\n",
              "      <th>9910</th>\n",
              "      <td>2015-01-12 17:05:51.0000001</td>\n",
              "      <td>11.35</td>\n",
              "    </tr>\n",
              "    <tr>\n",
              "      <th>9911</th>\n",
              "      <td>2015-04-19 20:44:15.0000001</td>\n",
              "      <td>11.35</td>\n",
              "    </tr>\n",
              "    <tr>\n",
              "      <th>9912</th>\n",
              "      <td>2015-01-31 01:05:19.0000005</td>\n",
              "      <td>11.35</td>\n",
              "    </tr>\n",
              "    <tr>\n",
              "      <th>9913</th>\n",
              "      <td>2015-01-18 14:06:23.0000006</td>\n",
              "      <td>11.35</td>\n",
              "    </tr>\n",
              "  </tbody>\n",
              "</table>\n",
              "<p>9914 rows × 2 columns</p>\n",
              "</div>\n",
              "      <button class=\"colab-df-convert\" onclick=\"convertToInteractive('df-1bd33f69-e10c-423e-809e-50c9a0ea93d7')\"\n",
              "              title=\"Convert this dataframe to an interactive table.\"\n",
              "              style=\"display:none;\">\n",
              "        \n",
              "  <svg xmlns=\"http://www.w3.org/2000/svg\" height=\"24px\"viewBox=\"0 0 24 24\"\n",
              "       width=\"24px\">\n",
              "    <path d=\"M0 0h24v24H0V0z\" fill=\"none\"/>\n",
              "    <path d=\"M18.56 5.44l.94 2.06.94-2.06 2.06-.94-2.06-.94-.94-2.06-.94 2.06-2.06.94zm-11 1L8.5 8.5l.94-2.06 2.06-.94-2.06-.94L8.5 2.5l-.94 2.06-2.06.94zm10 10l.94 2.06.94-2.06 2.06-.94-2.06-.94-.94-2.06-.94 2.06-2.06.94z\"/><path d=\"M17.41 7.96l-1.37-1.37c-.4-.4-.92-.59-1.43-.59-.52 0-1.04.2-1.43.59L10.3 9.45l-7.72 7.72c-.78.78-.78 2.05 0 2.83L4 21.41c.39.39.9.59 1.41.59.51 0 1.02-.2 1.41-.59l7.78-7.78 2.81-2.81c.8-.78.8-2.07 0-2.86zM5.41 20L4 18.59l7.72-7.72 1.47 1.35L5.41 20z\"/>\n",
              "  </svg>\n",
              "      </button>\n",
              "      \n",
              "  <style>\n",
              "    .colab-df-container {\n",
              "      display:flex;\n",
              "      flex-wrap:wrap;\n",
              "      gap: 12px;\n",
              "    }\n",
              "\n",
              "    .colab-df-convert {\n",
              "      background-color: #E8F0FE;\n",
              "      border: none;\n",
              "      border-radius: 50%;\n",
              "      cursor: pointer;\n",
              "      display: none;\n",
              "      fill: #1967D2;\n",
              "      height: 32px;\n",
              "      padding: 0 0 0 0;\n",
              "      width: 32px;\n",
              "    }\n",
              "\n",
              "    .colab-df-convert:hover {\n",
              "      background-color: #E2EBFA;\n",
              "      box-shadow: 0px 1px 2px rgba(60, 64, 67, 0.3), 0px 1px 3px 1px rgba(60, 64, 67, 0.15);\n",
              "      fill: #174EA6;\n",
              "    }\n",
              "\n",
              "    [theme=dark] .colab-df-convert {\n",
              "      background-color: #3B4455;\n",
              "      fill: #D2E3FC;\n",
              "    }\n",
              "\n",
              "    [theme=dark] .colab-df-convert:hover {\n",
              "      background-color: #434B5C;\n",
              "      box-shadow: 0px 1px 3px 1px rgba(0, 0, 0, 0.15);\n",
              "      filter: drop-shadow(0px 1px 2px rgba(0, 0, 0, 0.3));\n",
              "      fill: #FFFFFF;\n",
              "    }\n",
              "  </style>\n",
              "\n",
              "      <script>\n",
              "        const buttonEl =\n",
              "          document.querySelector('#df-1bd33f69-e10c-423e-809e-50c9a0ea93d7 button.colab-df-convert');\n",
              "        buttonEl.style.display =\n",
              "          google.colab.kernel.accessAllowed ? 'block' : 'none';\n",
              "\n",
              "        async function convertToInteractive(key) {\n",
              "          const element = document.querySelector('#df-1bd33f69-e10c-423e-809e-50c9a0ea93d7');\n",
              "          const dataTable =\n",
              "            await google.colab.kernel.invokeFunction('convertToInteractive',\n",
              "                                                     [key], {});\n",
              "          if (!dataTable) return;\n",
              "\n",
              "          const docLinkHtml = 'Like what you see? Visit the ' +\n",
              "            '<a target=\"_blank\" href=https://colab.research.google.com/notebooks/data_table.ipynb>data table notebook</a>'\n",
              "            + ' to learn more about interactive tables.';\n",
              "          element.innerHTML = '';\n",
              "          dataTable['output_type'] = 'display_data';\n",
              "          await google.colab.output.renderOutput(dataTable, element);\n",
              "          const docLink = document.createElement('div');\n",
              "          docLink.innerHTML = docLinkHtml;\n",
              "          element.appendChild(docLink);\n",
              "        }\n",
              "      </script>\n",
              "    </div>\n",
              "  </div>\n",
              "  "
            ]
          },
          "metadata": {},
          "execution_count": 61
        }
      ],
      "source": [
        "submission_df"
      ]
    },
    {
      "cell_type": "code",
      "execution_count": 62,
      "metadata": {
        "colab": {
          "base_uri": "https://localhost:8080/",
          "height": 424
        },
        "id": "oBAB9C463dtA",
        "outputId": "0ab9ed74-4565-4757-dc24-1267c0998f7e"
      },
      "outputs": [
        {
          "output_type": "execute_result",
          "data": {
            "text/plain": [
              "      pickup_longitude  pickup_latitude  dropoff_longitude  dropoff_latitude  \\\n",
              "0           -73.973320        40.763805         -73.981430         40.743835   \n",
              "1           -73.986862        40.719383         -73.998886         40.739201   \n",
              "2           -73.982521        40.751259         -73.979652         40.746139   \n",
              "3           -73.981163        40.767807         -73.990448         40.751635   \n",
              "4           -73.966049        40.789776         -73.988564         40.744427   \n",
              "...                ...              ...                ...               ...   \n",
              "9909        -73.968124        40.796997         -73.955643         40.780388   \n",
              "9910        -73.945511        40.803600         -73.960213         40.776371   \n",
              "9911        -73.991600        40.726608         -73.789742         40.647011   \n",
              "9912        -73.985573        40.735432         -73.939178         40.801731   \n",
              "9913        -73.988022        40.754070         -74.000282         40.759220   \n",
              "\n",
              "      passenger_count  \n",
              "0                 1.0  \n",
              "1                 1.0  \n",
              "2                 1.0  \n",
              "3                 1.0  \n",
              "4                 1.0  \n",
              "...               ...  \n",
              "9909              6.0  \n",
              "9910              6.0  \n",
              "9911              6.0  \n",
              "9912              6.0  \n",
              "9913              6.0  \n",
              "\n",
              "[9914 rows x 5 columns]"
            ],
            "text/html": [
              "\n",
              "  <div id=\"df-36ad0fb3-b833-4c1f-9742-2951386de839\">\n",
              "    <div class=\"colab-df-container\">\n",
              "      <div>\n",
              "<style scoped>\n",
              "    .dataframe tbody tr th:only-of-type {\n",
              "        vertical-align: middle;\n",
              "    }\n",
              "\n",
              "    .dataframe tbody tr th {\n",
              "        vertical-align: top;\n",
              "    }\n",
              "\n",
              "    .dataframe thead th {\n",
              "        text-align: right;\n",
              "    }\n",
              "</style>\n",
              "<table border=\"1\" class=\"dataframe\">\n",
              "  <thead>\n",
              "    <tr style=\"text-align: right;\">\n",
              "      <th></th>\n",
              "      <th>pickup_longitude</th>\n",
              "      <th>pickup_latitude</th>\n",
              "      <th>dropoff_longitude</th>\n",
              "      <th>dropoff_latitude</th>\n",
              "      <th>passenger_count</th>\n",
              "    </tr>\n",
              "  </thead>\n",
              "  <tbody>\n",
              "    <tr>\n",
              "      <th>0</th>\n",
              "      <td>-73.973320</td>\n",
              "      <td>40.763805</td>\n",
              "      <td>-73.981430</td>\n",
              "      <td>40.743835</td>\n",
              "      <td>1.0</td>\n",
              "    </tr>\n",
              "    <tr>\n",
              "      <th>1</th>\n",
              "      <td>-73.986862</td>\n",
              "      <td>40.719383</td>\n",
              "      <td>-73.998886</td>\n",
              "      <td>40.739201</td>\n",
              "      <td>1.0</td>\n",
              "    </tr>\n",
              "    <tr>\n",
              "      <th>2</th>\n",
              "      <td>-73.982521</td>\n",
              "      <td>40.751259</td>\n",
              "      <td>-73.979652</td>\n",
              "      <td>40.746139</td>\n",
              "      <td>1.0</td>\n",
              "    </tr>\n",
              "    <tr>\n",
              "      <th>3</th>\n",
              "      <td>-73.981163</td>\n",
              "      <td>40.767807</td>\n",
              "      <td>-73.990448</td>\n",
              "      <td>40.751635</td>\n",
              "      <td>1.0</td>\n",
              "    </tr>\n",
              "    <tr>\n",
              "      <th>4</th>\n",
              "      <td>-73.966049</td>\n",
              "      <td>40.789776</td>\n",
              "      <td>-73.988564</td>\n",
              "      <td>40.744427</td>\n",
              "      <td>1.0</td>\n",
              "    </tr>\n",
              "    <tr>\n",
              "      <th>...</th>\n",
              "      <td>...</td>\n",
              "      <td>...</td>\n",
              "      <td>...</td>\n",
              "      <td>...</td>\n",
              "      <td>...</td>\n",
              "    </tr>\n",
              "    <tr>\n",
              "      <th>9909</th>\n",
              "      <td>-73.968124</td>\n",
              "      <td>40.796997</td>\n",
              "      <td>-73.955643</td>\n",
              "      <td>40.780388</td>\n",
              "      <td>6.0</td>\n",
              "    </tr>\n",
              "    <tr>\n",
              "      <th>9910</th>\n",
              "      <td>-73.945511</td>\n",
              "      <td>40.803600</td>\n",
              "      <td>-73.960213</td>\n",
              "      <td>40.776371</td>\n",
              "      <td>6.0</td>\n",
              "    </tr>\n",
              "    <tr>\n",
              "      <th>9911</th>\n",
              "      <td>-73.991600</td>\n",
              "      <td>40.726608</td>\n",
              "      <td>-73.789742</td>\n",
              "      <td>40.647011</td>\n",
              "      <td>6.0</td>\n",
              "    </tr>\n",
              "    <tr>\n",
              "      <th>9912</th>\n",
              "      <td>-73.985573</td>\n",
              "      <td>40.735432</td>\n",
              "      <td>-73.939178</td>\n",
              "      <td>40.801731</td>\n",
              "      <td>6.0</td>\n",
              "    </tr>\n",
              "    <tr>\n",
              "      <th>9913</th>\n",
              "      <td>-73.988022</td>\n",
              "      <td>40.754070</td>\n",
              "      <td>-74.000282</td>\n",
              "      <td>40.759220</td>\n",
              "      <td>6.0</td>\n",
              "    </tr>\n",
              "  </tbody>\n",
              "</table>\n",
              "<p>9914 rows × 5 columns</p>\n",
              "</div>\n",
              "      <button class=\"colab-df-convert\" onclick=\"convertToInteractive('df-36ad0fb3-b833-4c1f-9742-2951386de839')\"\n",
              "              title=\"Convert this dataframe to an interactive table.\"\n",
              "              style=\"display:none;\">\n",
              "        \n",
              "  <svg xmlns=\"http://www.w3.org/2000/svg\" height=\"24px\"viewBox=\"0 0 24 24\"\n",
              "       width=\"24px\">\n",
              "    <path d=\"M0 0h24v24H0V0z\" fill=\"none\"/>\n",
              "    <path d=\"M18.56 5.44l.94 2.06.94-2.06 2.06-.94-2.06-.94-.94-2.06-.94 2.06-2.06.94zm-11 1L8.5 8.5l.94-2.06 2.06-.94-2.06-.94L8.5 2.5l-.94 2.06-2.06.94zm10 10l.94 2.06.94-2.06 2.06-.94-2.06-.94-.94-2.06-.94 2.06-2.06.94z\"/><path d=\"M17.41 7.96l-1.37-1.37c-.4-.4-.92-.59-1.43-.59-.52 0-1.04.2-1.43.59L10.3 9.45l-7.72 7.72c-.78.78-.78 2.05 0 2.83L4 21.41c.39.39.9.59 1.41.59.51 0 1.02-.2 1.41-.59l7.78-7.78 2.81-2.81c.8-.78.8-2.07 0-2.86zM5.41 20L4 18.59l7.72-7.72 1.47 1.35L5.41 20z\"/>\n",
              "  </svg>\n",
              "      </button>\n",
              "      \n",
              "  <style>\n",
              "    .colab-df-container {\n",
              "      display:flex;\n",
              "      flex-wrap:wrap;\n",
              "      gap: 12px;\n",
              "    }\n",
              "\n",
              "    .colab-df-convert {\n",
              "      background-color: #E8F0FE;\n",
              "      border: none;\n",
              "      border-radius: 50%;\n",
              "      cursor: pointer;\n",
              "      display: none;\n",
              "      fill: #1967D2;\n",
              "      height: 32px;\n",
              "      padding: 0 0 0 0;\n",
              "      width: 32px;\n",
              "    }\n",
              "\n",
              "    .colab-df-convert:hover {\n",
              "      background-color: #E2EBFA;\n",
              "      box-shadow: 0px 1px 2px rgba(60, 64, 67, 0.3), 0px 1px 3px 1px rgba(60, 64, 67, 0.15);\n",
              "      fill: #174EA6;\n",
              "    }\n",
              "\n",
              "    [theme=dark] .colab-df-convert {\n",
              "      background-color: #3B4455;\n",
              "      fill: #D2E3FC;\n",
              "    }\n",
              "\n",
              "    [theme=dark] .colab-df-convert:hover {\n",
              "      background-color: #434B5C;\n",
              "      box-shadow: 0px 1px 3px 1px rgba(0, 0, 0, 0.15);\n",
              "      filter: drop-shadow(0px 1px 2px rgba(0, 0, 0, 0.3));\n",
              "      fill: #FFFFFF;\n",
              "    }\n",
              "  </style>\n",
              "\n",
              "      <script>\n",
              "        const buttonEl =\n",
              "          document.querySelector('#df-36ad0fb3-b833-4c1f-9742-2951386de839 button.colab-df-convert');\n",
              "        buttonEl.style.display =\n",
              "          google.colab.kernel.accessAllowed ? 'block' : 'none';\n",
              "\n",
              "        async function convertToInteractive(key) {\n",
              "          const element = document.querySelector('#df-36ad0fb3-b833-4c1f-9742-2951386de839');\n",
              "          const dataTable =\n",
              "            await google.colab.kernel.invokeFunction('convertToInteractive',\n",
              "                                                     [key], {});\n",
              "          if (!dataTable) return;\n",
              "\n",
              "          const docLinkHtml = 'Like what you see? Visit the ' +\n",
              "            '<a target=\"_blank\" href=https://colab.research.google.com/notebooks/data_table.ipynb>data table notebook</a>'\n",
              "            + ' to learn more about interactive tables.';\n",
              "          element.innerHTML = '';\n",
              "          dataTable['output_type'] = 'display_data';\n",
              "          await google.colab.output.renderOutput(dataTable, element);\n",
              "          const docLink = document.createElement('div');\n",
              "          docLink.innerHTML = docLinkHtml;\n",
              "          element.appendChild(docLink);\n",
              "        }\n",
              "      </script>\n",
              "    </div>\n",
              "  </div>\n",
              "  "
            ]
          },
          "metadata": {},
          "execution_count": 62
        }
      ],
      "source": [
        "test_inputs"
      ]
    },
    {
      "cell_type": "code",
      "execution_count": 63,
      "metadata": {
        "id": "Iwpzk7Gv3g00"
      },
      "outputs": [],
      "source": [
        "def generate_submission(test_preds, fname):\n",
        "  sub_df = pd.read_csv(data_dir+'/sample_submission.csv')\n",
        "  sub_df['fare_amount'] = test_preds\n",
        "  sub_df.to_csv(fname, index=None)"
      ]
    },
    {
      "cell_type": "code",
      "execution_count": 64,
      "metadata": {
        "id": "mrUTupXy4YmV"
      },
      "outputs": [],
      "source": [
        "generate_submission(test_preds, 'linreg_submission.csv')"
      ]
    },
    {
      "cell_type": "markdown",
      "metadata": {
        "id": "AOMsG_iu9c2Z"
      },
      "source": [
        "## 6. Feature Engineering\n",
        "\n",
        "\n",
        "- Extract parts of date\n",
        "- Remove outliers & invalid data\n",
        "- Add distance between pickup & drop\n",
        "- Add distance from landmarks\n",
        "\n",
        "We're going to apply all of the above together, but you should observer the effect of adding each feature individually."
      ]
    },
    {
      "cell_type": "markdown",
      "metadata": {
        "id": "Ji4XV7Hf9pF9"
      },
      "source": [
        "### Extract Parts of Date\n",
        "\n",
        "- Year\n",
        "- Month\n",
        "- Day\n",
        "- Weekday\n",
        "- Hour\n"
      ]
    },
    {
      "cell_type": "code",
      "execution_count": 65,
      "metadata": {
        "id": "hwDRBtpY5V5q"
      },
      "outputs": [],
      "source": [
        "def add_dateparts(df, col):\n",
        "    df[col + '_year'] = df[col].dt.year\n",
        "    df[col + '_month'] = df[col].dt.month\n",
        "    df[col + '_day'] = df[col].dt.day\n",
        "    df[col + '_weekday'] = df[col].dt.weekday\n",
        "    df[col + '_hour'] = df[col].dt.hour\n",
        "    "
      ]
    },
    {
      "cell_type": "code",
      "execution_count": 66,
      "metadata": {
        "id": "03LDLpDI9y3o"
      },
      "outputs": [],
      "source": [
        "add_dateparts(train_df, 'pickup_datetime')"
      ]
    },
    {
      "cell_type": "code",
      "execution_count": 67,
      "metadata": {
        "id": "kMDso3mI-1cX"
      },
      "outputs": [],
      "source": [
        "add_dateparts(val_df, 'pickup_datetime')"
      ]
    },
    {
      "cell_type": "code",
      "execution_count": 68,
      "metadata": {
        "id": "H2yJIRTyFMdm"
      },
      "outputs": [],
      "source": [
        "add_dateparts(test_df, 'pickup_datetime')"
      ]
    },
    {
      "cell_type": "code",
      "execution_count": 69,
      "metadata": {
        "colab": {
          "base_uri": "https://localhost:8080/",
          "height": 661
        },
        "id": "rILWwzJsFdPR",
        "outputId": "5475f609-a153-4f5c-a5e7-b9955bc70874"
      },
      "outputs": [
        {
          "output_type": "execute_result",
          "data": {
            "text/plain": [
              "        fare_amount           pickup_datetime  pickup_longitude  \\\n",
              "353352          6.0 2015-04-12 03:40:38+00:00        -73.993652   \n",
              "360070          3.7 2011-01-26 19:21:00+00:00        -73.993805   \n",
              "372609         10.0 2012-10-03 10:40:17+00:00        -73.959160   \n",
              "550895          8.9 2012-03-14 13:44:27+00:00        -73.952187   \n",
              "444151          7.3 2012-02-05 15:33:00+00:00        -73.977112   \n",
              "...             ...                       ...               ...   \n",
              "110268          9.3 2009-09-06 16:12:00+00:00        -73.987152   \n",
              "259178         18.5 2009-04-12 09:58:56+00:00        -73.972656   \n",
              "365838         10.1 2012-07-12 19:30:00+00:00        -73.991982   \n",
              "131932         10.9 2011-02-17 18:33:00+00:00        -73.969055   \n",
              "121958          9.5 2015-01-14 17:35:03+00:00        -73.983040   \n",
              "\n",
              "        pickup_latitude  dropoff_longitude  dropoff_latitude  passenger_count  \\\n",
              "353352        40.741543         -73.977974         40.742352              4.0   \n",
              "360070        40.724579         -73.993805         40.724577              1.0   \n",
              "372609        40.780750         -73.969116         40.761231              1.0   \n",
              "550895        40.783951         -73.978645         40.772603              1.0   \n",
              "444151        40.746834         -73.991104         40.750403              2.0   \n",
              "...                 ...                ...               ...              ...   \n",
              "110268        40.750633         -73.979073         40.763167              1.0   \n",
              "259178        40.764042         -74.013176         40.707841              2.0   \n",
              "365838        40.749767         -73.989845         40.720552              3.0   \n",
              "131932        40.761398         -73.990814         40.751327              1.0   \n",
              "121958        40.742142         -74.002510         40.727650              1.0   \n",
              "\n",
              "        pickup_datetime_year  pickup_datetime_month  pickup_datetime_day  \\\n",
              "353352                  2015                      4                   12   \n",
              "360070                  2011                      1                   26   \n",
              "372609                  2012                     10                    3   \n",
              "550895                  2012                      3                   14   \n",
              "444151                  2012                      2                    5   \n",
              "...                      ...                    ...                  ...   \n",
              "110268                  2009                      9                    6   \n",
              "259178                  2009                      4                   12   \n",
              "365838                  2012                      7                   12   \n",
              "131932                  2011                      2                   17   \n",
              "121958                  2015                      1                   14   \n",
              "\n",
              "        pickup_datetime_weekday  pickup_datetime_hour  \n",
              "353352                        6                     3  \n",
              "360070                        2                    19  \n",
              "372609                        2                    10  \n",
              "550895                        2                    13  \n",
              "444151                        6                    15  \n",
              "...                         ...                   ...  \n",
              "110268                        6                    16  \n",
              "259178                        6                     9  \n",
              "365838                        3                    19  \n",
              "131932                        3                    18  \n",
              "121958                        2                    17  \n",
              "\n",
              "[441960 rows x 12 columns]"
            ],
            "text/html": [
              "\n",
              "  <div id=\"df-881aa9d6-46be-4cbc-aab5-a625d5aefea5\">\n",
              "    <div class=\"colab-df-container\">\n",
              "      <div>\n",
              "<style scoped>\n",
              "    .dataframe tbody tr th:only-of-type {\n",
              "        vertical-align: middle;\n",
              "    }\n",
              "\n",
              "    .dataframe tbody tr th {\n",
              "        vertical-align: top;\n",
              "    }\n",
              "\n",
              "    .dataframe thead th {\n",
              "        text-align: right;\n",
              "    }\n",
              "</style>\n",
              "<table border=\"1\" class=\"dataframe\">\n",
              "  <thead>\n",
              "    <tr style=\"text-align: right;\">\n",
              "      <th></th>\n",
              "      <th>fare_amount</th>\n",
              "      <th>pickup_datetime</th>\n",
              "      <th>pickup_longitude</th>\n",
              "      <th>pickup_latitude</th>\n",
              "      <th>dropoff_longitude</th>\n",
              "      <th>dropoff_latitude</th>\n",
              "      <th>passenger_count</th>\n",
              "      <th>pickup_datetime_year</th>\n",
              "      <th>pickup_datetime_month</th>\n",
              "      <th>pickup_datetime_day</th>\n",
              "      <th>pickup_datetime_weekday</th>\n",
              "      <th>pickup_datetime_hour</th>\n",
              "    </tr>\n",
              "  </thead>\n",
              "  <tbody>\n",
              "    <tr>\n",
              "      <th>353352</th>\n",
              "      <td>6.0</td>\n",
              "      <td>2015-04-12 03:40:38+00:00</td>\n",
              "      <td>-73.993652</td>\n",
              "      <td>40.741543</td>\n",
              "      <td>-73.977974</td>\n",
              "      <td>40.742352</td>\n",
              "      <td>4.0</td>\n",
              "      <td>2015</td>\n",
              "      <td>4</td>\n",
              "      <td>12</td>\n",
              "      <td>6</td>\n",
              "      <td>3</td>\n",
              "    </tr>\n",
              "    <tr>\n",
              "      <th>360070</th>\n",
              "      <td>3.7</td>\n",
              "      <td>2011-01-26 19:21:00+00:00</td>\n",
              "      <td>-73.993805</td>\n",
              "      <td>40.724579</td>\n",
              "      <td>-73.993805</td>\n",
              "      <td>40.724577</td>\n",
              "      <td>1.0</td>\n",
              "      <td>2011</td>\n",
              "      <td>1</td>\n",
              "      <td>26</td>\n",
              "      <td>2</td>\n",
              "      <td>19</td>\n",
              "    </tr>\n",
              "    <tr>\n",
              "      <th>372609</th>\n",
              "      <td>10.0</td>\n",
              "      <td>2012-10-03 10:40:17+00:00</td>\n",
              "      <td>-73.959160</td>\n",
              "      <td>40.780750</td>\n",
              "      <td>-73.969116</td>\n",
              "      <td>40.761231</td>\n",
              "      <td>1.0</td>\n",
              "      <td>2012</td>\n",
              "      <td>10</td>\n",
              "      <td>3</td>\n",
              "      <td>2</td>\n",
              "      <td>10</td>\n",
              "    </tr>\n",
              "    <tr>\n",
              "      <th>550895</th>\n",
              "      <td>8.9</td>\n",
              "      <td>2012-03-14 13:44:27+00:00</td>\n",
              "      <td>-73.952187</td>\n",
              "      <td>40.783951</td>\n",
              "      <td>-73.978645</td>\n",
              "      <td>40.772603</td>\n",
              "      <td>1.0</td>\n",
              "      <td>2012</td>\n",
              "      <td>3</td>\n",
              "      <td>14</td>\n",
              "      <td>2</td>\n",
              "      <td>13</td>\n",
              "    </tr>\n",
              "    <tr>\n",
              "      <th>444151</th>\n",
              "      <td>7.3</td>\n",
              "      <td>2012-02-05 15:33:00+00:00</td>\n",
              "      <td>-73.977112</td>\n",
              "      <td>40.746834</td>\n",
              "      <td>-73.991104</td>\n",
              "      <td>40.750403</td>\n",
              "      <td>2.0</td>\n",
              "      <td>2012</td>\n",
              "      <td>2</td>\n",
              "      <td>5</td>\n",
              "      <td>6</td>\n",
              "      <td>15</td>\n",
              "    </tr>\n",
              "    <tr>\n",
              "      <th>...</th>\n",
              "      <td>...</td>\n",
              "      <td>...</td>\n",
              "      <td>...</td>\n",
              "      <td>...</td>\n",
              "      <td>...</td>\n",
              "      <td>...</td>\n",
              "      <td>...</td>\n",
              "      <td>...</td>\n",
              "      <td>...</td>\n",
              "      <td>...</td>\n",
              "      <td>...</td>\n",
              "      <td>...</td>\n",
              "    </tr>\n",
              "    <tr>\n",
              "      <th>110268</th>\n",
              "      <td>9.3</td>\n",
              "      <td>2009-09-06 16:12:00+00:00</td>\n",
              "      <td>-73.987152</td>\n",
              "      <td>40.750633</td>\n",
              "      <td>-73.979073</td>\n",
              "      <td>40.763167</td>\n",
              "      <td>1.0</td>\n",
              "      <td>2009</td>\n",
              "      <td>9</td>\n",
              "      <td>6</td>\n",
              "      <td>6</td>\n",
              "      <td>16</td>\n",
              "    </tr>\n",
              "    <tr>\n",
              "      <th>259178</th>\n",
              "      <td>18.5</td>\n",
              "      <td>2009-04-12 09:58:56+00:00</td>\n",
              "      <td>-73.972656</td>\n",
              "      <td>40.764042</td>\n",
              "      <td>-74.013176</td>\n",
              "      <td>40.707841</td>\n",
              "      <td>2.0</td>\n",
              "      <td>2009</td>\n",
              "      <td>4</td>\n",
              "      <td>12</td>\n",
              "      <td>6</td>\n",
              "      <td>9</td>\n",
              "    </tr>\n",
              "    <tr>\n",
              "      <th>365838</th>\n",
              "      <td>10.1</td>\n",
              "      <td>2012-07-12 19:30:00+00:00</td>\n",
              "      <td>-73.991982</td>\n",
              "      <td>40.749767</td>\n",
              "      <td>-73.989845</td>\n",
              "      <td>40.720552</td>\n",
              "      <td>3.0</td>\n",
              "      <td>2012</td>\n",
              "      <td>7</td>\n",
              "      <td>12</td>\n",
              "      <td>3</td>\n",
              "      <td>19</td>\n",
              "    </tr>\n",
              "    <tr>\n",
              "      <th>131932</th>\n",
              "      <td>10.9</td>\n",
              "      <td>2011-02-17 18:33:00+00:00</td>\n",
              "      <td>-73.969055</td>\n",
              "      <td>40.761398</td>\n",
              "      <td>-73.990814</td>\n",
              "      <td>40.751327</td>\n",
              "      <td>1.0</td>\n",
              "      <td>2011</td>\n",
              "      <td>2</td>\n",
              "      <td>17</td>\n",
              "      <td>3</td>\n",
              "      <td>18</td>\n",
              "    </tr>\n",
              "    <tr>\n",
              "      <th>121958</th>\n",
              "      <td>9.5</td>\n",
              "      <td>2015-01-14 17:35:03+00:00</td>\n",
              "      <td>-73.983040</td>\n",
              "      <td>40.742142</td>\n",
              "      <td>-74.002510</td>\n",
              "      <td>40.727650</td>\n",
              "      <td>1.0</td>\n",
              "      <td>2015</td>\n",
              "      <td>1</td>\n",
              "      <td>14</td>\n",
              "      <td>2</td>\n",
              "      <td>17</td>\n",
              "    </tr>\n",
              "  </tbody>\n",
              "</table>\n",
              "<p>441960 rows × 12 columns</p>\n",
              "</div>\n",
              "      <button class=\"colab-df-convert\" onclick=\"convertToInteractive('df-881aa9d6-46be-4cbc-aab5-a625d5aefea5')\"\n",
              "              title=\"Convert this dataframe to an interactive table.\"\n",
              "              style=\"display:none;\">\n",
              "        \n",
              "  <svg xmlns=\"http://www.w3.org/2000/svg\" height=\"24px\"viewBox=\"0 0 24 24\"\n",
              "       width=\"24px\">\n",
              "    <path d=\"M0 0h24v24H0V0z\" fill=\"none\"/>\n",
              "    <path d=\"M18.56 5.44l.94 2.06.94-2.06 2.06-.94-2.06-.94-.94-2.06-.94 2.06-2.06.94zm-11 1L8.5 8.5l.94-2.06 2.06-.94-2.06-.94L8.5 2.5l-.94 2.06-2.06.94zm10 10l.94 2.06.94-2.06 2.06-.94-2.06-.94-.94-2.06-.94 2.06-2.06.94z\"/><path d=\"M17.41 7.96l-1.37-1.37c-.4-.4-.92-.59-1.43-.59-.52 0-1.04.2-1.43.59L10.3 9.45l-7.72 7.72c-.78.78-.78 2.05 0 2.83L4 21.41c.39.39.9.59 1.41.59.51 0 1.02-.2 1.41-.59l7.78-7.78 2.81-2.81c.8-.78.8-2.07 0-2.86zM5.41 20L4 18.59l7.72-7.72 1.47 1.35L5.41 20z\"/>\n",
              "  </svg>\n",
              "      </button>\n",
              "      \n",
              "  <style>\n",
              "    .colab-df-container {\n",
              "      display:flex;\n",
              "      flex-wrap:wrap;\n",
              "      gap: 12px;\n",
              "    }\n",
              "\n",
              "    .colab-df-convert {\n",
              "      background-color: #E8F0FE;\n",
              "      border: none;\n",
              "      border-radius: 50%;\n",
              "      cursor: pointer;\n",
              "      display: none;\n",
              "      fill: #1967D2;\n",
              "      height: 32px;\n",
              "      padding: 0 0 0 0;\n",
              "      width: 32px;\n",
              "    }\n",
              "\n",
              "    .colab-df-convert:hover {\n",
              "      background-color: #E2EBFA;\n",
              "      box-shadow: 0px 1px 2px rgba(60, 64, 67, 0.3), 0px 1px 3px 1px rgba(60, 64, 67, 0.15);\n",
              "      fill: #174EA6;\n",
              "    }\n",
              "\n",
              "    [theme=dark] .colab-df-convert {\n",
              "      background-color: #3B4455;\n",
              "      fill: #D2E3FC;\n",
              "    }\n",
              "\n",
              "    [theme=dark] .colab-df-convert:hover {\n",
              "      background-color: #434B5C;\n",
              "      box-shadow: 0px 1px 3px 1px rgba(0, 0, 0, 0.15);\n",
              "      filter: drop-shadow(0px 1px 2px rgba(0, 0, 0, 0.3));\n",
              "      fill: #FFFFFF;\n",
              "    }\n",
              "  </style>\n",
              "\n",
              "      <script>\n",
              "        const buttonEl =\n",
              "          document.querySelector('#df-881aa9d6-46be-4cbc-aab5-a625d5aefea5 button.colab-df-convert');\n",
              "        buttonEl.style.display =\n",
              "          google.colab.kernel.accessAllowed ? 'block' : 'none';\n",
              "\n",
              "        async function convertToInteractive(key) {\n",
              "          const element = document.querySelector('#df-881aa9d6-46be-4cbc-aab5-a625d5aefea5');\n",
              "          const dataTable =\n",
              "            await google.colab.kernel.invokeFunction('convertToInteractive',\n",
              "                                                     [key], {});\n",
              "          if (!dataTable) return;\n",
              "\n",
              "          const docLinkHtml = 'Like what you see? Visit the ' +\n",
              "            '<a target=\"_blank\" href=https://colab.research.google.com/notebooks/data_table.ipynb>data table notebook</a>'\n",
              "            + ' to learn more about interactive tables.';\n",
              "          element.innerHTML = '';\n",
              "          dataTable['output_type'] = 'display_data';\n",
              "          await google.colab.output.renderOutput(dataTable, element);\n",
              "          const docLink = document.createElement('div');\n",
              "          docLink.innerHTML = docLinkHtml;\n",
              "          element.appendChild(docLink);\n",
              "        }\n",
              "      </script>\n",
              "    </div>\n",
              "  </div>\n",
              "  "
            ]
          },
          "metadata": {},
          "execution_count": 69
        }
      ],
      "source": [
        "train_df"
      ]
    },
    {
      "cell_type": "markdown",
      "metadata": {
        "id": "we030rouGCW2"
      },
      "source": [
        "### Add Distance Between Pickup and Drop\n",
        "\n",
        "We can use the haversine distance: \n",
        "- https://en.wikipedia.org/wiki/Haversine_formula\n",
        "- https://stackoverflow.com/questions/29545704/fast-haversine-approximation-python-pandas"
      ]
    },
    {
      "cell_type": "code",
      "execution_count": 70,
      "metadata": {
        "id": "DQR5tdhWFguH"
      },
      "outputs": [],
      "source": [
        "import numpy as np\n",
        "\n",
        "def haversine_np(lon1, lat1, lon2, lat2):\n",
        "    \"\"\"\n",
        "    Calculate the great circle distance between two points\n",
        "    on the earth (specified in decimal degrees)\n",
        "\n",
        "    All args must be of equal length.    \n",
        "\n",
        "    \"\"\"\n",
        "    lon1, lat1, lon2, lat2 = map(np.radians, [lon1, lat1, lon2, lat2])\n",
        "\n",
        "    dlon = lon2 - lon1\n",
        "    dlat = lat2 - lat1\n",
        "\n",
        "    a = np.sin(dlat/2.0)**2 + np.cos(lat1) * np.cos(lat2) * np.sin(dlon/2.0)**2\n",
        "\n",
        "    c = 2 * np.arcsin(np.sqrt(a))\n",
        "    km = 6367 * c\n",
        "    return km"
      ]
    },
    {
      "cell_type": "code",
      "execution_count": 71,
      "metadata": {
        "id": "-ni8qNGrGGNE"
      },
      "outputs": [],
      "source": [
        "def add_trip_distance(df):\n",
        "    df['trip_distance'] = haversine_np(df['pickup_longitude'], df['pickup_latitude'], df['dropoff_longitude'], df['dropoff_latitude'])"
      ]
    },
    {
      "cell_type": "code",
      "execution_count": 72,
      "metadata": {
        "colab": {
          "base_uri": "https://localhost:8080/"
        },
        "id": "dZlQYo1fGJhs",
        "outputId": "40a1da5e-a15c-4118-8d3a-d3eec56e5479"
      },
      "outputs": [
        {
          "output_type": "stream",
          "name": "stdout",
          "text": [
            "CPU times: user 58.3 ms, sys: 10.9 ms, total: 69.2 ms\n",
            "Wall time: 92.4 ms\n"
          ]
        }
      ],
      "source": [
        "%%time\n",
        "add_trip_distance(train_df)"
      ]
    },
    {
      "cell_type": "code",
      "execution_count": 73,
      "metadata": {
        "id": "Qqi3z4skGOQe"
      },
      "outputs": [],
      "source": [
        "add_trip_distance(val_df)"
      ]
    },
    {
      "cell_type": "code",
      "execution_count": 74,
      "metadata": {
        "id": "RXKAJyxkGScc"
      },
      "outputs": [],
      "source": [
        "add_trip_distance(test_df)"
      ]
    },
    {
      "cell_type": "code",
      "execution_count": 75,
      "metadata": {
        "colab": {
          "base_uri": "https://localhost:8080/",
          "height": 357
        },
        "id": "uUr5es4UGbWb",
        "outputId": "b8d16614-ecb0-41db-f7a5-cbe5d2ab8b96"
      },
      "outputs": [
        {
          "output_type": "execute_result",
          "data": {
            "text/plain": [
              "        fare_amount           pickup_datetime  pickup_longitude  \\\n",
              "407714        28.33 2013-05-18 19:40:00+00:00        -73.875198   \n",
              "130548        10.90 2009-06-13 07:57:01+00:00        -73.994385   \n",
              "434732         5.30 2011-03-19 21:30:00+00:00        -73.980370   \n",
              "256047         6.90 2010-05-26 19:31:02+00:00        -73.986595   \n",
              "203551         4.90 2011-07-23 13:14:00+00:00        -73.995972   \n",
              "\n",
              "        pickup_latitude  dropoff_longitude  dropoff_latitude  passenger_count  \\\n",
              "407714        40.773891         -73.977135         40.746922              5.0   \n",
              "130548        40.728374         -74.002342         40.760630              1.0   \n",
              "434732        40.754215         -73.988396         40.748555              1.0   \n",
              "256047        40.749886         -74.000519         40.731522              2.0   \n",
              "203551        40.744228         -73.984085         40.736803              2.0   \n",
              "\n",
              "        pickup_datetime_year  pickup_datetime_month  pickup_datetime_day  \\\n",
              "407714                  2013                      5                   18   \n",
              "130548                  2009                      6                   13   \n",
              "434732                  2011                      3                   19   \n",
              "256047                  2010                      5                   26   \n",
              "203551                  2011                      7                   23   \n",
              "\n",
              "        pickup_datetime_weekday  pickup_datetime_hour  trip_distance  \n",
              "407714                        5                    19       9.088754  \n",
              "130548                        5                     7       3.646559  \n",
              "434732                        5                    21       0.923112  \n",
              "256047                        2                    19       2.353241  \n",
              "203551                        5                    13       1.296839  "
            ],
            "text/html": [
              "\n",
              "  <div id=\"df-81139205-3153-4bf9-9e7e-175c98797b56\">\n",
              "    <div class=\"colab-df-container\">\n",
              "      <div>\n",
              "<style scoped>\n",
              "    .dataframe tbody tr th:only-of-type {\n",
              "        vertical-align: middle;\n",
              "    }\n",
              "\n",
              "    .dataframe tbody tr th {\n",
              "        vertical-align: top;\n",
              "    }\n",
              "\n",
              "    .dataframe thead th {\n",
              "        text-align: right;\n",
              "    }\n",
              "</style>\n",
              "<table border=\"1\" class=\"dataframe\">\n",
              "  <thead>\n",
              "    <tr style=\"text-align: right;\">\n",
              "      <th></th>\n",
              "      <th>fare_amount</th>\n",
              "      <th>pickup_datetime</th>\n",
              "      <th>pickup_longitude</th>\n",
              "      <th>pickup_latitude</th>\n",
              "      <th>dropoff_longitude</th>\n",
              "      <th>dropoff_latitude</th>\n",
              "      <th>passenger_count</th>\n",
              "      <th>pickup_datetime_year</th>\n",
              "      <th>pickup_datetime_month</th>\n",
              "      <th>pickup_datetime_day</th>\n",
              "      <th>pickup_datetime_weekday</th>\n",
              "      <th>pickup_datetime_hour</th>\n",
              "      <th>trip_distance</th>\n",
              "    </tr>\n",
              "  </thead>\n",
              "  <tbody>\n",
              "    <tr>\n",
              "      <th>407714</th>\n",
              "      <td>28.33</td>\n",
              "      <td>2013-05-18 19:40:00+00:00</td>\n",
              "      <td>-73.875198</td>\n",
              "      <td>40.773891</td>\n",
              "      <td>-73.977135</td>\n",
              "      <td>40.746922</td>\n",
              "      <td>5.0</td>\n",
              "      <td>2013</td>\n",
              "      <td>5</td>\n",
              "      <td>18</td>\n",
              "      <td>5</td>\n",
              "      <td>19</td>\n",
              "      <td>9.088754</td>\n",
              "    </tr>\n",
              "    <tr>\n",
              "      <th>130548</th>\n",
              "      <td>10.90</td>\n",
              "      <td>2009-06-13 07:57:01+00:00</td>\n",
              "      <td>-73.994385</td>\n",
              "      <td>40.728374</td>\n",
              "      <td>-74.002342</td>\n",
              "      <td>40.760630</td>\n",
              "      <td>1.0</td>\n",
              "      <td>2009</td>\n",
              "      <td>6</td>\n",
              "      <td>13</td>\n",
              "      <td>5</td>\n",
              "      <td>7</td>\n",
              "      <td>3.646559</td>\n",
              "    </tr>\n",
              "    <tr>\n",
              "      <th>434732</th>\n",
              "      <td>5.30</td>\n",
              "      <td>2011-03-19 21:30:00+00:00</td>\n",
              "      <td>-73.980370</td>\n",
              "      <td>40.754215</td>\n",
              "      <td>-73.988396</td>\n",
              "      <td>40.748555</td>\n",
              "      <td>1.0</td>\n",
              "      <td>2011</td>\n",
              "      <td>3</td>\n",
              "      <td>19</td>\n",
              "      <td>5</td>\n",
              "      <td>21</td>\n",
              "      <td>0.923112</td>\n",
              "    </tr>\n",
              "    <tr>\n",
              "      <th>256047</th>\n",
              "      <td>6.90</td>\n",
              "      <td>2010-05-26 19:31:02+00:00</td>\n",
              "      <td>-73.986595</td>\n",
              "      <td>40.749886</td>\n",
              "      <td>-74.000519</td>\n",
              "      <td>40.731522</td>\n",
              "      <td>2.0</td>\n",
              "      <td>2010</td>\n",
              "      <td>5</td>\n",
              "      <td>26</td>\n",
              "      <td>2</td>\n",
              "      <td>19</td>\n",
              "      <td>2.353241</td>\n",
              "    </tr>\n",
              "    <tr>\n",
              "      <th>203551</th>\n",
              "      <td>4.90</td>\n",
              "      <td>2011-07-23 13:14:00+00:00</td>\n",
              "      <td>-73.995972</td>\n",
              "      <td>40.744228</td>\n",
              "      <td>-73.984085</td>\n",
              "      <td>40.736803</td>\n",
              "      <td>2.0</td>\n",
              "      <td>2011</td>\n",
              "      <td>7</td>\n",
              "      <td>23</td>\n",
              "      <td>5</td>\n",
              "      <td>13</td>\n",
              "      <td>1.296839</td>\n",
              "    </tr>\n",
              "  </tbody>\n",
              "</table>\n",
              "</div>\n",
              "      <button class=\"colab-df-convert\" onclick=\"convertToInteractive('df-81139205-3153-4bf9-9e7e-175c98797b56')\"\n",
              "              title=\"Convert this dataframe to an interactive table.\"\n",
              "              style=\"display:none;\">\n",
              "        \n",
              "  <svg xmlns=\"http://www.w3.org/2000/svg\" height=\"24px\"viewBox=\"0 0 24 24\"\n",
              "       width=\"24px\">\n",
              "    <path d=\"M0 0h24v24H0V0z\" fill=\"none\"/>\n",
              "    <path d=\"M18.56 5.44l.94 2.06.94-2.06 2.06-.94-2.06-.94-.94-2.06-.94 2.06-2.06.94zm-11 1L8.5 8.5l.94-2.06 2.06-.94-2.06-.94L8.5 2.5l-.94 2.06-2.06.94zm10 10l.94 2.06.94-2.06 2.06-.94-2.06-.94-.94-2.06-.94 2.06-2.06.94z\"/><path d=\"M17.41 7.96l-1.37-1.37c-.4-.4-.92-.59-1.43-.59-.52 0-1.04.2-1.43.59L10.3 9.45l-7.72 7.72c-.78.78-.78 2.05 0 2.83L4 21.41c.39.39.9.59 1.41.59.51 0 1.02-.2 1.41-.59l7.78-7.78 2.81-2.81c.8-.78.8-2.07 0-2.86zM5.41 20L4 18.59l7.72-7.72 1.47 1.35L5.41 20z\"/>\n",
              "  </svg>\n",
              "      </button>\n",
              "      \n",
              "  <style>\n",
              "    .colab-df-container {\n",
              "      display:flex;\n",
              "      flex-wrap:wrap;\n",
              "      gap: 12px;\n",
              "    }\n",
              "\n",
              "    .colab-df-convert {\n",
              "      background-color: #E8F0FE;\n",
              "      border: none;\n",
              "      border-radius: 50%;\n",
              "      cursor: pointer;\n",
              "      display: none;\n",
              "      fill: #1967D2;\n",
              "      height: 32px;\n",
              "      padding: 0 0 0 0;\n",
              "      width: 32px;\n",
              "    }\n",
              "\n",
              "    .colab-df-convert:hover {\n",
              "      background-color: #E2EBFA;\n",
              "      box-shadow: 0px 1px 2px rgba(60, 64, 67, 0.3), 0px 1px 3px 1px rgba(60, 64, 67, 0.15);\n",
              "      fill: #174EA6;\n",
              "    }\n",
              "\n",
              "    [theme=dark] .colab-df-convert {\n",
              "      background-color: #3B4455;\n",
              "      fill: #D2E3FC;\n",
              "    }\n",
              "\n",
              "    [theme=dark] .colab-df-convert:hover {\n",
              "      background-color: #434B5C;\n",
              "      box-shadow: 0px 1px 3px 1px rgba(0, 0, 0, 0.15);\n",
              "      filter: drop-shadow(0px 1px 2px rgba(0, 0, 0, 0.3));\n",
              "      fill: #FFFFFF;\n",
              "    }\n",
              "  </style>\n",
              "\n",
              "      <script>\n",
              "        const buttonEl =\n",
              "          document.querySelector('#df-81139205-3153-4bf9-9e7e-175c98797b56 button.colab-df-convert');\n",
              "        buttonEl.style.display =\n",
              "          google.colab.kernel.accessAllowed ? 'block' : 'none';\n",
              "\n",
              "        async function convertToInteractive(key) {\n",
              "          const element = document.querySelector('#df-81139205-3153-4bf9-9e7e-175c98797b56');\n",
              "          const dataTable =\n",
              "            await google.colab.kernel.invokeFunction('convertToInteractive',\n",
              "                                                     [key], {});\n",
              "          if (!dataTable) return;\n",
              "\n",
              "          const docLinkHtml = 'Like what you see? Visit the ' +\n",
              "            '<a target=\"_blank\" href=https://colab.research.google.com/notebooks/data_table.ipynb>data table notebook</a>'\n",
              "            + ' to learn more about interactive tables.';\n",
              "          element.innerHTML = '';\n",
              "          dataTable['output_type'] = 'display_data';\n",
              "          await google.colab.output.renderOutput(dataTable, element);\n",
              "          const docLink = document.createElement('div');\n",
              "          docLink.innerHTML = docLinkHtml;\n",
              "          element.appendChild(docLink);\n",
              "        }\n",
              "      </script>\n",
              "    </div>\n",
              "  </div>\n",
              "  "
            ]
          },
          "metadata": {},
          "execution_count": 75
        }
      ],
      "source": [
        "train_df.sample(5)"
      ]
    },
    {
      "cell_type": "markdown",
      "metadata": {
        "id": "5IMxrUMyGmuE"
      },
      "source": [
        "### Add Distance From Popular Landmarks\n",
        "\n",
        "- JFK Airport\n",
        "- LGA Airport\n",
        "- EWR Airport\n",
        "- Times Square\n",
        "- Met Meuseum\n",
        "- World Trade Center\n",
        "\n",
        "We'll add the distance from drop location. "
      ]
    },
    {
      "cell_type": "code",
      "execution_count": 76,
      "metadata": {
        "id": "Uw0FIq_SGebo"
      },
      "outputs": [],
      "source": [
        "jfk_lonlat = -73.7781, 40.6413\n",
        "lga_lonlat = -73.8740, 40.7769\n",
        "ewr_lonlat = -74.1745, 40.6895\n",
        "met_lonlat = -73.9632, 40.7794\n",
        "wtc_lonlat = -74.0099, 40.7126"
      ]
    },
    {
      "cell_type": "code",
      "execution_count": 77,
      "metadata": {
        "id": "gB0riN0dGrBn"
      },
      "outputs": [],
      "source": [
        "def add_landmark_dropoff_distance(df, landmark_name, landmark_lonlat):\n",
        "    lon, lat = landmark_lonlat\n",
        "    df[landmark_name + '_drop_distance'] = haversine_np(lon, lat, df['dropoff_longitude'], df['dropoff_latitude'])"
      ]
    },
    {
      "cell_type": "code",
      "execution_count": 78,
      "metadata": {
        "colab": {
          "base_uri": "https://localhost:8080/"
        },
        "id": "fEolemIkHnbA",
        "outputId": "a82fb85a-b8e1-4657-ed06-90e997b1ddfe"
      },
      "outputs": [
        {
          "output_type": "stream",
          "name": "stdout",
          "text": [
            "CPU times: user 245 ms, sys: 12 ms, total: 257 ms\n",
            "Wall time: 255 ms\n"
          ]
        }
      ],
      "source": [
        "%%time\n",
        "for a_df in [train_df, val_df, test_df]:\n",
        "    for name, lonlat in [('jfk', jfk_lonlat), ('lga', lga_lonlat), ('ewr', ewr_lonlat), ('met', met_lonlat), ('wtc', wtc_lonlat)]:\n",
        "        add_landmark_dropoff_distance(a_df, name, lonlat)"
      ]
    },
    {
      "cell_type": "code",
      "execution_count": 79,
      "metadata": {
        "colab": {
          "base_uri": "https://localhost:8080/",
          "height": 357
        },
        "id": "-P4R9Z9tHruC",
        "outputId": "b628b1dd-d472-4a16-bd56-e0d222bfb6bf"
      },
      "outputs": [
        {
          "output_type": "execute_result",
          "data": {
            "text/plain": [
              "        fare_amount           pickup_datetime  pickup_longitude  \\\n",
              "213642          6.5 2009-02-17 13:22:00+00:00        -73.955574   \n",
              "172574         12.5 2013-03-29 20:24:26+00:00        -73.984421   \n",
              "518001         19.5 2013-03-23 01:00:00+00:00        -73.985092   \n",
              "299198          6.9 2010-05-22 20:18:00+00:00        -73.976791   \n",
              "536771          4.9 2012-07-28 13:23:30+00:00        -74.008659   \n",
              "\n",
              "        pickup_latitude  dropoff_longitude  dropoff_latitude  passenger_count  \\\n",
              "213642        40.772430         -73.968544         40.760013              5.0   \n",
              "172574        40.743000         -73.990875         40.717928              1.0   \n",
              "518001        40.747944         -73.990608         40.689080              1.0   \n",
              "299198        40.765991         -73.973419         40.748097              1.0   \n",
              "536771        40.711384         -74.017403         40.707147              1.0   \n",
              "\n",
              "        pickup_datetime_year  pickup_datetime_month  pickup_datetime_day  \\\n",
              "213642                  2009                      2                   17   \n",
              "172574                  2013                      3                   29   \n",
              "518001                  2013                      3                   23   \n",
              "299198                  2010                      5                   22   \n",
              "536771                  2012                      7                   28   \n",
              "\n",
              "        pickup_datetime_weekday  pickup_datetime_hour  trip_distance  \\\n",
              "213642                        1                    13       1.759603   \n",
              "172574                        4                    20       2.838703   \n",
              "518001                        5                     1       6.557513   \n",
              "299198                        5                    20       2.008561   \n",
              "536771                        5                    13       0.874065   \n",
              "\n",
              "        jfk_drop_distance  lga_drop_distance  ewr_drop_distance  \\\n",
              "213642          20.771483           8.175178          19.032823   \n",
              "172574          19.850408          11.821758          15.788786   \n",
              "518001          18.682992          13.843692          15.495386   \n",
              "299198          20.289707           8.959312          18.144498   \n",
              "536771          21.454841          14.347539          13.380239   \n",
              "\n",
              "        met_drop_distance  wtc_drop_distance  \n",
              "213642           2.200779           6.315578  \n",
              "172574           7.217312           1.708637  \n",
              "518001          10.298640           3.077936  \n",
              "299198           3.583285           4.999688  \n",
              "536771           9.235165           0.875370  "
            ],
            "text/html": [
              "\n",
              "  <div id=\"df-6b163018-783d-43df-9f14-e63cbeb9ea98\">\n",
              "    <div class=\"colab-df-container\">\n",
              "      <div>\n",
              "<style scoped>\n",
              "    .dataframe tbody tr th:only-of-type {\n",
              "        vertical-align: middle;\n",
              "    }\n",
              "\n",
              "    .dataframe tbody tr th {\n",
              "        vertical-align: top;\n",
              "    }\n",
              "\n",
              "    .dataframe thead th {\n",
              "        text-align: right;\n",
              "    }\n",
              "</style>\n",
              "<table border=\"1\" class=\"dataframe\">\n",
              "  <thead>\n",
              "    <tr style=\"text-align: right;\">\n",
              "      <th></th>\n",
              "      <th>fare_amount</th>\n",
              "      <th>pickup_datetime</th>\n",
              "      <th>pickup_longitude</th>\n",
              "      <th>pickup_latitude</th>\n",
              "      <th>dropoff_longitude</th>\n",
              "      <th>dropoff_latitude</th>\n",
              "      <th>passenger_count</th>\n",
              "      <th>pickup_datetime_year</th>\n",
              "      <th>pickup_datetime_month</th>\n",
              "      <th>pickup_datetime_day</th>\n",
              "      <th>pickup_datetime_weekday</th>\n",
              "      <th>pickup_datetime_hour</th>\n",
              "      <th>trip_distance</th>\n",
              "      <th>jfk_drop_distance</th>\n",
              "      <th>lga_drop_distance</th>\n",
              "      <th>ewr_drop_distance</th>\n",
              "      <th>met_drop_distance</th>\n",
              "      <th>wtc_drop_distance</th>\n",
              "    </tr>\n",
              "  </thead>\n",
              "  <tbody>\n",
              "    <tr>\n",
              "      <th>213642</th>\n",
              "      <td>6.5</td>\n",
              "      <td>2009-02-17 13:22:00+00:00</td>\n",
              "      <td>-73.955574</td>\n",
              "      <td>40.772430</td>\n",
              "      <td>-73.968544</td>\n",
              "      <td>40.760013</td>\n",
              "      <td>5.0</td>\n",
              "      <td>2009</td>\n",
              "      <td>2</td>\n",
              "      <td>17</td>\n",
              "      <td>1</td>\n",
              "      <td>13</td>\n",
              "      <td>1.759603</td>\n",
              "      <td>20.771483</td>\n",
              "      <td>8.175178</td>\n",
              "      <td>19.032823</td>\n",
              "      <td>2.200779</td>\n",
              "      <td>6.315578</td>\n",
              "    </tr>\n",
              "    <tr>\n",
              "      <th>172574</th>\n",
              "      <td>12.5</td>\n",
              "      <td>2013-03-29 20:24:26+00:00</td>\n",
              "      <td>-73.984421</td>\n",
              "      <td>40.743000</td>\n",
              "      <td>-73.990875</td>\n",
              "      <td>40.717928</td>\n",
              "      <td>1.0</td>\n",
              "      <td>2013</td>\n",
              "      <td>3</td>\n",
              "      <td>29</td>\n",
              "      <td>4</td>\n",
              "      <td>20</td>\n",
              "      <td>2.838703</td>\n",
              "      <td>19.850408</td>\n",
              "      <td>11.821758</td>\n",
              "      <td>15.788786</td>\n",
              "      <td>7.217312</td>\n",
              "      <td>1.708637</td>\n",
              "    </tr>\n",
              "    <tr>\n",
              "      <th>518001</th>\n",
              "      <td>19.5</td>\n",
              "      <td>2013-03-23 01:00:00+00:00</td>\n",
              "      <td>-73.985092</td>\n",
              "      <td>40.747944</td>\n",
              "      <td>-73.990608</td>\n",
              "      <td>40.689080</td>\n",
              "      <td>1.0</td>\n",
              "      <td>2013</td>\n",
              "      <td>3</td>\n",
              "      <td>23</td>\n",
              "      <td>5</td>\n",
              "      <td>1</td>\n",
              "      <td>6.557513</td>\n",
              "      <td>18.682992</td>\n",
              "      <td>13.843692</td>\n",
              "      <td>15.495386</td>\n",
              "      <td>10.298640</td>\n",
              "      <td>3.077936</td>\n",
              "    </tr>\n",
              "    <tr>\n",
              "      <th>299198</th>\n",
              "      <td>6.9</td>\n",
              "      <td>2010-05-22 20:18:00+00:00</td>\n",
              "      <td>-73.976791</td>\n",
              "      <td>40.765991</td>\n",
              "      <td>-73.973419</td>\n",
              "      <td>40.748097</td>\n",
              "      <td>1.0</td>\n",
              "      <td>2010</td>\n",
              "      <td>5</td>\n",
              "      <td>22</td>\n",
              "      <td>5</td>\n",
              "      <td>20</td>\n",
              "      <td>2.008561</td>\n",
              "      <td>20.289707</td>\n",
              "      <td>8.959312</td>\n",
              "      <td>18.144498</td>\n",
              "      <td>3.583285</td>\n",
              "      <td>4.999688</td>\n",
              "    </tr>\n",
              "    <tr>\n",
              "      <th>536771</th>\n",
              "      <td>4.9</td>\n",
              "      <td>2012-07-28 13:23:30+00:00</td>\n",
              "      <td>-74.008659</td>\n",
              "      <td>40.711384</td>\n",
              "      <td>-74.017403</td>\n",
              "      <td>40.707147</td>\n",
              "      <td>1.0</td>\n",
              "      <td>2012</td>\n",
              "      <td>7</td>\n",
              "      <td>28</td>\n",
              "      <td>5</td>\n",
              "      <td>13</td>\n",
              "      <td>0.874065</td>\n",
              "      <td>21.454841</td>\n",
              "      <td>14.347539</td>\n",
              "      <td>13.380239</td>\n",
              "      <td>9.235165</td>\n",
              "      <td>0.875370</td>\n",
              "    </tr>\n",
              "  </tbody>\n",
              "</table>\n",
              "</div>\n",
              "      <button class=\"colab-df-convert\" onclick=\"convertToInteractive('df-6b163018-783d-43df-9f14-e63cbeb9ea98')\"\n",
              "              title=\"Convert this dataframe to an interactive table.\"\n",
              "              style=\"display:none;\">\n",
              "        \n",
              "  <svg xmlns=\"http://www.w3.org/2000/svg\" height=\"24px\"viewBox=\"0 0 24 24\"\n",
              "       width=\"24px\">\n",
              "    <path d=\"M0 0h24v24H0V0z\" fill=\"none\"/>\n",
              "    <path d=\"M18.56 5.44l.94 2.06.94-2.06 2.06-.94-2.06-.94-.94-2.06-.94 2.06-2.06.94zm-11 1L8.5 8.5l.94-2.06 2.06-.94-2.06-.94L8.5 2.5l-.94 2.06-2.06.94zm10 10l.94 2.06.94-2.06 2.06-.94-2.06-.94-.94-2.06-.94 2.06-2.06.94z\"/><path d=\"M17.41 7.96l-1.37-1.37c-.4-.4-.92-.59-1.43-.59-.52 0-1.04.2-1.43.59L10.3 9.45l-7.72 7.72c-.78.78-.78 2.05 0 2.83L4 21.41c.39.39.9.59 1.41.59.51 0 1.02-.2 1.41-.59l7.78-7.78 2.81-2.81c.8-.78.8-2.07 0-2.86zM5.41 20L4 18.59l7.72-7.72 1.47 1.35L5.41 20z\"/>\n",
              "  </svg>\n",
              "      </button>\n",
              "      \n",
              "  <style>\n",
              "    .colab-df-container {\n",
              "      display:flex;\n",
              "      flex-wrap:wrap;\n",
              "      gap: 12px;\n",
              "    }\n",
              "\n",
              "    .colab-df-convert {\n",
              "      background-color: #E8F0FE;\n",
              "      border: none;\n",
              "      border-radius: 50%;\n",
              "      cursor: pointer;\n",
              "      display: none;\n",
              "      fill: #1967D2;\n",
              "      height: 32px;\n",
              "      padding: 0 0 0 0;\n",
              "      width: 32px;\n",
              "    }\n",
              "\n",
              "    .colab-df-convert:hover {\n",
              "      background-color: #E2EBFA;\n",
              "      box-shadow: 0px 1px 2px rgba(60, 64, 67, 0.3), 0px 1px 3px 1px rgba(60, 64, 67, 0.15);\n",
              "      fill: #174EA6;\n",
              "    }\n",
              "\n",
              "    [theme=dark] .colab-df-convert {\n",
              "      background-color: #3B4455;\n",
              "      fill: #D2E3FC;\n",
              "    }\n",
              "\n",
              "    [theme=dark] .colab-df-convert:hover {\n",
              "      background-color: #434B5C;\n",
              "      box-shadow: 0px 1px 3px 1px rgba(0, 0, 0, 0.15);\n",
              "      filter: drop-shadow(0px 1px 2px rgba(0, 0, 0, 0.3));\n",
              "      fill: #FFFFFF;\n",
              "    }\n",
              "  </style>\n",
              "\n",
              "      <script>\n",
              "        const buttonEl =\n",
              "          document.querySelector('#df-6b163018-783d-43df-9f14-e63cbeb9ea98 button.colab-df-convert');\n",
              "        buttonEl.style.display =\n",
              "          google.colab.kernel.accessAllowed ? 'block' : 'none';\n",
              "\n",
              "        async function convertToInteractive(key) {\n",
              "          const element = document.querySelector('#df-6b163018-783d-43df-9f14-e63cbeb9ea98');\n",
              "          const dataTable =\n",
              "            await google.colab.kernel.invokeFunction('convertToInteractive',\n",
              "                                                     [key], {});\n",
              "          if (!dataTable) return;\n",
              "\n",
              "          const docLinkHtml = 'Like what you see? Visit the ' +\n",
              "            '<a target=\"_blank\" href=https://colab.research.google.com/notebooks/data_table.ipynb>data table notebook</a>'\n",
              "            + ' to learn more about interactive tables.';\n",
              "          element.innerHTML = '';\n",
              "          dataTable['output_type'] = 'display_data';\n",
              "          await google.colab.output.renderOutput(dataTable, element);\n",
              "          const docLink = document.createElement('div');\n",
              "          docLink.innerHTML = docLinkHtml;\n",
              "          element.appendChild(docLink);\n",
              "        }\n",
              "      </script>\n",
              "    </div>\n",
              "  </div>\n",
              "  "
            ]
          },
          "metadata": {},
          "execution_count": 79
        }
      ],
      "source": [
        "train_df.sample(5)"
      ]
    },
    {
      "cell_type": "markdown",
      "metadata": {
        "id": "nyDNlHU0ISW5"
      },
      "source": [
        "### Remove Outliers and Invalid Data\n",
        "\n",
        "There seems to be some invalide data in each of the following columns:\n",
        "\n",
        "- Fare amount\n",
        "- Passenger count\n",
        "- Pickup latitude & longitude\n",
        "- Drop latitude & longitude"
      ]
    },
    {
      "cell_type": "code",
      "execution_count": 80,
      "metadata": {
        "colab": {
          "base_uri": "https://localhost:8080/",
          "height": 364
        },
        "id": "nqGqErhCHtwF",
        "outputId": "2705a0a1-fcaf-441d-f7cb-2c899900c028"
      },
      "outputs": [
        {
          "output_type": "execute_result",
          "data": {
            "text/plain": [
              "         fare_amount  pickup_longitude  pickup_latitude  dropoff_longitude  \\\n",
              "count  441960.000000     441960.000000    441960.000000      441960.000000   \n",
              "mean       11.354714        -72.498627        39.909996         -72.508141   \n",
              "std         9.789793         11.795325         8.464263          12.398610   \n",
              "min       -52.000000      -1183.362793     -3084.490234       -3356.729736   \n",
              "25%         6.000000        -73.992027        40.734859         -73.991409   \n",
              "50%         8.500000        -73.981819        40.752613         -73.980171   \n",
              "75%        12.500000        -73.967186        40.767006         -73.963715   \n",
              "max       400.000000       2420.209473       404.899994        2467.752686   \n",
              "\n",
              "       dropoff_latitude  passenger_count  pickup_datetime_year  \\\n",
              "count     441960.000000    441960.000000         441960.000000   \n",
              "mean          39.937865         1.684444           2011.740038   \n",
              "std            9.857420         1.344170              1.857024   \n",
              "min        -2073.150613         0.000000           2009.000000   \n",
              "25%           40.733968         1.000000           2010.000000   \n",
              "50%           40.753078         1.000000           2012.000000   \n",
              "75%           40.768045         2.000000           2013.000000   \n",
              "max         3351.403027       208.000000           2015.000000   \n",
              "\n",
              "       pickup_datetime_month  pickup_datetime_day  pickup_datetime_weekday  \\\n",
              "count          441960.000000        441960.000000            441960.000000   \n",
              "mean                6.263920            15.732492                 3.035813   \n",
              "std                 3.434881             8.697374                 1.950033   \n",
              "min                 1.000000             1.000000                 0.000000   \n",
              "25%                 3.000000             8.000000                 1.000000   \n",
              "50%                 6.000000            16.000000                 3.000000   \n",
              "75%                 9.000000            23.000000                 5.000000   \n",
              "max                12.000000            31.000000                 6.000000   \n",
              "\n",
              "       pickup_datetime_hour  trip_distance  jfk_drop_distance  \\\n",
              "count         441960.000000  441960.000000      441960.000000   \n",
              "mean              13.506568      19.751764         193.147978   \n",
              "std                6.517710     371.299305        1223.614787   \n",
              "min                0.000000       0.000000           0.305535   \n",
              "25%                9.000000       1.212450          20.535191   \n",
              "50%               14.000000       2.116230          21.202076   \n",
              "75%               19.000000       3.879673          21.948262   \n",
              "max               23.000000   16913.444834       15057.674834   \n",
              "\n",
              "       lga_drop_distance  ewr_drop_distance  met_drop_distance  \\\n",
              "count      441960.000000      441960.000000      441960.000000   \n",
              "mean          182.365206         191.412330         177.416092   \n",
              "std          1226.672207        1228.515208        1228.388658   \n",
              "min             0.116385           0.129259           0.031095   \n",
              "25%             8.350965          16.502844           2.169888   \n",
              "50%             9.575570          18.016353           3.818017   \n",
              "75%            11.122069          19.953306           6.071750   \n",
              "max         15074.642961       15074.714623       15077.613474   \n",
              "\n",
              "       wtc_drop_distance  \n",
              "count      441960.000000  \n",
              "mean          178.902096  \n",
              "std          1228.487258  \n",
              "min             0.009334  \n",
              "25%             3.642498  \n",
              "50%             5.559662  \n",
              "75%             7.814534  \n",
              "max         15072.109731  "
            ],
            "text/html": [
              "\n",
              "  <div id=\"df-c726f79d-8b7a-46ee-93b0-ae3de601a032\">\n",
              "    <div class=\"colab-df-container\">\n",
              "      <div>\n",
              "<style scoped>\n",
              "    .dataframe tbody tr th:only-of-type {\n",
              "        vertical-align: middle;\n",
              "    }\n",
              "\n",
              "    .dataframe tbody tr th {\n",
              "        vertical-align: top;\n",
              "    }\n",
              "\n",
              "    .dataframe thead th {\n",
              "        text-align: right;\n",
              "    }\n",
              "</style>\n",
              "<table border=\"1\" class=\"dataframe\">\n",
              "  <thead>\n",
              "    <tr style=\"text-align: right;\">\n",
              "      <th></th>\n",
              "      <th>fare_amount</th>\n",
              "      <th>pickup_longitude</th>\n",
              "      <th>pickup_latitude</th>\n",
              "      <th>dropoff_longitude</th>\n",
              "      <th>dropoff_latitude</th>\n",
              "      <th>passenger_count</th>\n",
              "      <th>pickup_datetime_year</th>\n",
              "      <th>pickup_datetime_month</th>\n",
              "      <th>pickup_datetime_day</th>\n",
              "      <th>pickup_datetime_weekday</th>\n",
              "      <th>pickup_datetime_hour</th>\n",
              "      <th>trip_distance</th>\n",
              "      <th>jfk_drop_distance</th>\n",
              "      <th>lga_drop_distance</th>\n",
              "      <th>ewr_drop_distance</th>\n",
              "      <th>met_drop_distance</th>\n",
              "      <th>wtc_drop_distance</th>\n",
              "    </tr>\n",
              "  </thead>\n",
              "  <tbody>\n",
              "    <tr>\n",
              "      <th>count</th>\n",
              "      <td>441960.000000</td>\n",
              "      <td>441960.000000</td>\n",
              "      <td>441960.000000</td>\n",
              "      <td>441960.000000</td>\n",
              "      <td>441960.000000</td>\n",
              "      <td>441960.000000</td>\n",
              "      <td>441960.000000</td>\n",
              "      <td>441960.000000</td>\n",
              "      <td>441960.000000</td>\n",
              "      <td>441960.000000</td>\n",
              "      <td>441960.000000</td>\n",
              "      <td>441960.000000</td>\n",
              "      <td>441960.000000</td>\n",
              "      <td>441960.000000</td>\n",
              "      <td>441960.000000</td>\n",
              "      <td>441960.000000</td>\n",
              "      <td>441960.000000</td>\n",
              "    </tr>\n",
              "    <tr>\n",
              "      <th>mean</th>\n",
              "      <td>11.354714</td>\n",
              "      <td>-72.498627</td>\n",
              "      <td>39.909996</td>\n",
              "      <td>-72.508141</td>\n",
              "      <td>39.937865</td>\n",
              "      <td>1.684444</td>\n",
              "      <td>2011.740038</td>\n",
              "      <td>6.263920</td>\n",
              "      <td>15.732492</td>\n",
              "      <td>3.035813</td>\n",
              "      <td>13.506568</td>\n",
              "      <td>19.751764</td>\n",
              "      <td>193.147978</td>\n",
              "      <td>182.365206</td>\n",
              "      <td>191.412330</td>\n",
              "      <td>177.416092</td>\n",
              "      <td>178.902096</td>\n",
              "    </tr>\n",
              "    <tr>\n",
              "      <th>std</th>\n",
              "      <td>9.789793</td>\n",
              "      <td>11.795325</td>\n",
              "      <td>8.464263</td>\n",
              "      <td>12.398610</td>\n",
              "      <td>9.857420</td>\n",
              "      <td>1.344170</td>\n",
              "      <td>1.857024</td>\n",
              "      <td>3.434881</td>\n",
              "      <td>8.697374</td>\n",
              "      <td>1.950033</td>\n",
              "      <td>6.517710</td>\n",
              "      <td>371.299305</td>\n",
              "      <td>1223.614787</td>\n",
              "      <td>1226.672207</td>\n",
              "      <td>1228.515208</td>\n",
              "      <td>1228.388658</td>\n",
              "      <td>1228.487258</td>\n",
              "    </tr>\n",
              "    <tr>\n",
              "      <th>min</th>\n",
              "      <td>-52.000000</td>\n",
              "      <td>-1183.362793</td>\n",
              "      <td>-3084.490234</td>\n",
              "      <td>-3356.729736</td>\n",
              "      <td>-2073.150613</td>\n",
              "      <td>0.000000</td>\n",
              "      <td>2009.000000</td>\n",
              "      <td>1.000000</td>\n",
              "      <td>1.000000</td>\n",
              "      <td>0.000000</td>\n",
              "      <td>0.000000</td>\n",
              "      <td>0.000000</td>\n",
              "      <td>0.305535</td>\n",
              "      <td>0.116385</td>\n",
              "      <td>0.129259</td>\n",
              "      <td>0.031095</td>\n",
              "      <td>0.009334</td>\n",
              "    </tr>\n",
              "    <tr>\n",
              "      <th>25%</th>\n",
              "      <td>6.000000</td>\n",
              "      <td>-73.992027</td>\n",
              "      <td>40.734859</td>\n",
              "      <td>-73.991409</td>\n",
              "      <td>40.733968</td>\n",
              "      <td>1.000000</td>\n",
              "      <td>2010.000000</td>\n",
              "      <td>3.000000</td>\n",
              "      <td>8.000000</td>\n",
              "      <td>1.000000</td>\n",
              "      <td>9.000000</td>\n",
              "      <td>1.212450</td>\n",
              "      <td>20.535191</td>\n",
              "      <td>8.350965</td>\n",
              "      <td>16.502844</td>\n",
              "      <td>2.169888</td>\n",
              "      <td>3.642498</td>\n",
              "    </tr>\n",
              "    <tr>\n",
              "      <th>50%</th>\n",
              "      <td>8.500000</td>\n",
              "      <td>-73.981819</td>\n",
              "      <td>40.752613</td>\n",
              "      <td>-73.980171</td>\n",
              "      <td>40.753078</td>\n",
              "      <td>1.000000</td>\n",
              "      <td>2012.000000</td>\n",
              "      <td>6.000000</td>\n",
              "      <td>16.000000</td>\n",
              "      <td>3.000000</td>\n",
              "      <td>14.000000</td>\n",
              "      <td>2.116230</td>\n",
              "      <td>21.202076</td>\n",
              "      <td>9.575570</td>\n",
              "      <td>18.016353</td>\n",
              "      <td>3.818017</td>\n",
              "      <td>5.559662</td>\n",
              "    </tr>\n",
              "    <tr>\n",
              "      <th>75%</th>\n",
              "      <td>12.500000</td>\n",
              "      <td>-73.967186</td>\n",
              "      <td>40.767006</td>\n",
              "      <td>-73.963715</td>\n",
              "      <td>40.768045</td>\n",
              "      <td>2.000000</td>\n",
              "      <td>2013.000000</td>\n",
              "      <td>9.000000</td>\n",
              "      <td>23.000000</td>\n",
              "      <td>5.000000</td>\n",
              "      <td>19.000000</td>\n",
              "      <td>3.879673</td>\n",
              "      <td>21.948262</td>\n",
              "      <td>11.122069</td>\n",
              "      <td>19.953306</td>\n",
              "      <td>6.071750</td>\n",
              "      <td>7.814534</td>\n",
              "    </tr>\n",
              "    <tr>\n",
              "      <th>max</th>\n",
              "      <td>400.000000</td>\n",
              "      <td>2420.209473</td>\n",
              "      <td>404.899994</td>\n",
              "      <td>2467.752686</td>\n",
              "      <td>3351.403027</td>\n",
              "      <td>208.000000</td>\n",
              "      <td>2015.000000</td>\n",
              "      <td>12.000000</td>\n",
              "      <td>31.000000</td>\n",
              "      <td>6.000000</td>\n",
              "      <td>23.000000</td>\n",
              "      <td>16913.444834</td>\n",
              "      <td>15057.674834</td>\n",
              "      <td>15074.642961</td>\n",
              "      <td>15074.714623</td>\n",
              "      <td>15077.613474</td>\n",
              "      <td>15072.109731</td>\n",
              "    </tr>\n",
              "  </tbody>\n",
              "</table>\n",
              "</div>\n",
              "      <button class=\"colab-df-convert\" onclick=\"convertToInteractive('df-c726f79d-8b7a-46ee-93b0-ae3de601a032')\"\n",
              "              title=\"Convert this dataframe to an interactive table.\"\n",
              "              style=\"display:none;\">\n",
              "        \n",
              "  <svg xmlns=\"http://www.w3.org/2000/svg\" height=\"24px\"viewBox=\"0 0 24 24\"\n",
              "       width=\"24px\">\n",
              "    <path d=\"M0 0h24v24H0V0z\" fill=\"none\"/>\n",
              "    <path d=\"M18.56 5.44l.94 2.06.94-2.06 2.06-.94-2.06-.94-.94-2.06-.94 2.06-2.06.94zm-11 1L8.5 8.5l.94-2.06 2.06-.94-2.06-.94L8.5 2.5l-.94 2.06-2.06.94zm10 10l.94 2.06.94-2.06 2.06-.94-2.06-.94-.94-2.06-.94 2.06-2.06.94z\"/><path d=\"M17.41 7.96l-1.37-1.37c-.4-.4-.92-.59-1.43-.59-.52 0-1.04.2-1.43.59L10.3 9.45l-7.72 7.72c-.78.78-.78 2.05 0 2.83L4 21.41c.39.39.9.59 1.41.59.51 0 1.02-.2 1.41-.59l7.78-7.78 2.81-2.81c.8-.78.8-2.07 0-2.86zM5.41 20L4 18.59l7.72-7.72 1.47 1.35L5.41 20z\"/>\n",
              "  </svg>\n",
              "      </button>\n",
              "      \n",
              "  <style>\n",
              "    .colab-df-container {\n",
              "      display:flex;\n",
              "      flex-wrap:wrap;\n",
              "      gap: 12px;\n",
              "    }\n",
              "\n",
              "    .colab-df-convert {\n",
              "      background-color: #E8F0FE;\n",
              "      border: none;\n",
              "      border-radius: 50%;\n",
              "      cursor: pointer;\n",
              "      display: none;\n",
              "      fill: #1967D2;\n",
              "      height: 32px;\n",
              "      padding: 0 0 0 0;\n",
              "      width: 32px;\n",
              "    }\n",
              "\n",
              "    .colab-df-convert:hover {\n",
              "      background-color: #E2EBFA;\n",
              "      box-shadow: 0px 1px 2px rgba(60, 64, 67, 0.3), 0px 1px 3px 1px rgba(60, 64, 67, 0.15);\n",
              "      fill: #174EA6;\n",
              "    }\n",
              "\n",
              "    [theme=dark] .colab-df-convert {\n",
              "      background-color: #3B4455;\n",
              "      fill: #D2E3FC;\n",
              "    }\n",
              "\n",
              "    [theme=dark] .colab-df-convert:hover {\n",
              "      background-color: #434B5C;\n",
              "      box-shadow: 0px 1px 3px 1px rgba(0, 0, 0, 0.15);\n",
              "      filter: drop-shadow(0px 1px 2px rgba(0, 0, 0, 0.3));\n",
              "      fill: #FFFFFF;\n",
              "    }\n",
              "  </style>\n",
              "\n",
              "      <script>\n",
              "        const buttonEl =\n",
              "          document.querySelector('#df-c726f79d-8b7a-46ee-93b0-ae3de601a032 button.colab-df-convert');\n",
              "        buttonEl.style.display =\n",
              "          google.colab.kernel.accessAllowed ? 'block' : 'none';\n",
              "\n",
              "        async function convertToInteractive(key) {\n",
              "          const element = document.querySelector('#df-c726f79d-8b7a-46ee-93b0-ae3de601a032');\n",
              "          const dataTable =\n",
              "            await google.colab.kernel.invokeFunction('convertToInteractive',\n",
              "                                                     [key], {});\n",
              "          if (!dataTable) return;\n",
              "\n",
              "          const docLinkHtml = 'Like what you see? Visit the ' +\n",
              "            '<a target=\"_blank\" href=https://colab.research.google.com/notebooks/data_table.ipynb>data table notebook</a>'\n",
              "            + ' to learn more about interactive tables.';\n",
              "          element.innerHTML = '';\n",
              "          dataTable['output_type'] = 'display_data';\n",
              "          await google.colab.output.renderOutput(dataTable, element);\n",
              "          const docLink = document.createElement('div');\n",
              "          docLink.innerHTML = docLinkHtml;\n",
              "          element.appendChild(docLink);\n",
              "        }\n",
              "      </script>\n",
              "    </div>\n",
              "  </div>\n",
              "  "
            ]
          },
          "metadata": {},
          "execution_count": 80
        }
      ],
      "source": [
        "train_df.describe()"
      ]
    },
    {
      "cell_type": "code",
      "execution_count": 81,
      "metadata": {
        "colab": {
          "base_uri": "https://localhost:8080/",
          "height": 364
        },
        "id": "OmOaT9sfIVKE",
        "outputId": "f6940fc3-ee06-440e-8f76-f996bb6e8086"
      },
      "outputs": [
        {
          "output_type": "execute_result",
          "data": {
            "text/plain": [
              "       pickup_longitude  pickup_latitude  dropoff_longitude  dropoff_latitude  \\\n",
              "count       9914.000000      9914.000000        9914.000000       9914.000000   \n",
              "mean         -73.974716        40.751041         -73.973656         40.751743   \n",
              "std            0.042774         0.033541           0.039072          0.035435   \n",
              "min          -74.252190        40.573143         -74.263245         40.568973   \n",
              "25%          -73.992500        40.736125         -73.991249         40.735254   \n",
              "50%          -73.982327        40.753052         -73.980015         40.754065   \n",
              "75%          -73.968012        40.767113         -73.964062         40.768757   \n",
              "max          -72.986534        41.709557         -72.990967         41.696683   \n",
              "\n",
              "       passenger_count  pickup_datetime_year  pickup_datetime_month  \\\n",
              "count      9914.000000           9914.000000            9914.000000   \n",
              "mean          1.671273           2011.815816               6.857979   \n",
              "std           1.278747              1.803347               3.353272   \n",
              "min           1.000000           2009.000000               1.000000   \n",
              "25%           1.000000           2010.000000               4.000000   \n",
              "50%           1.000000           2012.000000               7.000000   \n",
              "75%           2.000000           2014.000000              10.000000   \n",
              "max           6.000000           2015.000000              12.000000   \n",
              "\n",
              "       pickup_datetime_day  pickup_datetime_weekday  pickup_datetime_hour  \\\n",
              "count          9914.000000              9914.000000           9914.000000   \n",
              "mean             16.194170                 2.852834             13.467420   \n",
              "std               8.838482                 1.994451              6.868584   \n",
              "min               1.000000                 0.000000              0.000000   \n",
              "25%               9.000000                 1.000000              8.000000   \n",
              "50%              16.000000                 3.000000             15.000000   \n",
              "75%              25.000000                 5.000000             19.000000   \n",
              "max              31.000000                 6.000000             23.000000   \n",
              "\n",
              "       trip_distance  jfk_drop_distance  lga_drop_distance  ewr_drop_distance  \\\n",
              "count    9914.000000        9914.000000        9914.000000        9914.000000   \n",
              "mean        3.433217          20.916707           9.675209          18.546655   \n",
              "std         3.969883           3.303942           3.295656           4.035818   \n",
              "min         0.000009           0.402057           0.285510           0.284706   \n",
              "25%         1.297281          20.513366           8.311562          16.520468   \n",
              "50%         2.215669          21.181394           9.477792          18.024364   \n",
              "75%         4.042928          21.909781          10.965471          19.880521   \n",
              "max        99.933359         134.497657         126.062486         149.400789   \n",
              "\n",
              "       met_drop_distance  wtc_drop_distance  \n",
              "count        9914.000000        9914.000000  \n",
              "mean            4.512975           6.037621  \n",
              "std             4.018438           4.252537  \n",
              "min             0.085728           0.040386  \n",
              "25%             2.126326           3.669914  \n",
              "50%             3.698360           5.541418  \n",
              "75%             5.922760           7.757408  \n",
              "max           130.347048         138.619454  "
            ],
            "text/html": [
              "\n",
              "  <div id=\"df-fd8e5ae2-0387-4b75-b5ee-78e113d25696\">\n",
              "    <div class=\"colab-df-container\">\n",
              "      <div>\n",
              "<style scoped>\n",
              "    .dataframe tbody tr th:only-of-type {\n",
              "        vertical-align: middle;\n",
              "    }\n",
              "\n",
              "    .dataframe tbody tr th {\n",
              "        vertical-align: top;\n",
              "    }\n",
              "\n",
              "    .dataframe thead th {\n",
              "        text-align: right;\n",
              "    }\n",
              "</style>\n",
              "<table border=\"1\" class=\"dataframe\">\n",
              "  <thead>\n",
              "    <tr style=\"text-align: right;\">\n",
              "      <th></th>\n",
              "      <th>pickup_longitude</th>\n",
              "      <th>pickup_latitude</th>\n",
              "      <th>dropoff_longitude</th>\n",
              "      <th>dropoff_latitude</th>\n",
              "      <th>passenger_count</th>\n",
              "      <th>pickup_datetime_year</th>\n",
              "      <th>pickup_datetime_month</th>\n",
              "      <th>pickup_datetime_day</th>\n",
              "      <th>pickup_datetime_weekday</th>\n",
              "      <th>pickup_datetime_hour</th>\n",
              "      <th>trip_distance</th>\n",
              "      <th>jfk_drop_distance</th>\n",
              "      <th>lga_drop_distance</th>\n",
              "      <th>ewr_drop_distance</th>\n",
              "      <th>met_drop_distance</th>\n",
              "      <th>wtc_drop_distance</th>\n",
              "    </tr>\n",
              "  </thead>\n",
              "  <tbody>\n",
              "    <tr>\n",
              "      <th>count</th>\n",
              "      <td>9914.000000</td>\n",
              "      <td>9914.000000</td>\n",
              "      <td>9914.000000</td>\n",
              "      <td>9914.000000</td>\n",
              "      <td>9914.000000</td>\n",
              "      <td>9914.000000</td>\n",
              "      <td>9914.000000</td>\n",
              "      <td>9914.000000</td>\n",
              "      <td>9914.000000</td>\n",
              "      <td>9914.000000</td>\n",
              "      <td>9914.000000</td>\n",
              "      <td>9914.000000</td>\n",
              "      <td>9914.000000</td>\n",
              "      <td>9914.000000</td>\n",
              "      <td>9914.000000</td>\n",
              "      <td>9914.000000</td>\n",
              "    </tr>\n",
              "    <tr>\n",
              "      <th>mean</th>\n",
              "      <td>-73.974716</td>\n",
              "      <td>40.751041</td>\n",
              "      <td>-73.973656</td>\n",
              "      <td>40.751743</td>\n",
              "      <td>1.671273</td>\n",
              "      <td>2011.815816</td>\n",
              "      <td>6.857979</td>\n",
              "      <td>16.194170</td>\n",
              "      <td>2.852834</td>\n",
              "      <td>13.467420</td>\n",
              "      <td>3.433217</td>\n",
              "      <td>20.916707</td>\n",
              "      <td>9.675209</td>\n",
              "      <td>18.546655</td>\n",
              "      <td>4.512975</td>\n",
              "      <td>6.037621</td>\n",
              "    </tr>\n",
              "    <tr>\n",
              "      <th>std</th>\n",
              "      <td>0.042774</td>\n",
              "      <td>0.033541</td>\n",
              "      <td>0.039072</td>\n",
              "      <td>0.035435</td>\n",
              "      <td>1.278747</td>\n",
              "      <td>1.803347</td>\n",
              "      <td>3.353272</td>\n",
              "      <td>8.838482</td>\n",
              "      <td>1.994451</td>\n",
              "      <td>6.868584</td>\n",
              "      <td>3.969883</td>\n",
              "      <td>3.303942</td>\n",
              "      <td>3.295656</td>\n",
              "      <td>4.035818</td>\n",
              "      <td>4.018438</td>\n",
              "      <td>4.252537</td>\n",
              "    </tr>\n",
              "    <tr>\n",
              "      <th>min</th>\n",
              "      <td>-74.252190</td>\n",
              "      <td>40.573143</td>\n",
              "      <td>-74.263245</td>\n",
              "      <td>40.568973</td>\n",
              "      <td>1.000000</td>\n",
              "      <td>2009.000000</td>\n",
              "      <td>1.000000</td>\n",
              "      <td>1.000000</td>\n",
              "      <td>0.000000</td>\n",
              "      <td>0.000000</td>\n",
              "      <td>0.000009</td>\n",
              "      <td>0.402057</td>\n",
              "      <td>0.285510</td>\n",
              "      <td>0.284706</td>\n",
              "      <td>0.085728</td>\n",
              "      <td>0.040386</td>\n",
              "    </tr>\n",
              "    <tr>\n",
              "      <th>25%</th>\n",
              "      <td>-73.992500</td>\n",
              "      <td>40.736125</td>\n",
              "      <td>-73.991249</td>\n",
              "      <td>40.735254</td>\n",
              "      <td>1.000000</td>\n",
              "      <td>2010.000000</td>\n",
              "      <td>4.000000</td>\n",
              "      <td>9.000000</td>\n",
              "      <td>1.000000</td>\n",
              "      <td>8.000000</td>\n",
              "      <td>1.297281</td>\n",
              "      <td>20.513366</td>\n",
              "      <td>8.311562</td>\n",
              "      <td>16.520468</td>\n",
              "      <td>2.126326</td>\n",
              "      <td>3.669914</td>\n",
              "    </tr>\n",
              "    <tr>\n",
              "      <th>50%</th>\n",
              "      <td>-73.982327</td>\n",
              "      <td>40.753052</td>\n",
              "      <td>-73.980015</td>\n",
              "      <td>40.754065</td>\n",
              "      <td>1.000000</td>\n",
              "      <td>2012.000000</td>\n",
              "      <td>7.000000</td>\n",
              "      <td>16.000000</td>\n",
              "      <td>3.000000</td>\n",
              "      <td>15.000000</td>\n",
              "      <td>2.215669</td>\n",
              "      <td>21.181394</td>\n",
              "      <td>9.477792</td>\n",
              "      <td>18.024364</td>\n",
              "      <td>3.698360</td>\n",
              "      <td>5.541418</td>\n",
              "    </tr>\n",
              "    <tr>\n",
              "      <th>75%</th>\n",
              "      <td>-73.968012</td>\n",
              "      <td>40.767113</td>\n",
              "      <td>-73.964062</td>\n",
              "      <td>40.768757</td>\n",
              "      <td>2.000000</td>\n",
              "      <td>2014.000000</td>\n",
              "      <td>10.000000</td>\n",
              "      <td>25.000000</td>\n",
              "      <td>5.000000</td>\n",
              "      <td>19.000000</td>\n",
              "      <td>4.042928</td>\n",
              "      <td>21.909781</td>\n",
              "      <td>10.965471</td>\n",
              "      <td>19.880521</td>\n",
              "      <td>5.922760</td>\n",
              "      <td>7.757408</td>\n",
              "    </tr>\n",
              "    <tr>\n",
              "      <th>max</th>\n",
              "      <td>-72.986534</td>\n",
              "      <td>41.709557</td>\n",
              "      <td>-72.990967</td>\n",
              "      <td>41.696683</td>\n",
              "      <td>6.000000</td>\n",
              "      <td>2015.000000</td>\n",
              "      <td>12.000000</td>\n",
              "      <td>31.000000</td>\n",
              "      <td>6.000000</td>\n",
              "      <td>23.000000</td>\n",
              "      <td>99.933359</td>\n",
              "      <td>134.497657</td>\n",
              "      <td>126.062486</td>\n",
              "      <td>149.400789</td>\n",
              "      <td>130.347048</td>\n",
              "      <td>138.619454</td>\n",
              "    </tr>\n",
              "  </tbody>\n",
              "</table>\n",
              "</div>\n",
              "      <button class=\"colab-df-convert\" onclick=\"convertToInteractive('df-fd8e5ae2-0387-4b75-b5ee-78e113d25696')\"\n",
              "              title=\"Convert this dataframe to an interactive table.\"\n",
              "              style=\"display:none;\">\n",
              "        \n",
              "  <svg xmlns=\"http://www.w3.org/2000/svg\" height=\"24px\"viewBox=\"0 0 24 24\"\n",
              "       width=\"24px\">\n",
              "    <path d=\"M0 0h24v24H0V0z\" fill=\"none\"/>\n",
              "    <path d=\"M18.56 5.44l.94 2.06.94-2.06 2.06-.94-2.06-.94-.94-2.06-.94 2.06-2.06.94zm-11 1L8.5 8.5l.94-2.06 2.06-.94-2.06-.94L8.5 2.5l-.94 2.06-2.06.94zm10 10l.94 2.06.94-2.06 2.06-.94-2.06-.94-.94-2.06-.94 2.06-2.06.94z\"/><path d=\"M17.41 7.96l-1.37-1.37c-.4-.4-.92-.59-1.43-.59-.52 0-1.04.2-1.43.59L10.3 9.45l-7.72 7.72c-.78.78-.78 2.05 0 2.83L4 21.41c.39.39.9.59 1.41.59.51 0 1.02-.2 1.41-.59l7.78-7.78 2.81-2.81c.8-.78.8-2.07 0-2.86zM5.41 20L4 18.59l7.72-7.72 1.47 1.35L5.41 20z\"/>\n",
              "  </svg>\n",
              "      </button>\n",
              "      \n",
              "  <style>\n",
              "    .colab-df-container {\n",
              "      display:flex;\n",
              "      flex-wrap:wrap;\n",
              "      gap: 12px;\n",
              "    }\n",
              "\n",
              "    .colab-df-convert {\n",
              "      background-color: #E8F0FE;\n",
              "      border: none;\n",
              "      border-radius: 50%;\n",
              "      cursor: pointer;\n",
              "      display: none;\n",
              "      fill: #1967D2;\n",
              "      height: 32px;\n",
              "      padding: 0 0 0 0;\n",
              "      width: 32px;\n",
              "    }\n",
              "\n",
              "    .colab-df-convert:hover {\n",
              "      background-color: #E2EBFA;\n",
              "      box-shadow: 0px 1px 2px rgba(60, 64, 67, 0.3), 0px 1px 3px 1px rgba(60, 64, 67, 0.15);\n",
              "      fill: #174EA6;\n",
              "    }\n",
              "\n",
              "    [theme=dark] .colab-df-convert {\n",
              "      background-color: #3B4455;\n",
              "      fill: #D2E3FC;\n",
              "    }\n",
              "\n",
              "    [theme=dark] .colab-df-convert:hover {\n",
              "      background-color: #434B5C;\n",
              "      box-shadow: 0px 1px 3px 1px rgba(0, 0, 0, 0.15);\n",
              "      filter: drop-shadow(0px 1px 2px rgba(0, 0, 0, 0.3));\n",
              "      fill: #FFFFFF;\n",
              "    }\n",
              "  </style>\n",
              "\n",
              "      <script>\n",
              "        const buttonEl =\n",
              "          document.querySelector('#df-fd8e5ae2-0387-4b75-b5ee-78e113d25696 button.colab-df-convert');\n",
              "        buttonEl.style.display =\n",
              "          google.colab.kernel.accessAllowed ? 'block' : 'none';\n",
              "\n",
              "        async function convertToInteractive(key) {\n",
              "          const element = document.querySelector('#df-fd8e5ae2-0387-4b75-b5ee-78e113d25696');\n",
              "          const dataTable =\n",
              "            await google.colab.kernel.invokeFunction('convertToInteractive',\n",
              "                                                     [key], {});\n",
              "          if (!dataTable) return;\n",
              "\n",
              "          const docLinkHtml = 'Like what you see? Visit the ' +\n",
              "            '<a target=\"_blank\" href=https://colab.research.google.com/notebooks/data_table.ipynb>data table notebook</a>'\n",
              "            + ' to learn more about interactive tables.';\n",
              "          element.innerHTML = '';\n",
              "          dataTable['output_type'] = 'display_data';\n",
              "          await google.colab.output.renderOutput(dataTable, element);\n",
              "          const docLink = document.createElement('div');\n",
              "          docLink.innerHTML = docLinkHtml;\n",
              "          element.appendChild(docLink);\n",
              "        }\n",
              "      </script>\n",
              "    </div>\n",
              "  </div>\n",
              "  "
            ]
          },
          "metadata": {},
          "execution_count": 81
        }
      ],
      "source": [
        "test_df.describe()"
      ]
    },
    {
      "cell_type": "markdown",
      "metadata": {
        "id": "HcAKz-r3Idn6"
      },
      "source": [
        "We'll use the following ranges:\n",
        "\n",
        "- `fare_amount`: \\$1 to \\$500\n",
        "- `longitudes`: -75 to -72\n",
        "- `latitudes`: 40 to 42\n",
        "- `passenger_count`: 1 to 6"
      ]
    },
    {
      "cell_type": "code",
      "execution_count": 82,
      "metadata": {
        "id": "WZfdnAlPIYnl"
      },
      "outputs": [],
      "source": [
        "def remove_outliers(df):\n",
        "    return df[(df['fare_amount'] >= 1.) & \n",
        "              (df['fare_amount'] <= 500.) &\n",
        "              (df['pickup_longitude'] >= -75) & \n",
        "              (df['pickup_longitude'] <= -72) & \n",
        "              (df['dropoff_longitude'] >= -75) & \n",
        "              (df['dropoff_longitude'] <= -72) & \n",
        "              (df['pickup_latitude'] >= 40) & \n",
        "              (df['pickup_latitude'] <= 42) & \n",
        "              (df['dropoff_latitude'] >=40) & \n",
        "              (df['dropoff_latitude'] <= 42) & \n",
        "              (df['passenger_count'] >= 1) & \n",
        "              (df['passenger_count'] <= 6)]"
      ]
    },
    {
      "cell_type": "code",
      "execution_count": 83,
      "metadata": {
        "id": "rUA8zx7uIl9m"
      },
      "outputs": [],
      "source": [
        "train_df = remove_outliers(train_df)"
      ]
    },
    {
      "cell_type": "code",
      "execution_count": 84,
      "metadata": {
        "id": "tCskUaYVIqb8"
      },
      "outputs": [],
      "source": [
        "val_df = remove_outliers(val_df)"
      ]
    },
    {
      "cell_type": "markdown",
      "metadata": {
        "id": "qyCbxjdiI8zJ"
      },
      "source": [
        "### Scaling and One-Hot Encoding\n",
        "\n",
        "we can try scaling numeric columns to the `(0,1)` range and encoding categorical columns using a one-hot encoder.\n",
        "\n",
        "We won't do this because we'll be training tree-based models which are generally able to do a good job even without the above."
      ]
    },
    {
      "cell_type": "markdown",
      "metadata": {
        "id": "K-LqSdVOJFsG"
      },
      "source": [
        "### Save Intermediate DataFrames\n",
        "\n",
        "Let's save the processed datasets in the Apache Parquet format, so that we can load them back easily to resume our work from this point.\n",
        "\n",
        "You may also want to create differnt notebooks for EDA, feature engineering and model training."
      ]
    },
    {
      "cell_type": "code",
      "execution_count": 85,
      "metadata": {
        "id": "w8MX_BMBJDBS"
      },
      "outputs": [],
      "source": [
        "train_df.to_parquet('train.parquet')"
      ]
    },
    {
      "cell_type": "code",
      "execution_count": 86,
      "metadata": {
        "id": "7iN2jO1TJJJp"
      },
      "outputs": [],
      "source": [
        "val_df.to_parquet('val.parquet')"
      ]
    },
    {
      "cell_type": "code",
      "execution_count": 87,
      "metadata": {
        "id": "nIaF9oezJK93"
      },
      "outputs": [],
      "source": [
        "test_df.to_parquet('test.parquet')"
      ]
    },
    {
      "cell_type": "markdown",
      "source": [
        "## Visualization"
      ],
      "metadata": {
        "id": "b2CRxiUcjppn"
      }
    },
    {
      "cell_type": "markdown",
      "metadata": {
        "id": "h_OLDi2MJR4k"
      },
      "source": [
        "## 7. Train & Evaluate Different Models\n",
        "\n",
        "We'll train each of the following & submit predictions to Kaggle:\n",
        "\n",
        "- Linear Regression\n",
        "- Random Forests\n",
        "- Gradient Boosting\n",
        "\n",
        "Exercise: Train Ridge, SVM, KNN, Decision Tree models"
      ]
    },
    {
      "cell_type": "markdown",
      "metadata": {
        "id": "LTDbih9gJckf"
      },
      "source": [
        "### Split Inputs & Targets"
      ]
    },
    {
      "cell_type": "code",
      "execution_count": 88,
      "metadata": {
        "colab": {
          "base_uri": "https://localhost:8080/"
        },
        "id": "6AzbYe0JJNVk",
        "outputId": "d16801e0-9383-4d79-b928-6b102e29fab3"
      },
      "outputs": [
        {
          "output_type": "execute_result",
          "data": {
            "text/plain": [
              "Index(['fare_amount', 'pickup_datetime', 'pickup_longitude', 'pickup_latitude',\n",
              "       'dropoff_longitude', 'dropoff_latitude', 'passenger_count',\n",
              "       'pickup_datetime_year', 'pickup_datetime_month', 'pickup_datetime_day',\n",
              "       'pickup_datetime_weekday', 'pickup_datetime_hour', 'trip_distance',\n",
              "       'jfk_drop_distance', 'lga_drop_distance', 'ewr_drop_distance',\n",
              "       'met_drop_distance', 'wtc_drop_distance'],\n",
              "      dtype='object')"
            ]
          },
          "metadata": {},
          "execution_count": 88
        }
      ],
      "source": [
        "train_df.columns"
      ]
    },
    {
      "cell_type": "code",
      "execution_count": 89,
      "metadata": {
        "id": "gwwBiE7uKNDG"
      },
      "outputs": [],
      "source": [
        "input_cols = ['pickup_longitude', 'pickup_latitude',\n",
        "       'dropoff_longitude', 'dropoff_latitude', 'passenger_count',\n",
        "       'pickup_datetime_year', 'pickup_datetime_month', 'pickup_datetime_day',\n",
        "       'pickup_datetime_weekday', 'pickup_datetime_hour', 'trip_distance',\n",
        "       'jfk_drop_distance', 'lga_drop_distance', 'ewr_drop_distance',\n",
        "       'met_drop_distance', 'wtc_drop_distance']"
      ]
    },
    {
      "cell_type": "code",
      "execution_count": 90,
      "metadata": {
        "id": "5lsLRJX4KgQ-"
      },
      "outputs": [],
      "source": [
        "target_col = 'fare_amount'"
      ]
    },
    {
      "cell_type": "code",
      "execution_count": 91,
      "metadata": {
        "id": "hXg0kkufKmeP"
      },
      "outputs": [],
      "source": [
        "train_inputs = train_df[input_cols]\n",
        "train_targets = train_df[target_col]"
      ]
    },
    {
      "cell_type": "code",
      "source": [
        "val_inputs = val_df[input_cols]\n",
        "val_targets = val_df[target_col]"
      ],
      "metadata": {
        "id": "c2hgIq22klRp"
      },
      "execution_count": 92,
      "outputs": []
    },
    {
      "cell_type": "code",
      "source": [
        "test_inputs = test_df[input_cols]"
      ],
      "metadata": {
        "id": "xq7MFntlk2yD"
      },
      "execution_count": 93,
      "outputs": []
    },
    {
      "cell_type": "markdown",
      "source": [
        "Let's define a helper function to evaluate models and generate test predictions"
      ],
      "metadata": {
        "id": "rSmuM1yXlATR"
      }
    },
    {
      "cell_type": "code",
      "source": [
        "def evaluate(model):\n",
        "  train_preds = model.predict(train_inputs)\n",
        "  val_preds = model.predict(val_inputs)\n",
        "  train_rmse = mean_squared_error(train_targets, train_preds, squared=False)\n",
        "  val_rmse = mean_squared_error(val_targets, val_preds, squared=False)\n",
        "  return train_rmse, val_rmse, train_preds, val_preds"
      ],
      "metadata": {
        "id": "vPMk2bLjk8C5"
      },
      "execution_count": 94,
      "outputs": []
    },
    {
      "cell_type": "code",
      "source": [
        "def predict_and_submit(model, fname):\n",
        "  test_preds = model.predict(test_inputs)\n",
        "  sub_df = pd.read_csv(data_dir+'/sample_submission.csv')\n",
        "  sub_df['fare_amount'] = test_preds\n",
        "  sub_df.to_csv(fname, index=None)\n",
        "  return sub_df"
      ],
      "metadata": {
        "id": "h79BBNsumXgl"
      },
      "execution_count": 95,
      "outputs": []
    },
    {
      "cell_type": "markdown",
      "source": [
        "### Ridge Regression"
      ],
      "metadata": {
        "id": "jI4ZuNALm9EU"
      }
    },
    {
      "cell_type": "code",
      "source": [
        "from sklearn.linear_model import Ridge"
      ],
      "metadata": {
        "id": "ziT1x8Uqm4uy"
      },
      "execution_count": 96,
      "outputs": []
    },
    {
      "cell_type": "code",
      "source": [
        "model_ridge = Ridge(random_state=42)"
      ],
      "metadata": {
        "id": "28wOXIBInMTE"
      },
      "execution_count": 97,
      "outputs": []
    },
    {
      "cell_type": "code",
      "source": [
        "%%time\n",
        "model_ridge.fit(train_inputs, train_targets)"
      ],
      "metadata": {
        "colab": {
          "base_uri": "https://localhost:8080/"
        },
        "id": "VJabHyXgnTGv",
        "outputId": "97a51814-28a5-44a2-edf2-69997d0ace0b"
      },
      "execution_count": 98,
      "outputs": [
        {
          "output_type": "stream",
          "name": "stdout",
          "text": [
            "CPU times: user 79.9 ms, sys: 149 ms, total: 229 ms\n",
            "Wall time: 260 ms\n"
          ]
        },
        {
          "output_type": "execute_result",
          "data": {
            "text/plain": [
              "Ridge(random_state=42)"
            ]
          },
          "metadata": {},
          "execution_count": 98
        }
      ]
    },
    {
      "cell_type": "code",
      "source": [
        "evaluate(model_ridge)"
      ],
      "metadata": {
        "colab": {
          "base_uri": "https://localhost:8080/"
        },
        "id": "vajqes6MnwPW",
        "outputId": "2b62b087-bc08-4afe-ea3a-4c36878d0dff"
      },
      "execution_count": 99,
      "outputs": [
        {
          "output_type": "execute_result",
          "data": {
            "text/plain": [
              "(5.049312855022606,\n",
              " 5.217863164084474,\n",
              " array([ 8.12926895,  4.11625204,  8.75052428, ..., 10.47189549,\n",
              "         8.23053339, 10.58672574]),\n",
              " array([10.91970437,  6.20497332, 46.21797207, ...,  8.04644756,\n",
              "        25.56873019,  8.45308844]))"
            ]
          },
          "metadata": {},
          "execution_count": 99
        }
      ]
    },
    {
      "cell_type": "markdown",
      "source": [
        "Our model was able to get to an RMSE of $5.2, much better than our baseline model."
      ],
      "metadata": {
        "id": "oCKplF3MozWN"
      }
    },
    {
      "cell_type": "code",
      "source": [
        "predict_and_submit(model_ridge, 'ridge_submission.csv')"
      ],
      "metadata": {
        "colab": {
          "base_uri": "https://localhost:8080/",
          "height": 424
        },
        "id": "iZQhdmZgn28q",
        "outputId": "7a907ec1-248a-4530-c4fb-05d2ff642eee"
      },
      "execution_count": 100,
      "outputs": [
        {
          "output_type": "execute_result",
          "data": {
            "text/plain": [
              "                              key  fare_amount\n",
              "0     2015-01-27 13:08:24.0000002    10.081831\n",
              "1     2015-01-27 13:08:24.0000003    11.399684\n",
              "2     2011-10-08 11:53:44.0000002     5.356914\n",
              "3     2012-12-01 21:12:12.0000002     8.763991\n",
              "4     2012-12-01 21:12:12.0000003    14.610180\n",
              "...                           ...          ...\n",
              "9909  2015-05-10 12:37:51.0000002     9.025113\n",
              "9910  2015-01-12 17:05:51.0000001    11.218273\n",
              "9911  2015-04-19 20:44:15.0000001    47.926257\n",
              "9912  2015-01-31 01:05:19.0000005    22.600176\n",
              "9913  2015-01-18 14:06:23.0000006     8.981613\n",
              "\n",
              "[9914 rows x 2 columns]"
            ],
            "text/html": [
              "\n",
              "  <div id=\"df-1e9dae01-3334-4c10-9e35-7609cc090472\">\n",
              "    <div class=\"colab-df-container\">\n",
              "      <div>\n",
              "<style scoped>\n",
              "    .dataframe tbody tr th:only-of-type {\n",
              "        vertical-align: middle;\n",
              "    }\n",
              "\n",
              "    .dataframe tbody tr th {\n",
              "        vertical-align: top;\n",
              "    }\n",
              "\n",
              "    .dataframe thead th {\n",
              "        text-align: right;\n",
              "    }\n",
              "</style>\n",
              "<table border=\"1\" class=\"dataframe\">\n",
              "  <thead>\n",
              "    <tr style=\"text-align: right;\">\n",
              "      <th></th>\n",
              "      <th>key</th>\n",
              "      <th>fare_amount</th>\n",
              "    </tr>\n",
              "  </thead>\n",
              "  <tbody>\n",
              "    <tr>\n",
              "      <th>0</th>\n",
              "      <td>2015-01-27 13:08:24.0000002</td>\n",
              "      <td>10.081831</td>\n",
              "    </tr>\n",
              "    <tr>\n",
              "      <th>1</th>\n",
              "      <td>2015-01-27 13:08:24.0000003</td>\n",
              "      <td>11.399684</td>\n",
              "    </tr>\n",
              "    <tr>\n",
              "      <th>2</th>\n",
              "      <td>2011-10-08 11:53:44.0000002</td>\n",
              "      <td>5.356914</td>\n",
              "    </tr>\n",
              "    <tr>\n",
              "      <th>3</th>\n",
              "      <td>2012-12-01 21:12:12.0000002</td>\n",
              "      <td>8.763991</td>\n",
              "    </tr>\n",
              "    <tr>\n",
              "      <th>4</th>\n",
              "      <td>2012-12-01 21:12:12.0000003</td>\n",
              "      <td>14.610180</td>\n",
              "    </tr>\n",
              "    <tr>\n",
              "      <th>...</th>\n",
              "      <td>...</td>\n",
              "      <td>...</td>\n",
              "    </tr>\n",
              "    <tr>\n",
              "      <th>9909</th>\n",
              "      <td>2015-05-10 12:37:51.0000002</td>\n",
              "      <td>9.025113</td>\n",
              "    </tr>\n",
              "    <tr>\n",
              "      <th>9910</th>\n",
              "      <td>2015-01-12 17:05:51.0000001</td>\n",
              "      <td>11.218273</td>\n",
              "    </tr>\n",
              "    <tr>\n",
              "      <th>9911</th>\n",
              "      <td>2015-04-19 20:44:15.0000001</td>\n",
              "      <td>47.926257</td>\n",
              "    </tr>\n",
              "    <tr>\n",
              "      <th>9912</th>\n",
              "      <td>2015-01-31 01:05:19.0000005</td>\n",
              "      <td>22.600176</td>\n",
              "    </tr>\n",
              "    <tr>\n",
              "      <th>9913</th>\n",
              "      <td>2015-01-18 14:06:23.0000006</td>\n",
              "      <td>8.981613</td>\n",
              "    </tr>\n",
              "  </tbody>\n",
              "</table>\n",
              "<p>9914 rows × 2 columns</p>\n",
              "</div>\n",
              "      <button class=\"colab-df-convert\" onclick=\"convertToInteractive('df-1e9dae01-3334-4c10-9e35-7609cc090472')\"\n",
              "              title=\"Convert this dataframe to an interactive table.\"\n",
              "              style=\"display:none;\">\n",
              "        \n",
              "  <svg xmlns=\"http://www.w3.org/2000/svg\" height=\"24px\"viewBox=\"0 0 24 24\"\n",
              "       width=\"24px\">\n",
              "    <path d=\"M0 0h24v24H0V0z\" fill=\"none\"/>\n",
              "    <path d=\"M18.56 5.44l.94 2.06.94-2.06 2.06-.94-2.06-.94-.94-2.06-.94 2.06-2.06.94zm-11 1L8.5 8.5l.94-2.06 2.06-.94-2.06-.94L8.5 2.5l-.94 2.06-2.06.94zm10 10l.94 2.06.94-2.06 2.06-.94-2.06-.94-.94-2.06-.94 2.06-2.06.94z\"/><path d=\"M17.41 7.96l-1.37-1.37c-.4-.4-.92-.59-1.43-.59-.52 0-1.04.2-1.43.59L10.3 9.45l-7.72 7.72c-.78.78-.78 2.05 0 2.83L4 21.41c.39.39.9.59 1.41.59.51 0 1.02-.2 1.41-.59l7.78-7.78 2.81-2.81c.8-.78.8-2.07 0-2.86zM5.41 20L4 18.59l7.72-7.72 1.47 1.35L5.41 20z\"/>\n",
              "  </svg>\n",
              "      </button>\n",
              "      \n",
              "  <style>\n",
              "    .colab-df-container {\n",
              "      display:flex;\n",
              "      flex-wrap:wrap;\n",
              "      gap: 12px;\n",
              "    }\n",
              "\n",
              "    .colab-df-convert {\n",
              "      background-color: #E8F0FE;\n",
              "      border: none;\n",
              "      border-radius: 50%;\n",
              "      cursor: pointer;\n",
              "      display: none;\n",
              "      fill: #1967D2;\n",
              "      height: 32px;\n",
              "      padding: 0 0 0 0;\n",
              "      width: 32px;\n",
              "    }\n",
              "\n",
              "    .colab-df-convert:hover {\n",
              "      background-color: #E2EBFA;\n",
              "      box-shadow: 0px 1px 2px rgba(60, 64, 67, 0.3), 0px 1px 3px 1px rgba(60, 64, 67, 0.15);\n",
              "      fill: #174EA6;\n",
              "    }\n",
              "\n",
              "    [theme=dark] .colab-df-convert {\n",
              "      background-color: #3B4455;\n",
              "      fill: #D2E3FC;\n",
              "    }\n",
              "\n",
              "    [theme=dark] .colab-df-convert:hover {\n",
              "      background-color: #434B5C;\n",
              "      box-shadow: 0px 1px 3px 1px rgba(0, 0, 0, 0.15);\n",
              "      filter: drop-shadow(0px 1px 2px rgba(0, 0, 0, 0.3));\n",
              "      fill: #FFFFFF;\n",
              "    }\n",
              "  </style>\n",
              "\n",
              "      <script>\n",
              "        const buttonEl =\n",
              "          document.querySelector('#df-1e9dae01-3334-4c10-9e35-7609cc090472 button.colab-df-convert');\n",
              "        buttonEl.style.display =\n",
              "          google.colab.kernel.accessAllowed ? 'block' : 'none';\n",
              "\n",
              "        async function convertToInteractive(key) {\n",
              "          const element = document.querySelector('#df-1e9dae01-3334-4c10-9e35-7609cc090472');\n",
              "          const dataTable =\n",
              "            await google.colab.kernel.invokeFunction('convertToInteractive',\n",
              "                                                     [key], {});\n",
              "          if (!dataTable) return;\n",
              "\n",
              "          const docLinkHtml = 'Like what you see? Visit the ' +\n",
              "            '<a target=\"_blank\" href=https://colab.research.google.com/notebooks/data_table.ipynb>data table notebook</a>'\n",
              "            + ' to learn more about interactive tables.';\n",
              "          element.innerHTML = '';\n",
              "          dataTable['output_type'] = 'display_data';\n",
              "          await google.colab.output.renderOutput(dataTable, element);\n",
              "          const docLink = document.createElement('div');\n",
              "          docLink.innerHTML = docLinkHtml;\n",
              "          element.appendChild(docLink);\n",
              "        }\n",
              "      </script>\n",
              "    </div>\n",
              "  </div>\n",
              "  "
            ]
          },
          "metadata": {},
          "execution_count": 100
        }
      ]
    },
    {
      "cell_type": "markdown",
      "source": [
        "### Random Forest\n",
        "\n",
        "https://scikit-learn.org/stable/modules/generated/sklearn.ensemble.RandomForestRegressor.html"
      ],
      "metadata": {
        "id": "h7wJ0jwqsRYY"
      }
    },
    {
      "cell_type": "code",
      "source": [
        "from sklearn.ensemble import RandomForestRegressor"
      ],
      "metadata": {
        "id": "p1_mGfyvpA2f"
      },
      "execution_count": 101,
      "outputs": []
    },
    {
      "cell_type": "code",
      "source": [
        "model_rf = RandomForestRegressor(max_depth=10, n_jobs=-1, random_state=42, n_estimators=50)"
      ],
      "metadata": {
        "id": "Z3_YBCEXsaRX"
      },
      "execution_count": 102,
      "outputs": []
    },
    {
      "cell_type": "code",
      "source": [
        "%%time\n",
        "model_rf.fit(train_inputs, train_targets)"
      ],
      "metadata": {
        "colab": {
          "base_uri": "https://localhost:8080/"
        },
        "id": "c9ey-0NQsuR9",
        "outputId": "f320c08c-3651-4135-c944-6ac39cba1ee3"
      },
      "execution_count": 103,
      "outputs": [
        {
          "output_type": "stream",
          "name": "stdout",
          "text": [
            "CPU times: user 6min 23s, sys: 509 ms, total: 6min 24s\n",
            "Wall time: 3min 31s\n"
          ]
        },
        {
          "output_type": "execute_result",
          "data": {
            "text/plain": [
              "RandomForestRegressor(max_depth=10, n_estimators=50, n_jobs=-1, random_state=42)"
            ]
          },
          "metadata": {},
          "execution_count": 103
        }
      ]
    },
    {
      "cell_type": "code",
      "source": [
        "evaluate(model_rf)"
      ],
      "metadata": {
        "colab": {
          "base_uri": "https://localhost:8080/"
        },
        "id": "MNaTFLAjs6jG",
        "outputId": "f7ee9c6f-ed0f-4c70-f62d-6e3773206a46"
      },
      "execution_count": 104,
      "outputs": [
        {
          "output_type": "execute_result",
          "data": {
            "text/plain": [
              "(3.5979272803236033,\n",
              " 4.162992374769893,\n",
              " array([ 7.04561969,  9.16841263,  9.10837664, ..., 10.38572951,\n",
              "         7.74169069, 10.38922928]),\n",
              " array([12.53333721,  6.14758144, 47.32745299, ...,  8.33103424,\n",
              "        29.15652571,  8.2638333 ]))"
            ]
          },
          "metadata": {},
          "execution_count": 104
        }
      ]
    },
    {
      "cell_type": "code",
      "source": [
        "predict_and_submit(model_rf, 'rf_submission.csv')"
      ],
      "metadata": {
        "colab": {
          "base_uri": "https://localhost:8080/",
          "height": 424
        },
        "id": "-yq6ZaYUuDs1",
        "outputId": "3fda1ec1-403b-4e44-e32d-b01d09e9bf05"
      },
      "execution_count": 105,
      "outputs": [
        {
          "output_type": "execute_result",
          "data": {
            "text/plain": [
              "                              key  fare_amount\n",
              "0     2015-01-27 13:08:24.0000002    10.507307\n",
              "1     2015-01-27 13:08:24.0000003    10.507307\n",
              "2     2011-10-08 11:53:44.0000002     5.052405\n",
              "3     2012-12-01 21:12:12.0000002     8.466582\n",
              "4     2012-12-01 21:12:12.0000003    14.344346\n",
              "...                           ...          ...\n",
              "9909  2015-05-10 12:37:51.0000002     8.835443\n",
              "9910  2015-01-12 17:05:51.0000001    12.520002\n",
              "9911  2015-04-19 20:44:15.0000001    55.266349\n",
              "9912  2015-01-31 01:05:19.0000005    21.551546\n",
              "9913  2015-01-18 14:06:23.0000006     6.879582\n",
              "\n",
              "[9914 rows x 2 columns]"
            ],
            "text/html": [
              "\n",
              "  <div id=\"df-8bac8444-7be5-4d8c-92af-a1b3d7518d1e\">\n",
              "    <div class=\"colab-df-container\">\n",
              "      <div>\n",
              "<style scoped>\n",
              "    .dataframe tbody tr th:only-of-type {\n",
              "        vertical-align: middle;\n",
              "    }\n",
              "\n",
              "    .dataframe tbody tr th {\n",
              "        vertical-align: top;\n",
              "    }\n",
              "\n",
              "    .dataframe thead th {\n",
              "        text-align: right;\n",
              "    }\n",
              "</style>\n",
              "<table border=\"1\" class=\"dataframe\">\n",
              "  <thead>\n",
              "    <tr style=\"text-align: right;\">\n",
              "      <th></th>\n",
              "      <th>key</th>\n",
              "      <th>fare_amount</th>\n",
              "    </tr>\n",
              "  </thead>\n",
              "  <tbody>\n",
              "    <tr>\n",
              "      <th>0</th>\n",
              "      <td>2015-01-27 13:08:24.0000002</td>\n",
              "      <td>10.507307</td>\n",
              "    </tr>\n",
              "    <tr>\n",
              "      <th>1</th>\n",
              "      <td>2015-01-27 13:08:24.0000003</td>\n",
              "      <td>10.507307</td>\n",
              "    </tr>\n",
              "    <tr>\n",
              "      <th>2</th>\n",
              "      <td>2011-10-08 11:53:44.0000002</td>\n",
              "      <td>5.052405</td>\n",
              "    </tr>\n",
              "    <tr>\n",
              "      <th>3</th>\n",
              "      <td>2012-12-01 21:12:12.0000002</td>\n",
              "      <td>8.466582</td>\n",
              "    </tr>\n",
              "    <tr>\n",
              "      <th>4</th>\n",
              "      <td>2012-12-01 21:12:12.0000003</td>\n",
              "      <td>14.344346</td>\n",
              "    </tr>\n",
              "    <tr>\n",
              "      <th>...</th>\n",
              "      <td>...</td>\n",
              "      <td>...</td>\n",
              "    </tr>\n",
              "    <tr>\n",
              "      <th>9909</th>\n",
              "      <td>2015-05-10 12:37:51.0000002</td>\n",
              "      <td>8.835443</td>\n",
              "    </tr>\n",
              "    <tr>\n",
              "      <th>9910</th>\n",
              "      <td>2015-01-12 17:05:51.0000001</td>\n",
              "      <td>12.520002</td>\n",
              "    </tr>\n",
              "    <tr>\n",
              "      <th>9911</th>\n",
              "      <td>2015-04-19 20:44:15.0000001</td>\n",
              "      <td>55.266349</td>\n",
              "    </tr>\n",
              "    <tr>\n",
              "      <th>9912</th>\n",
              "      <td>2015-01-31 01:05:19.0000005</td>\n",
              "      <td>21.551546</td>\n",
              "    </tr>\n",
              "    <tr>\n",
              "      <th>9913</th>\n",
              "      <td>2015-01-18 14:06:23.0000006</td>\n",
              "      <td>6.879582</td>\n",
              "    </tr>\n",
              "  </tbody>\n",
              "</table>\n",
              "<p>9914 rows × 2 columns</p>\n",
              "</div>\n",
              "      <button class=\"colab-df-convert\" onclick=\"convertToInteractive('df-8bac8444-7be5-4d8c-92af-a1b3d7518d1e')\"\n",
              "              title=\"Convert this dataframe to an interactive table.\"\n",
              "              style=\"display:none;\">\n",
              "        \n",
              "  <svg xmlns=\"http://www.w3.org/2000/svg\" height=\"24px\"viewBox=\"0 0 24 24\"\n",
              "       width=\"24px\">\n",
              "    <path d=\"M0 0h24v24H0V0z\" fill=\"none\"/>\n",
              "    <path d=\"M18.56 5.44l.94 2.06.94-2.06 2.06-.94-2.06-.94-.94-2.06-.94 2.06-2.06.94zm-11 1L8.5 8.5l.94-2.06 2.06-.94-2.06-.94L8.5 2.5l-.94 2.06-2.06.94zm10 10l.94 2.06.94-2.06 2.06-.94-2.06-.94-.94-2.06-.94 2.06-2.06.94z\"/><path d=\"M17.41 7.96l-1.37-1.37c-.4-.4-.92-.59-1.43-.59-.52 0-1.04.2-1.43.59L10.3 9.45l-7.72 7.72c-.78.78-.78 2.05 0 2.83L4 21.41c.39.39.9.59 1.41.59.51 0 1.02-.2 1.41-.59l7.78-7.78 2.81-2.81c.8-.78.8-2.07 0-2.86zM5.41 20L4 18.59l7.72-7.72 1.47 1.35L5.41 20z\"/>\n",
              "  </svg>\n",
              "      </button>\n",
              "      \n",
              "  <style>\n",
              "    .colab-df-container {\n",
              "      display:flex;\n",
              "      flex-wrap:wrap;\n",
              "      gap: 12px;\n",
              "    }\n",
              "\n",
              "    .colab-df-convert {\n",
              "      background-color: #E8F0FE;\n",
              "      border: none;\n",
              "      border-radius: 50%;\n",
              "      cursor: pointer;\n",
              "      display: none;\n",
              "      fill: #1967D2;\n",
              "      height: 32px;\n",
              "      padding: 0 0 0 0;\n",
              "      width: 32px;\n",
              "    }\n",
              "\n",
              "    .colab-df-convert:hover {\n",
              "      background-color: #E2EBFA;\n",
              "      box-shadow: 0px 1px 2px rgba(60, 64, 67, 0.3), 0px 1px 3px 1px rgba(60, 64, 67, 0.15);\n",
              "      fill: #174EA6;\n",
              "    }\n",
              "\n",
              "    [theme=dark] .colab-df-convert {\n",
              "      background-color: #3B4455;\n",
              "      fill: #D2E3FC;\n",
              "    }\n",
              "\n",
              "    [theme=dark] .colab-df-convert:hover {\n",
              "      background-color: #434B5C;\n",
              "      box-shadow: 0px 1px 3px 1px rgba(0, 0, 0, 0.15);\n",
              "      filter: drop-shadow(0px 1px 2px rgba(0, 0, 0, 0.3));\n",
              "      fill: #FFFFFF;\n",
              "    }\n",
              "  </style>\n",
              "\n",
              "      <script>\n",
              "        const buttonEl =\n",
              "          document.querySelector('#df-8bac8444-7be5-4d8c-92af-a1b3d7518d1e button.colab-df-convert');\n",
              "        buttonEl.style.display =\n",
              "          google.colab.kernel.accessAllowed ? 'block' : 'none';\n",
              "\n",
              "        async function convertToInteractive(key) {\n",
              "          const element = document.querySelector('#df-8bac8444-7be5-4d8c-92af-a1b3d7518d1e');\n",
              "          const dataTable =\n",
              "            await google.colab.kernel.invokeFunction('convertToInteractive',\n",
              "                                                     [key], {});\n",
              "          if (!dataTable) return;\n",
              "\n",
              "          const docLinkHtml = 'Like what you see? Visit the ' +\n",
              "            '<a target=\"_blank\" href=https://colab.research.google.com/notebooks/data_table.ipynb>data table notebook</a>'\n",
              "            + ' to learn more about interactive tables.';\n",
              "          element.innerHTML = '';\n",
              "          dataTable['output_type'] = 'display_data';\n",
              "          await google.colab.output.renderOutput(dataTable, element);\n",
              "          const docLink = document.createElement('div');\n",
              "          docLink.innerHTML = docLinkHtml;\n",
              "          element.appendChild(docLink);\n",
              "        }\n",
              "      </script>\n",
              "    </div>\n",
              "  </div>\n",
              "  "
            ]
          },
          "metadata": {},
          "execution_count": 105
        }
      ]
    },
    {
      "cell_type": "markdown",
      "source": [
        "### Gradient Boosting\n",
        "\n",
        "https://xgboost.readthedocs.io/en/latest/python/python_api.html#module-xgboost.sklearn"
      ],
      "metadata": {
        "id": "zHLYHGwWyc-n"
      }
    },
    {
      "cell_type": "code",
      "source": [
        "from xgboost import XGBRegressor"
      ],
      "metadata": {
        "id": "kZNSmRn-uYct"
      },
      "execution_count": 106,
      "outputs": []
    },
    {
      "cell_type": "code",
      "source": [
        "model_xgb = XGBRegressor(random_state=42, n_jobs=-1, objective='reg:squarederror')"
      ],
      "metadata": {
        "id": "9v0yFBC3ykAI"
      },
      "execution_count": 107,
      "outputs": []
    },
    {
      "cell_type": "code",
      "source": [
        "%%time\n",
        "model_xgb.fit(train_inputs, train_targets)"
      ],
      "metadata": {
        "colab": {
          "base_uri": "https://localhost:8080/"
        },
        "id": "FXfiq_agyxMz",
        "outputId": "cfaf236d-8a71-47bb-93b5-0bd04da0d08e"
      },
      "execution_count": 108,
      "outputs": [
        {
          "output_type": "stream",
          "name": "stdout",
          "text": [
            "CPU times: user 1min 22s, sys: 382 ms, total: 1min 23s\n",
            "Wall time: 44.8 s\n"
          ]
        },
        {
          "output_type": "execute_result",
          "data": {
            "text/plain": [
              "XGBRegressor(n_jobs=-1, objective='reg:squarederror', random_state=42)"
            ]
          },
          "metadata": {},
          "execution_count": 108
        }
      ]
    },
    {
      "cell_type": "code",
      "source": [
        "evaluate(model_xgb)"
      ],
      "metadata": {
        "colab": {
          "base_uri": "https://localhost:8080/"
        },
        "id": "RtM6zSUxy68o",
        "outputId": "64818c42-e148-481f-fc31-c1da9a6e5810"
      },
      "execution_count": 109,
      "outputs": [
        {
          "output_type": "execute_result",
          "data": {
            "text/plain": [
              "(3.8774352,\n",
              " 4.2218766,\n",
              " array([ 6.784992,  9.058507,  9.647085, ..., 10.247599,  8.154806,\n",
              "        10.189582], dtype=float32),\n",
              " array([12.4341135,  6.3510747, 47.74244  , ...,  8.108994 , 29.701588 ,\n",
              "         8.555185 ], dtype=float32))"
            ]
          },
          "metadata": {},
          "execution_count": 109
        }
      ]
    },
    {
      "cell_type": "code",
      "source": [
        "predict_and_submit(model_xgb, 'xgb_submission.csv')"
      ],
      "metadata": {
        "colab": {
          "base_uri": "https://localhost:8080/",
          "height": 424
        },
        "id": "yz72wMxWzTSs",
        "outputId": "2c824b5f-af57-4c5f-98a5-1c2dc294c752"
      },
      "execution_count": 110,
      "outputs": [
        {
          "output_type": "execute_result",
          "data": {
            "text/plain": [
              "                              key  fare_amount\n",
              "0     2015-01-27 13:08:24.0000002    10.225533\n",
              "1     2015-01-27 13:08:24.0000003    10.585101\n",
              "2     2011-10-08 11:53:44.0000002     5.101508\n",
              "3     2012-12-01 21:12:12.0000002     8.199712\n",
              "4     2012-12-01 21:12:12.0000003    14.573353\n",
              "...                           ...          ...\n",
              "9909  2015-05-10 12:37:51.0000002     8.872132\n",
              "9910  2015-01-12 17:05:51.0000001    11.904471\n",
              "9911  2015-04-19 20:44:15.0000001    52.787849\n",
              "9912  2015-01-31 01:05:19.0000005    21.513882\n",
              "9913  2015-01-18 14:06:23.0000006     6.688341\n",
              "\n",
              "[9914 rows x 2 columns]"
            ],
            "text/html": [
              "\n",
              "  <div id=\"df-4ce90260-c726-42fc-89f4-db25621e5aba\">\n",
              "    <div class=\"colab-df-container\">\n",
              "      <div>\n",
              "<style scoped>\n",
              "    .dataframe tbody tr th:only-of-type {\n",
              "        vertical-align: middle;\n",
              "    }\n",
              "\n",
              "    .dataframe tbody tr th {\n",
              "        vertical-align: top;\n",
              "    }\n",
              "\n",
              "    .dataframe thead th {\n",
              "        text-align: right;\n",
              "    }\n",
              "</style>\n",
              "<table border=\"1\" class=\"dataframe\">\n",
              "  <thead>\n",
              "    <tr style=\"text-align: right;\">\n",
              "      <th></th>\n",
              "      <th>key</th>\n",
              "      <th>fare_amount</th>\n",
              "    </tr>\n",
              "  </thead>\n",
              "  <tbody>\n",
              "    <tr>\n",
              "      <th>0</th>\n",
              "      <td>2015-01-27 13:08:24.0000002</td>\n",
              "      <td>10.225533</td>\n",
              "    </tr>\n",
              "    <tr>\n",
              "      <th>1</th>\n",
              "      <td>2015-01-27 13:08:24.0000003</td>\n",
              "      <td>10.585101</td>\n",
              "    </tr>\n",
              "    <tr>\n",
              "      <th>2</th>\n",
              "      <td>2011-10-08 11:53:44.0000002</td>\n",
              "      <td>5.101508</td>\n",
              "    </tr>\n",
              "    <tr>\n",
              "      <th>3</th>\n",
              "      <td>2012-12-01 21:12:12.0000002</td>\n",
              "      <td>8.199712</td>\n",
              "    </tr>\n",
              "    <tr>\n",
              "      <th>4</th>\n",
              "      <td>2012-12-01 21:12:12.0000003</td>\n",
              "      <td>14.573353</td>\n",
              "    </tr>\n",
              "    <tr>\n",
              "      <th>...</th>\n",
              "      <td>...</td>\n",
              "      <td>...</td>\n",
              "    </tr>\n",
              "    <tr>\n",
              "      <th>9909</th>\n",
              "      <td>2015-05-10 12:37:51.0000002</td>\n",
              "      <td>8.872132</td>\n",
              "    </tr>\n",
              "    <tr>\n",
              "      <th>9910</th>\n",
              "      <td>2015-01-12 17:05:51.0000001</td>\n",
              "      <td>11.904471</td>\n",
              "    </tr>\n",
              "    <tr>\n",
              "      <th>9911</th>\n",
              "      <td>2015-04-19 20:44:15.0000001</td>\n",
              "      <td>52.787849</td>\n",
              "    </tr>\n",
              "    <tr>\n",
              "      <th>9912</th>\n",
              "      <td>2015-01-31 01:05:19.0000005</td>\n",
              "      <td>21.513882</td>\n",
              "    </tr>\n",
              "    <tr>\n",
              "      <th>9913</th>\n",
              "      <td>2015-01-18 14:06:23.0000006</td>\n",
              "      <td>6.688341</td>\n",
              "    </tr>\n",
              "  </tbody>\n",
              "</table>\n",
              "<p>9914 rows × 2 columns</p>\n",
              "</div>\n",
              "      <button class=\"colab-df-convert\" onclick=\"convertToInteractive('df-4ce90260-c726-42fc-89f4-db25621e5aba')\"\n",
              "              title=\"Convert this dataframe to an interactive table.\"\n",
              "              style=\"display:none;\">\n",
              "        \n",
              "  <svg xmlns=\"http://www.w3.org/2000/svg\" height=\"24px\"viewBox=\"0 0 24 24\"\n",
              "       width=\"24px\">\n",
              "    <path d=\"M0 0h24v24H0V0z\" fill=\"none\"/>\n",
              "    <path d=\"M18.56 5.44l.94 2.06.94-2.06 2.06-.94-2.06-.94-.94-2.06-.94 2.06-2.06.94zm-11 1L8.5 8.5l.94-2.06 2.06-.94-2.06-.94L8.5 2.5l-.94 2.06-2.06.94zm10 10l.94 2.06.94-2.06 2.06-.94-2.06-.94-.94-2.06-.94 2.06-2.06.94z\"/><path d=\"M17.41 7.96l-1.37-1.37c-.4-.4-.92-.59-1.43-.59-.52 0-1.04.2-1.43.59L10.3 9.45l-7.72 7.72c-.78.78-.78 2.05 0 2.83L4 21.41c.39.39.9.59 1.41.59.51 0 1.02-.2 1.41-.59l7.78-7.78 2.81-2.81c.8-.78.8-2.07 0-2.86zM5.41 20L4 18.59l7.72-7.72 1.47 1.35L5.41 20z\"/>\n",
              "  </svg>\n",
              "      </button>\n",
              "      \n",
              "  <style>\n",
              "    .colab-df-container {\n",
              "      display:flex;\n",
              "      flex-wrap:wrap;\n",
              "      gap: 12px;\n",
              "    }\n",
              "\n",
              "    .colab-df-convert {\n",
              "      background-color: #E8F0FE;\n",
              "      border: none;\n",
              "      border-radius: 50%;\n",
              "      cursor: pointer;\n",
              "      display: none;\n",
              "      fill: #1967D2;\n",
              "      height: 32px;\n",
              "      padding: 0 0 0 0;\n",
              "      width: 32px;\n",
              "    }\n",
              "\n",
              "    .colab-df-convert:hover {\n",
              "      background-color: #E2EBFA;\n",
              "      box-shadow: 0px 1px 2px rgba(60, 64, 67, 0.3), 0px 1px 3px 1px rgba(60, 64, 67, 0.15);\n",
              "      fill: #174EA6;\n",
              "    }\n",
              "\n",
              "    [theme=dark] .colab-df-convert {\n",
              "      background-color: #3B4455;\n",
              "      fill: #D2E3FC;\n",
              "    }\n",
              "\n",
              "    [theme=dark] .colab-df-convert:hover {\n",
              "      background-color: #434B5C;\n",
              "      box-shadow: 0px 1px 3px 1px rgba(0, 0, 0, 0.15);\n",
              "      filter: drop-shadow(0px 1px 2px rgba(0, 0, 0, 0.3));\n",
              "      fill: #FFFFFF;\n",
              "    }\n",
              "  </style>\n",
              "\n",
              "      <script>\n",
              "        const buttonEl =\n",
              "          document.querySelector('#df-4ce90260-c726-42fc-89f4-db25621e5aba button.colab-df-convert');\n",
              "        buttonEl.style.display =\n",
              "          google.colab.kernel.accessAllowed ? 'block' : 'none';\n",
              "\n",
              "        async function convertToInteractive(key) {\n",
              "          const element = document.querySelector('#df-4ce90260-c726-42fc-89f4-db25621e5aba');\n",
              "          const dataTable =\n",
              "            await google.colab.kernel.invokeFunction('convertToInteractive',\n",
              "                                                     [key], {});\n",
              "          if (!dataTable) return;\n",
              "\n",
              "          const docLinkHtml = 'Like what you see? Visit the ' +\n",
              "            '<a target=\"_blank\" href=https://colab.research.google.com/notebooks/data_table.ipynb>data table notebook</a>'\n",
              "            + ' to learn more about interactive tables.';\n",
              "          element.innerHTML = '';\n",
              "          dataTable['output_type'] = 'display_data';\n",
              "          await google.colab.output.renderOutput(dataTable, element);\n",
              "          const docLink = document.createElement('div');\n",
              "          docLink.innerHTML = docLinkHtml;\n",
              "          element.appendChild(docLink);\n",
              "        }\n",
              "      </script>\n",
              "    </div>\n",
              "  </div>\n",
              "  "
            ]
          },
          "metadata": {},
          "execution_count": 110
        }
      ]
    },
    {
      "cell_type": "markdown",
      "source": [
        "## 8. Tune Hyperparmeters\n",
        "\n",
        "https://towardsdatascience.com/mastering-xgboost-2eb6bce6bc76\n",
        "\n",
        "\n",
        "We'll train parameters for the XGBoost model. Here’s a strategy for tuning hyperparameters:\n",
        "\n",
        "- Tune the most important/impactful hyperparameter first e.g. n_estimators\n",
        "\n",
        "- With the best value of the first hyperparameter, tune the next most impactful hyperparameter\n",
        "\n",
        "- And so on, keep training the next most impactful parameters with the best values for previous parameters...\n",
        "\n",
        "- Then, go back to the top and further tune each parameter again for further marginal gains\n",
        "\n",
        "- Hyperparameter tuning is more art than science, unfortunately. Try to get a feel for how the parameters interact with each other based on your understanding of the parameter…\n",
        "\n",
        "Let's define a helper function for trying different hyperparameters."
      ],
      "metadata": {
        "id": "QFTGM70o0ouo"
      }
    },
    {
      "cell_type": "code",
      "source": [
        "import matplotlib.pyplot as plt\n",
        "\n",
        "def test_params(ModelClass, **params):\n",
        "    \"\"\"Trains a model with the given parameters and returns training & validation RMSE\"\"\"\n",
        "    model = ModelClass(**params).fit(train_inputs, train_targets)\n",
        "    train_rmse = mean_squared_error(model.predict(train_inputs), train_targets, squared=False)\n",
        "    val_rmse = mean_squared_error(model.predict(val_inputs), val_targets, squared=False)\n",
        "    return train_rmse, val_rmse\n",
        "\n",
        "def test_param_and_plot(ModelClass, param_name, param_values, **other_params):\n",
        "    \"\"\"Trains multiple models by varying the value of param_name according to param_values\"\"\"\n",
        "    train_errors, val_errors = [], [] \n",
        "    for value in param_values:\n",
        "        params = dict(other_params)\n",
        "        params[param_name] = value\n",
        "        train_rmse, val_rmse = test_params(ModelClass, **params)\n",
        "        train_errors.append(train_rmse)\n",
        "        val_errors.append(val_rmse)\n",
        "    \n",
        "    plt.figure(figsize=(10,6))\n",
        "    plt.title('Overfitting curve: ' + param_name)\n",
        "    plt.plot(param_values, train_errors, 'b-o')\n",
        "    plt.plot(param_values, val_errors, 'r-o')\n",
        "    plt.xlabel(param_name)\n",
        "    plt.ylabel('RMSE')\n",
        "    plt.legend(['Training', 'Validation'])"
      ],
      "metadata": {
        "id": "VcjA_gkpzeg_"
      },
      "execution_count": 111,
      "outputs": []
    },
    {
      "cell_type": "code",
      "source": [
        "best_params = {\n",
        "    'random_state': 42,\n",
        "    'n_jobs': -1,\n",
        "    'objective': 'reg:squarederror'\n",
        "}"
      ],
      "metadata": {
        "id": "heoQ5qIk1LvC"
      },
      "execution_count": 112,
      "outputs": []
    },
    {
      "cell_type": "markdown",
      "source": [
        "### No. of Trees"
      ],
      "metadata": {
        "id": "6jks5HlZ1VSq"
      }
    },
    {
      "cell_type": "code",
      "source": [
        "%%time \n",
        "test_param_and_plot(XGBRegressor, 'n_estimators', [100, 250, 500], **best_params)"
      ],
      "metadata": {
        "colab": {
          "base_uri": "https://localhost:8080/",
          "height": 440
        },
        "id": "Z8k31O1b1Ruz",
        "outputId": "5b99422a-8ae4-4d8d-89a0-a737decd494e"
      },
      "execution_count": 113,
      "outputs": [
        {
          "output_type": "stream",
          "name": "stdout",
          "text": [
            "CPU times: user 11min 46s, sys: 1.43 s, total: 11min 47s\n",
            "Wall time: 6min 26s\n"
          ]
        },
        {
          "output_type": "display_data",
          "data": {
            "text/plain": [
              "<Figure size 720x432 with 1 Axes>"
            ],
            "image/png": "[encoded data removed]"
          },
          "metadata": {
            "needs_background": "light"
          }
        }
      ]
    },
    {
      "cell_type": "markdown",
      "source": [
        "Seems like 500 estimators has the lowest validation loss. However, it also takes a long time. Let's stick with 250 for now."
      ],
      "metadata": {
        "id": "PtLr635c3FNy"
      }
    },
    {
      "cell_type": "code",
      "source": [
        "best_params['n_estimators'] = 500"
      ],
      "metadata": {
        "id": "v3rrPhyx1egS"
      },
      "execution_count": null,
      "outputs": []
    },
    {
      "cell_type": "markdown",
      "source": [
        "### Max Depth"
      ],
      "metadata": {
        "id": "OYHNED4O3TIk"
      }
    },
    {
      "cell_type": "code",
      "source": [
        "%%time \n",
        "test_param_and_plot(XGBRegressor, 'max_depth', [3, 4, 5], **best_params)"
      ],
      "metadata": {
        "id": "xsALzGV_3Mfa",
        "colab": {
          "base_uri": "https://localhost:8080/",
          "height": 440
        },
        "outputId": "ad4a6fb2-9c64-4dba-e1f7-ea9c6f54ca6a"
      },
      "execution_count": 114,
      "outputs": [
        {
          "output_type": "stream",
          "name": "stdout",
          "text": [
            "CPU times: user 5min 47s, sys: 497 ms, total: 5min 47s\n",
            "Wall time: 3min 13s\n"
          ]
        },
        {
          "output_type": "display_data",
          "data": {
            "text/plain": [
              "<Figure size 720x432 with 1 Axes>"
            ],
            "image/png": "[encoded data removed]"
          },
          "metadata": {
            "needs_background": "light"
          }
        }
      ]
    },
    {
      "cell_type": "markdown",
      "source": [
        "Looks like a max depth of 5 is ideal."
      ],
      "metadata": {
        "id": "B8s_yGHq7Hvb"
      }
    },
    {
      "cell_type": "code",
      "source": [
        "best_params['max_depth'] = 5"
      ],
      "metadata": {
        "id": "1YHEsjbe7LV_"
      },
      "execution_count": 114,
      "outputs": []
    },
    {
      "cell_type": "markdown",
      "source": [
        "### Learning Rate"
      ],
      "metadata": {
        "id": "r3_tEfDn7RPN"
      }
    },
    {
      "cell_type": "code",
      "source": [
        "%%time\n",
        "test_param_and_plot(XGBRegressor, 'learning_rate', [0.05, 0.1, 0.25], **best_params)"
      ],
      "metadata": {
        "id": "TDqFqFdr7NVG",
        "colab": {
          "base_uri": "https://localhost:8080/",
          "height": 440
        },
        "outputId": "ca81a2da-cada-4468-b1b1-01052da0ccb8"
      },
      "execution_count": 115,
      "outputs": [
        {
          "output_type": "stream",
          "name": "stdout",
          "text": [
            "CPU times: user 4min 24s, sys: 861 ms, total: 4min 25s\n",
            "Wall time: 2min 26s\n"
          ]
        },
        {
          "output_type": "display_data",
          "data": {
            "text/plain": [
              "<Figure size 720x432 with 1 Axes>"
            ],
            "image/png": "[encoded data removed]"
          },
          "metadata": {
            "needs_background": "light"
          }
        }
      ]
    },
    {
      "cell_type": "markdown",
      "source": [
        "Seems like the best learning rate is 0.25."
      ],
      "metadata": {
        "id": "QrdRJUOn_46_"
      }
    },
    {
      "cell_type": "code",
      "source": [
        "best_params['learning_rate'] = 0.25"
      ],
      "metadata": {
        "id": "izynPJ9O7T5g"
      },
      "execution_count": 116,
      "outputs": []
    },
    {
      "cell_type": "markdown",
      "source": [
        "### Other Parameters"
      ],
      "metadata": {
        "id": "Fj_CG8_LAAGg"
      }
    },
    {
      "cell_type": "markdown",
      "source": [
        "Similarly we can experiment with other parameters. \n",
        "\n",
        "Here's a set of parameters that works well:"
      ],
      "metadata": {
        "id": "E55M5SknAEcf"
      }
    },
    {
      "cell_type": "code",
      "source": [
        "xgb_model_final = XGBRegressor(objective='reg:squarederror', n_jobs=-1, random_state=42,\n",
        "                               n_estimators=500, max_depth=5, learning_rate=0.1, \n",
        "                               subsample=0.8, colsample_bytree=0.8)"
      ],
      "metadata": {
        "id": "Ge0jgnc9_8tY"
      },
      "execution_count": 117,
      "outputs": []
    },
    {
      "cell_type": "code",
      "source": [
        "%%time\n",
        "xgb_model_final.fit(train_inputs, train_targets)"
      ],
      "metadata": {
        "id": "9cvDdtJnAPBE",
        "colab": {
          "base_uri": "https://localhost:8080/"
        },
        "outputId": "144a6f13-3114-4e6b-dd87-842415f98fc7"
      },
      "execution_count": 118,
      "outputs": [
        {
          "output_type": "stream",
          "name": "stdout",
          "text": [
            "CPU times: user 9min 38s, sys: 833 ms, total: 9min 39s\n",
            "Wall time: 5min 28s\n"
          ]
        },
        {
          "output_type": "execute_result",
          "data": {
            "text/plain": [
              "XGBRegressor(colsample_bytree=0.8, max_depth=5, n_estimators=500, n_jobs=-1,\n",
              "             objective='reg:squarederror', random_state=42, subsample=0.8)"
            ]
          },
          "metadata": {},
          "execution_count": 118
        }
      ]
    },
    {
      "cell_type": "code",
      "source": [
        "evaluate(xgb_model_final)"
      ],
      "metadata": {
        "id": "VsjIBSVoBltm",
        "colab": {
          "base_uri": "https://localhost:8080/"
        },
        "outputId": "ff87db4f-9ecf-4af3-ce93-97bd7bd4a3ca"
      },
      "execution_count": 119,
      "outputs": [
        {
          "output_type": "execute_result",
          "data": {
            "text/plain": [
              "(3.118825,\n",
              " 3.954396,\n",
              " array([ 6.4276614,  7.209228 ,  9.865984 , ..., 11.560493 ,  8.992187 ,\n",
              "        10.366259 ], dtype=float32),\n",
              " array([13.86465  ,  6.1836457, 48.45816  , ...,  7.662596 , 29.803427 ,\n",
              "         8.79762  ], dtype=float32))"
            ]
          },
          "metadata": {},
          "execution_count": 119
        }
      ]
    },
    {
      "cell_type": "code",
      "source": [
        "predict_and_submit(xgb_model_final, 'xgb_tuned_submission.csv')"
      ],
      "metadata": {
        "id": "9uY-B-uZDmKx",
        "colab": {
          "base_uri": "https://localhost:8080/",
          "height": 424
        },
        "outputId": "29832e8a-7b7d-4a90-eddd-2205852bcdf6"
      },
      "execution_count": 120,
      "outputs": [
        {
          "output_type": "execute_result",
          "data": {
            "text/plain": [
              "                              key  fare_amount\n",
              "0     2015-01-27 13:08:24.0000002    10.884842\n",
              "1     2015-01-27 13:08:24.0000003    11.047496\n",
              "2     2011-10-08 11:53:44.0000002     4.927392\n",
              "3     2012-12-01 21:12:12.0000002     8.795518\n",
              "4     2012-12-01 21:12:12.0000003    15.437280\n",
              "...                           ...          ...\n",
              "9909  2015-05-10 12:37:51.0000002     8.884449\n",
              "9910  2015-01-12 17:05:51.0000001    12.065751\n",
              "9911  2015-04-19 20:44:15.0000001    52.724403\n",
              "9912  2015-01-31 01:05:19.0000005    19.489918\n",
              "9913  2015-01-18 14:06:23.0000006     6.499807\n",
              "\n",
              "[9914 rows x 2 columns]"
            ],
            "text/html": [
              "\n",
              "  <div id=\"df-8910de2c-5eff-4997-a68e-e8e8be19dd63\">\n",
              "    <div class=\"colab-df-container\">\n",
              "      <div>\n",
              "<style scoped>\n",
              "    .dataframe tbody tr th:only-of-type {\n",
              "        vertical-align: middle;\n",
              "    }\n",
              "\n",
              "    .dataframe tbody tr th {\n",
              "        vertical-align: top;\n",
              "    }\n",
              "\n",
              "    .dataframe thead th {\n",
              "        text-align: right;\n",
              "    }\n",
              "</style>\n",
              "<table border=\"1\" class=\"dataframe\">\n",
              "  <thead>\n",
              "    <tr style=\"text-align: right;\">\n",
              "      <th></th>\n",
              "      <th>key</th>\n",
              "      <th>fare_amount</th>\n",
              "    </tr>\n",
              "  </thead>\n",
              "  <tbody>\n",
              "    <tr>\n",
              "      <th>0</th>\n",
              "      <td>2015-01-27 13:08:24.0000002</td>\n",
              "      <td>10.884842</td>\n",
              "    </tr>\n",
              "    <tr>\n",
              "      <th>1</th>\n",
              "      <td>2015-01-27 13:08:24.0000003</td>\n",
              "      <td>11.047496</td>\n",
              "    </tr>\n",
              "    <tr>\n",
              "      <th>2</th>\n",
              "      <td>2011-10-08 11:53:44.0000002</td>\n",
              "      <td>4.927392</td>\n",
              "    </tr>\n",
              "    <tr>\n",
              "      <th>3</th>\n",
              "      <td>2012-12-01 21:12:12.0000002</td>\n",
              "      <td>8.795518</td>\n",
              "    </tr>\n",
              "    <tr>\n",
              "      <th>4</th>\n",
              "      <td>2012-12-01 21:12:12.0000003</td>\n",
              "      <td>15.437280</td>\n",
              "    </tr>\n",
              "    <tr>\n",
              "      <th>...</th>\n",
              "      <td>...</td>\n",
              "      <td>...</td>\n",
              "    </tr>\n",
              "    <tr>\n",
              "      <th>9909</th>\n",
              "      <td>2015-05-10 12:37:51.0000002</td>\n",
              "      <td>8.884449</td>\n",
              "    </tr>\n",
              "    <tr>\n",
              "      <th>9910</th>\n",
              "      <td>2015-01-12 17:05:51.0000001</td>\n",
              "      <td>12.065751</td>\n",
              "    </tr>\n",
              "    <tr>\n",
              "      <th>9911</th>\n",
              "      <td>2015-04-19 20:44:15.0000001</td>\n",
              "      <td>52.724403</td>\n",
              "    </tr>\n",
              "    <tr>\n",
              "      <th>9912</th>\n",
              "      <td>2015-01-31 01:05:19.0000005</td>\n",
              "      <td>19.489918</td>\n",
              "    </tr>\n",
              "    <tr>\n",
              "      <th>9913</th>\n",
              "      <td>2015-01-18 14:06:23.0000006</td>\n",
              "      <td>6.499807</td>\n",
              "    </tr>\n",
              "  </tbody>\n",
              "</table>\n",
              "<p>9914 rows × 2 columns</p>\n",
              "</div>\n",
              "      <button class=\"colab-df-convert\" onclick=\"convertToInteractive('df-8910de2c-5eff-4997-a68e-e8e8be19dd63')\"\n",
              "              title=\"Convert this dataframe to an interactive table.\"\n",
              "              style=\"display:none;\">\n",
              "        \n",
              "  <svg xmlns=\"http://www.w3.org/2000/svg\" height=\"24px\"viewBox=\"0 0 24 24\"\n",
              "       width=\"24px\">\n",
              "    <path d=\"M0 0h24v24H0V0z\" fill=\"none\"/>\n",
              "    <path d=\"M18.56 5.44l.94 2.06.94-2.06 2.06-.94-2.06-.94-.94-2.06-.94 2.06-2.06.94zm-11 1L8.5 8.5l.94-2.06 2.06-.94-2.06-.94L8.5 2.5l-.94 2.06-2.06.94zm10 10l.94 2.06.94-2.06 2.06-.94-2.06-.94-.94-2.06-.94 2.06-2.06.94z\"/><path d=\"M17.41 7.96l-1.37-1.37c-.4-.4-.92-.59-1.43-.59-.52 0-1.04.2-1.43.59L10.3 9.45l-7.72 7.72c-.78.78-.78 2.05 0 2.83L4 21.41c.39.39.9.59 1.41.59.51 0 1.02-.2 1.41-.59l7.78-7.78 2.81-2.81c.8-.78.8-2.07 0-2.86zM5.41 20L4 18.59l7.72-7.72 1.47 1.35L5.41 20z\"/>\n",
              "  </svg>\n",
              "      </button>\n",
              "      \n",
              "  <style>\n",
              "    .colab-df-container {\n",
              "      display:flex;\n",
              "      flex-wrap:wrap;\n",
              "      gap: 12px;\n",
              "    }\n",
              "\n",
              "    .colab-df-convert {\n",
              "      background-color: #E8F0FE;\n",
              "      border: none;\n",
              "      border-radius: 50%;\n",
              "      cursor: pointer;\n",
              "      display: none;\n",
              "      fill: #1967D2;\n",
              "      height: 32px;\n",
              "      padding: 0 0 0 0;\n",
              "      width: 32px;\n",
              "    }\n",
              "\n",
              "    .colab-df-convert:hover {\n",
              "      background-color: #E2EBFA;\n",
              "      box-shadow: 0px 1px 2px rgba(60, 64, 67, 0.3), 0px 1px 3px 1px rgba(60, 64, 67, 0.15);\n",
              "      fill: #174EA6;\n",
              "    }\n",
              "\n",
              "    [theme=dark] .colab-df-convert {\n",
              "      background-color: #3B4455;\n",
              "      fill: #D2E3FC;\n",
              "    }\n",
              "\n",
              "    [theme=dark] .colab-df-convert:hover {\n",
              "      background-color: #434B5C;\n",
              "      box-shadow: 0px 1px 3px 1px rgba(0, 0, 0, 0.15);\n",
              "      filter: drop-shadow(0px 1px 2px rgba(0, 0, 0, 0.3));\n",
              "      fill: #FFFFFF;\n",
              "    }\n",
              "  </style>\n",
              "\n",
              "      <script>\n",
              "        const buttonEl =\n",
              "          document.querySelector('#df-8910de2c-5eff-4997-a68e-e8e8be19dd63 button.colab-df-convert');\n",
              "        buttonEl.style.display =\n",
              "          google.colab.kernel.accessAllowed ? 'block' : 'none';\n",
              "\n",
              "        async function convertToInteractive(key) {\n",
              "          const element = document.querySelector('#df-8910de2c-5eff-4997-a68e-e8e8be19dd63');\n",
              "          const dataTable =\n",
              "            await google.colab.kernel.invokeFunction('convertToInteractive',\n",
              "                                                     [key], {});\n",
              "          if (!dataTable) return;\n",
              "\n",
              "          const docLinkHtml = 'Like what you see? Visit the ' +\n",
              "            '<a target=\"_blank\" href=https://colab.research.google.com/notebooks/data_table.ipynb>data table notebook</a>'\n",
              "            + ' to learn more about interactive tables.';\n",
              "          element.innerHTML = '';\n",
              "          dataTable['output_type'] = 'display_data';\n",
              "          await google.colab.output.renderOutput(dataTable, element);\n",
              "          const docLink = document.createElement('div');\n",
              "          docLink.innerHTML = docLinkHtml;\n",
              "          element.appendChild(docLink);\n",
              "        }\n",
              "      </script>\n",
              "    </div>\n",
              "  </div>\n",
              "  "
            ]
          },
          "metadata": {},
          "execution_count": 120
        }
      ]
    },
    {
      "cell_type": "markdown",
      "source": [
        "# Insights and Results\n",
        "* Most taxi rides have 1 passenger.\n",
        "* Average fare saw a large increase between 2011 and 2013, going from \\$10.43 to \\\\$12.58.\n",
        "* Fares are highest around 5am, primarily due to long trips leaving the city.\n",
        "* People take long trips later in the day on weekends.\n",
        "* Airports and the city centre are taxi hotspots.\n",
        "* There is an area to the west of the city centre with very high fares per km travelled.\n",
        "* There is a location about 90km from the city centre from which long trips come and go with substantially lower fares than we would expect.\n",
        "* The grid most streets are laid along can be seen when examining fare vs point to point distance based on the direction of the trip."
      ],
      "metadata": {
        "id": "aoW85kMnAKaS"
      }
    },
    {
      "cell_type": "markdown",
      "source": [
        "# Results\n",
        "## Modelling\n",
        "\n",
        "A gradient boosting decision tree model with RMSE obtained 3.23. Which is an top 30% in the leaderboard."
      ],
      "metadata": {
        "id": "n_sXnEnqAlkb"
      }
    },
    {
      "cell_type": "code",
      "source": [],
      "metadata": {
        "id": "J4mn8M5BDqDc"
      },
      "execution_count": null,
      "outputs": []
    }
  ],
  "metadata": {
    "colab": {
      "provenance": []
    },
    "kernelspec": {
      "display_name": "Python 3",
      "name": "python3"
    },
    "language_info": {
      "name": "python"
    }
  },
  "nbformat": 4,
  "nbformat_minor": 0
}